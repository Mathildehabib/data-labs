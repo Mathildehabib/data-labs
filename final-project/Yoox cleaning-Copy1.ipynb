{
 "cells": [
  {
   "cell_type": "code",
   "execution_count": 1,
   "metadata": {},
   "outputs": [],
   "source": [
    "import pandas as pd\n",
    "import warnings\n",
    "warnings.filterwarnings(\"ignore\")\n",
    "from bs4 import BeautifulSoup as BS\n",
    "import requests\n",
    "import time as t\n",
    "from selenium import webdriver"
   ]
  },
  {
   "cell_type": "code",
   "execution_count": 2,
   "metadata": {},
   "outputs": [],
   "source": [
    "yoox=pd.read_csv('yoox.csv').drop('Unnamed: 0',axis=1)"
   ]
  },
  {
   "cell_type": "code",
   "execution_count": 3,
   "metadata": {},
   "outputs": [
    {
     "data": {
      "text/html": [
       "<div>\n",
       "<style scoped>\n",
       "    .dataframe tbody tr th:only-of-type {\n",
       "        vertical-align: middle;\n",
       "    }\n",
       "\n",
       "    .dataframe tbody tr th {\n",
       "        vertical-align: top;\n",
       "    }\n",
       "\n",
       "    .dataframe thead th {\n",
       "        text-align: right;\n",
       "    }\n",
       "</style>\n",
       "<table border=\"1\" class=\"dataframe\">\n",
       "  <thead>\n",
       "    <tr style=\"text-align: right;\">\n",
       "      <th></th>\n",
       "      <th>price</th>\n",
       "      <th>category</th>\n",
       "      <th>brand</th>\n",
       "      <th>size</th>\n",
       "      <th>url</th>\n",
       "    </tr>\n",
       "  </thead>\n",
       "  <tbody>\n",
       "    <tr>\n",
       "      <th>0</th>\n",
       "      <td>&lt;div class=\"price\"&gt;\\n&lt;span class=\"fullprice fo...</td>\n",
       "      <td>&lt;div class=\"microcategory font-sans\"&gt;\\r\\n     ...</td>\n",
       "      <td>&lt;div class=\"brand font-bold text-uppercase\"&gt;8 ...</td>\n",
       "      <td>&lt;div class=\"size text-light\"&gt;\\n&lt;span class=\"aS...</td>\n",
       "      <td>&lt;a class=\"itemlink\" href=\"/fr/41925191HP/item#...</td>\n",
       "    </tr>\n",
       "    <tr>\n",
       "      <th>1</th>\n",
       "      <td>&lt;div class=\"price\"&gt;\\n&lt;span class=\"fullprice fo...</td>\n",
       "      <td>&lt;div class=\"microcategory font-sans\"&gt;\\r\\n     ...</td>\n",
       "      <td>&lt;div class=\"brand font-bold text-uppercase\"&gt;CH...</td>\n",
       "      <td>&lt;div class=\"size text-light\"&gt;\\n&lt;span class=\"aS...</td>\n",
       "      <td>&lt;a class=\"itemlink\" href=\"/fr/42761341PK/item#...</td>\n",
       "    </tr>\n",
       "    <tr>\n",
       "      <th>2</th>\n",
       "      <td>&lt;div class=\"price\"&gt;\\n&lt;span class=\"fullprice fo...</td>\n",
       "      <td>&lt;div class=\"microcategory font-sans\"&gt;\\r\\n     ...</td>\n",
       "      <td>&lt;div class=\"brand font-bold text-uppercase\"&gt;8 ...</td>\n",
       "      <td>&lt;div class=\"size text-light\"&gt;\\n&lt;span class=\"aS...</td>\n",
       "      <td>&lt;a class=\"itemlink\" href=\"/fr/35421679UB/item#...</td>\n",
       "    </tr>\n",
       "    <tr>\n",
       "      <th>3</th>\n",
       "      <td>&lt;div class=\"price\"&gt;\\n&lt;span class=\"oldprice tex...</td>\n",
       "      <td>&lt;div class=\"microcategory font-sans\"&gt;\\r\\n     ...</td>\n",
       "      <td>&lt;div class=\"brand font-bold text-uppercase\"&gt;MA...</td>\n",
       "      <td>&lt;div class=\"size text-light\"&gt;\\n&lt;span class=\"aS...</td>\n",
       "      <td>&lt;a class=\"itemlink\" href=\"/fr/14007863DH/item#...</td>\n",
       "    </tr>\n",
       "    <tr>\n",
       "      <th>4</th>\n",
       "      <td>&lt;div class=\"price\"&gt;\\n&lt;span class=\"fullprice fo...</td>\n",
       "      <td>&lt;div class=\"microcategory font-sans\"&gt;\\r\\n     ...</td>\n",
       "      <td>&lt;div class=\"brand font-bold text-uppercase\"&gt;MA...</td>\n",
       "      <td>&lt;div class=\"size text-light\"&gt;\\n&lt;span class=\"aS...</td>\n",
       "      <td>&lt;a class=\"itemlink\" href=\"/fr/35421773RV/item#...</td>\n",
       "    </tr>\n",
       "  </tbody>\n",
       "</table>\n",
       "</div>"
      ],
      "text/plain": [
       "                                               price  \\\n",
       "0  <div class=\"price\">\\n<span class=\"fullprice fo...   \n",
       "1  <div class=\"price\">\\n<span class=\"fullprice fo...   \n",
       "2  <div class=\"price\">\\n<span class=\"fullprice fo...   \n",
       "3  <div class=\"price\">\\n<span class=\"oldprice tex...   \n",
       "4  <div class=\"price\">\\n<span class=\"fullprice fo...   \n",
       "\n",
       "                                            category  \\\n",
       "0  <div class=\"microcategory font-sans\">\\r\\n     ...   \n",
       "1  <div class=\"microcategory font-sans\">\\r\\n     ...   \n",
       "2  <div class=\"microcategory font-sans\">\\r\\n     ...   \n",
       "3  <div class=\"microcategory font-sans\">\\r\\n     ...   \n",
       "4  <div class=\"microcategory font-sans\">\\r\\n     ...   \n",
       "\n",
       "                                               brand  \\\n",
       "0  <div class=\"brand font-bold text-uppercase\">8 ...   \n",
       "1  <div class=\"brand font-bold text-uppercase\">CH...   \n",
       "2  <div class=\"brand font-bold text-uppercase\">8 ...   \n",
       "3  <div class=\"brand font-bold text-uppercase\">MA...   \n",
       "4  <div class=\"brand font-bold text-uppercase\">MA...   \n",
       "\n",
       "                                                size  \\\n",
       "0  <div class=\"size text-light\">\\n<span class=\"aS...   \n",
       "1  <div class=\"size text-light\">\\n<span class=\"aS...   \n",
       "2  <div class=\"size text-light\">\\n<span class=\"aS...   \n",
       "3  <div class=\"size text-light\">\\n<span class=\"aS...   \n",
       "4  <div class=\"size text-light\">\\n<span class=\"aS...   \n",
       "\n",
       "                                                 url  \n",
       "0  <a class=\"itemlink\" href=\"/fr/41925191HP/item#...  \n",
       "1  <a class=\"itemlink\" href=\"/fr/42761341PK/item#...  \n",
       "2  <a class=\"itemlink\" href=\"/fr/35421679UB/item#...  \n",
       "3  <a class=\"itemlink\" href=\"/fr/14007863DH/item#...  \n",
       "4  <a class=\"itemlink\" href=\"/fr/35421773RV/item#...  "
      ]
     },
     "execution_count": 3,
     "metadata": {},
     "output_type": "execute_result"
    }
   ],
   "source": [
    "yoox.head()"
   ]
  },
  {
   "cell_type": "code",
   "execution_count": 4,
   "metadata": {},
   "outputs": [
    {
     "data": {
      "text/plain": [
       "'<div class=\"price\">\\n<span class=\"oldprice text-linethrough text-light\">EUR 284,00</span>\\n<span class=\"newprice font-bold\">EUR 218,00</span>\\n</div>'"
      ]
     },
     "execution_count": 4,
     "metadata": {},
     "output_type": "execute_result"
    }
   ],
   "source": [
    "yoox.price[3]"
   ]
  },
  {
   "cell_type": "code",
   "execution_count": 5,
   "metadata": {},
   "outputs": [],
   "source": [
    "yoox.price=yoox.price.str.replace('<div class=\"price\">\\n<span class=\"fullprice font-bold\">EUR ','').str.replace('<div class=\"price\">\\n<span class=\"oldprice text-linethrough text-light\">EUR ','').str.replace('</span>\\n<span class=\"newprice font-bold\">',' - ').str.replace('</span>\\n</div>','').str.replace(\"EUR \",'').str.replace('.','').str.replace(\",\",'.').str.split('-')"
   ]
  },
  {
   "cell_type": "code",
   "execution_count": 6,
   "metadata": {
    "scrolled": true
   },
   "outputs": [
    {
     "data": {
      "text/plain": [
       "0              [249.00]\n",
       "1              [511.00]\n",
       "2               [99.00]\n",
       "3    [284.00 ,  218.00]\n",
       "4              [421.00]\n",
       "Name: price, dtype: object"
      ]
     },
     "execution_count": 6,
     "metadata": {},
     "output_type": "execute_result"
    }
   ],
   "source": [
    "yoox.price.head()"
   ]
  },
  {
   "cell_type": "code",
   "execution_count": 7,
   "metadata": {},
   "outputs": [],
   "source": [
    "yoox['price_original']=yoox.price.apply(lambda x: x[0]).str.strip(' ').str.join('')"
   ]
  },
  {
   "cell_type": "code",
   "execution_count": 8,
   "metadata": {
    "scrolled": false
   },
   "outputs": [
    {
     "data": {
      "text/plain": [
       "0    249.00\n",
       "1    511.00\n",
       "2     99.00\n",
       "3    284.00\n",
       "4    421.00\n",
       "Name: price_original, dtype: object"
      ]
     },
     "execution_count": 8,
     "metadata": {},
     "output_type": "execute_result"
    }
   ],
   "source": [
    "yoox.price_original.head()"
   ]
  },
  {
   "cell_type": "code",
   "execution_count": 9,
   "metadata": {},
   "outputs": [],
   "source": [
    "yoox['price_actual']=yoox.price.apply(lambda x: x[1] if len(x)==2 else x[0]).str.strip(' ').str.join('')"
   ]
  },
  {
   "cell_type": "code",
   "execution_count": 10,
   "metadata": {},
   "outputs": [
    {
     "data": {
      "text/plain": [
       "0    249.00\n",
       "1    511.00\n",
       "2     99.00\n",
       "3    218.00\n",
       "4    421.00\n",
       "Name: price_actual, dtype: object"
      ]
     },
     "execution_count": 10,
     "metadata": {},
     "output_type": "execute_result"
    }
   ],
   "source": [
    "yoox.price_actual.head()"
   ]
  },
  {
   "cell_type": "code",
   "execution_count": 11,
   "metadata": {},
   "outputs": [],
   "source": [
    "yoox.drop('price',axis=1,inplace=True)"
   ]
  },
  {
   "cell_type": "code",
   "execution_count": 12,
   "metadata": {},
   "outputs": [
    {
     "data": {
      "text/plain": [
       "'<div class=\"microcategory font-sans\">\\r\\n                                Manteau long en velours\\r\\n                            </div>'"
      ]
     },
     "execution_count": 12,
     "metadata": {},
     "output_type": "execute_result"
    }
   ],
   "source": [
    "yoox.category[0]"
   ]
  },
  {
   "cell_type": "code",
   "execution_count": 13,
   "metadata": {},
   "outputs": [],
   "source": [
    "yoox.category=yoox.category.str.replace('<div class=\"microcategory font-sans\">\\r\\n','').str.replace('\\r\\n','').str.replace('</div>','').str.strip(' ')"
   ]
  },
  {
   "cell_type": "code",
   "execution_count": 14,
   "metadata": {},
   "outputs": [
    {
     "data": {
      "text/plain": [
       "'<div class=\"brand font-bold text-uppercase\">8 by YOOX</div>'"
      ]
     },
     "execution_count": 14,
     "metadata": {},
     "output_type": "execute_result"
    }
   ],
   "source": [
    "yoox.brand[0]"
   ]
  },
  {
   "cell_type": "code",
   "execution_count": 15,
   "metadata": {},
   "outputs": [],
   "source": [
    "yoox.brand=yoox.brand.str.replace('</div>','').str.replace('<div class=\"brand font-bold text-uppercase\">','')"
   ]
  },
  {
   "cell_type": "code",
   "execution_count": 16,
   "metadata": {},
   "outputs": [
    {
     "data": {
      "text/plain": [
       "'<div class=\"size text-light\">\\n<span class=\"aSize\">34</span>\\n<span class=\"aSize\">36</span>\\n<span class=\"aSize\">38</span>\\n<span class=\"aSize\">40</span>\\n<span class=\"aSize\">42</span>\\n</div>'"
      ]
     },
     "execution_count": 16,
     "metadata": {},
     "output_type": "execute_result"
    }
   ],
   "source": [
    "yoox['size'][0]"
   ]
  },
  {
   "cell_type": "code",
   "execution_count": 17,
   "metadata": {},
   "outputs": [],
   "source": [
    "yoox['size']=yoox['size'].str.replace('<div class=\"size text-light\">\\n<span class=\"aSize\">','').str.replace('</span>\\n</div>','').str.replace('</span>\\n<span class=\"aSize\">',',')"
   ]
  },
  {
   "cell_type": "code",
   "execution_count": 18,
   "metadata": {
    "scrolled": true
   },
   "outputs": [],
   "source": [
    "yoox['size']=yoox['size'].str.replace(\"XXXS\",\"30\").str.replace(\"XXS\",'32').str.replace('XS','34').str.replace('S','36').str.replace('XXXXL','48').str.replace('XXXL','46').str.replace('XXL','44').str.replace('XL','42').str.replace('L','40').str.replace('M','38').str.replace(\"2940\",'29L').str.replace(\"3040\",'29L').str.replace(\"3140\",'29L').str.replace(\"3240\",'29L').str.replace(\"3440\",'29L').str.replace(\"3540\",'29L').str.replace(\"3640\",'29L').str.replace(\"ONE36IZE\",'ONESIZE')"
   ]
  },
  {
   "cell_type": "code",
   "execution_count": 19,
   "metadata": {
    "scrolled": true
   },
   "outputs": [
    {
     "data": {
      "text/plain": [
       "36                                                                   17918\n",
       "38                                                                   17844\n",
       "40                                                                   11231\n",
       "34,36,38,40                                                           8456\n",
       "36,38                                                                 8348\n",
       "36,38,40                                                              7869\n",
       "34                                                                    7142\n",
       "38,40                                                                 5735\n",
       "34,36,38                                                              5442\n",
       "42                                                                    5320\n",
       "34,36,38,40,42                                                        5163\n",
       "34,36                                                                 4269\n",
       "36,38,40,42                                                           3774\n",
       "36,40                                                                 2541\n",
       "40,42                                                                 2145\n",
       "38,40,42                                                              2108\n",
       "34,36,38,40,42,44                                                     1905\n",
       "44                                                                    1648\n",
       "34,38                                                                 1624\n",
       "38,42                                                                 1275\n",
       "34,36,40                                                              1155\n",
       "ONESIZE                                                               1048\n",
       "34,38,40                                                              1023\n",
       "36,38,40,42,44                                                        1022\n",
       "32                                                                    1007\n",
       "34,40                                                                  954\n",
       "26                                                                     884\n",
       "27                                                                     810\n",
       "36,38,42                                                               765\n",
       "32,34,36,38,40                                                         734\n",
       "                                                                     ...  \n",
       "1,2,4,5                                                                  1\n",
       "23,25,27                                                                 1\n",
       "26,27,29,30,32                                                           1\n",
       "24,25,27,28,29,31                                                        1\n",
       "23,24,26,31,32                                                           1\n",
       "34,36,42,44,46                                                           1\n",
       "24,25,27,28,30                                                           1\n",
       "95 C,100 B                                                               1\n",
       "25,26,27,34                                                              1\n",
       "32,34,38,40,44,46                                                        1\n",
       "90 C,90 D,95 B,95 C                                                      1\n",
       "30,34,36,38,40,42,44                                                     1\n",
       "32,34,38,40,42,44,46,48                                                  1\n",
       "80 A,80 C,85 C,90 A,90 C,95 C                                            1\n",
       "24W-29L,25W-29L,26W-29L,28W-29L,29W-29L,30W-29L,…                        1\n",
       "0,2,3,5                                                                  1\n",
       "32,34,38,40,42,44,46                                                     1\n",
       "27W-29L,30W-29L,33W-29L                                                  1\n",
       "23,29                                                                    1\n",
       "85 B,85 C,85 D,85 E,90 B,90 C,90 D,90 E,95 B,95 C,95 D,95 E,100 D        1\n",
       "25W-29L,26W-29L,27W-29L,28W-29L,29W-29L,32W-29L,…                        1\n",
       "80 DD,85 DD,85 E,90 DD,95 C,95 D,95 DD,100 D,…                           1\n",
       "24,25,29,31,32                                                           1\n",
       "30,39                                                                    1\n",
       "25,27,28,30,31,32,33,34                                                  1\n",
       "27,28,30,31,32,33                                                        1\n",
       "34,42,48                                                                 1\n",
       "44 B                                                                     1\n",
       "26,27,28,30,32                                                           1\n",
       "90 C,90 E,95 B,95 C,95 E,100 B,100 C,100 E                               1\n",
       "Name: size, Length: 1732, dtype: int64"
      ]
     },
     "execution_count": 19,
     "metadata": {},
     "output_type": "execute_result"
    }
   ],
   "source": [
    "yoox['size'].value_counts()"
   ]
  },
  {
   "cell_type": "code",
   "execution_count": 20,
   "metadata": {},
   "outputs": [
    {
     "data": {
      "text/plain": [
       "category            0\n",
       "brand               0\n",
       "size              188\n",
       "url                 0\n",
       "price_original      0\n",
       "price_actual        0\n",
       "dtype: int64"
      ]
     },
     "execution_count": 20,
     "metadata": {},
     "output_type": "execute_result"
    }
   ],
   "source": [
    "yoox.isna().sum()"
   ]
  },
  {
   "cell_type": "code",
   "execution_count": 21,
   "metadata": {},
   "outputs": [],
   "source": [
    "yoox.dropna(inplace=True)"
   ]
  },
  {
   "cell_type": "code",
   "execution_count": 22,
   "metadata": {},
   "outputs": [],
   "source": [
    "yoox.drop(yoox[(yoox['size'].str.contains(r'[A-z]'))].index, inplace=True)"
   ]
  },
  {
   "cell_type": "code",
   "execution_count": 23,
   "metadata": {},
   "outputs": [],
   "source": [
    "yoox.drop(yoox[(yoox['size'].str.contains(r'[\\d]{3,}'))].index, inplace=True)"
   ]
  },
  {
   "cell_type": "code",
   "execution_count": 24,
   "metadata": {
    "scrolled": true
   },
   "outputs": [],
   "source": [
    "yoox.drop(yoox[(yoox['size'].str.contains(r'(8\\d)'))].index, inplace=True)"
   ]
  },
  {
   "cell_type": "code",
   "execution_count": 25,
   "metadata": {
    "scrolled": true
   },
   "outputs": [],
   "source": [
    "yoox.drop(yoox[(yoox['size'].str.contains(r'(2\\d)'))].index, inplace=True)"
   ]
  },
  {
   "cell_type": "code",
   "execution_count": 26,
   "metadata": {},
   "outputs": [],
   "source": [
    "yoox.drop(yoox[(yoox['size'].str.contains('/'))].index, inplace=True)"
   ]
  },
  {
   "cell_type": "code",
   "execution_count": 27,
   "metadata": {},
   "outputs": [],
   "source": [
    "yoox.drop(yoox[(yoox['size'].str.contains('-'))].index, inplace=True)"
   ]
  },
  {
   "cell_type": "code",
   "execution_count": 28,
   "metadata": {},
   "outputs": [],
   "source": [
    "yoox.drop(yoox[yoox['size']=='1'].index,inplace=True)"
   ]
  },
  {
   "cell_type": "code",
   "execution_count": 29,
   "metadata": {
    "scrolled": true
   },
   "outputs": [
    {
     "data": {
      "text/plain": [
       "(146774, 6)"
      ]
     },
     "execution_count": 29,
     "metadata": {},
     "output_type": "execute_result"
    }
   ],
   "source": [
    "yoox.shape"
   ]
  },
  {
   "cell_type": "code",
   "execution_count": 30,
   "metadata": {
    "scrolled": true
   },
   "outputs": [
    {
     "data": {
      "text/html": [
       "<div>\n",
       "<style scoped>\n",
       "    .dataframe tbody tr th:only-of-type {\n",
       "        vertical-align: middle;\n",
       "    }\n",
       "\n",
       "    .dataframe tbody tr th {\n",
       "        vertical-align: top;\n",
       "    }\n",
       "\n",
       "    .dataframe thead th {\n",
       "        text-align: right;\n",
       "    }\n",
       "</style>\n",
       "<table border=\"1\" class=\"dataframe\">\n",
       "  <thead>\n",
       "    <tr style=\"text-align: right;\">\n",
       "      <th></th>\n",
       "      <th>category</th>\n",
       "      <th>brand</th>\n",
       "      <th>size</th>\n",
       "      <th>url</th>\n",
       "      <th>price_original</th>\n",
       "      <th>price_actual</th>\n",
       "    </tr>\n",
       "  </thead>\n",
       "  <tbody>\n",
       "    <tr>\n",
       "      <th>0</th>\n",
       "      <td>Manteau long en velours</td>\n",
       "      <td>8 by YOOX</td>\n",
       "      <td>34,36,38,40,42</td>\n",
       "      <td>&lt;a class=\"itemlink\" href=\"/fr/41925191HP/item#...</td>\n",
       "      <td>249.00</td>\n",
       "      <td>249.00</td>\n",
       "    </tr>\n",
       "    <tr>\n",
       "      <th>1</th>\n",
       "      <td>Chemises en jean</td>\n",
       "      <td>CHLOÉ</td>\n",
       "      <td>34,36,38</td>\n",
       "      <td>&lt;a class=\"itemlink\" href=\"/fr/42761341PK/item#...</td>\n",
       "      <td>511.00</td>\n",
       "      <td>511.00</td>\n",
       "    </tr>\n",
       "    <tr>\n",
       "      <th>2</th>\n",
       "      <td>Jupe mi-longue à motif écossais</td>\n",
       "      <td>8 by YOOX</td>\n",
       "      <td>34,36,38,40,42</td>\n",
       "      <td>&lt;a class=\"itemlink\" href=\"/fr/35421679UB/item#...</td>\n",
       "      <td>99.00</td>\n",
       "      <td>99.00</td>\n",
       "    </tr>\n",
       "    <tr>\n",
       "      <th>3</th>\n",
       "      <td>Pullovers</td>\n",
       "      <td>MARNI</td>\n",
       "      <td>36</td>\n",
       "      <td>&lt;a class=\"itemlink\" href=\"/fr/14007863DH/item#...</td>\n",
       "      <td>284.00</td>\n",
       "      <td>218.00</td>\n",
       "    </tr>\n",
       "    <tr>\n",
       "      <th>4</th>\n",
       "      <td>Jupes mi-longues</td>\n",
       "      <td>MARNI</td>\n",
       "      <td>34,36,38,42</td>\n",
       "      <td>&lt;a class=\"itemlink\" href=\"/fr/35421773RV/item#...</td>\n",
       "      <td>421.00</td>\n",
       "      <td>421.00</td>\n",
       "    </tr>\n",
       "  </tbody>\n",
       "</table>\n",
       "</div>"
      ],
      "text/plain": [
       "                          category      brand            size  \\\n",
       "0          Manteau long en velours  8 by YOOX  34,36,38,40,42   \n",
       "1                 Chemises en jean      CHLOÉ        34,36,38   \n",
       "2  Jupe mi-longue à motif écossais  8 by YOOX  34,36,38,40,42   \n",
       "3                        Pullovers      MARNI              36   \n",
       "4                 Jupes mi-longues      MARNI     34,36,38,42   \n",
       "\n",
       "                                                 url price_original  \\\n",
       "0  <a class=\"itemlink\" href=\"/fr/41925191HP/item#...         249.00   \n",
       "1  <a class=\"itemlink\" href=\"/fr/42761341PK/item#...         511.00   \n",
       "2  <a class=\"itemlink\" href=\"/fr/35421679UB/item#...          99.00   \n",
       "3  <a class=\"itemlink\" href=\"/fr/14007863DH/item#...         284.00   \n",
       "4  <a class=\"itemlink\" href=\"/fr/35421773RV/item#...         421.00   \n",
       "\n",
       "  price_actual  \n",
       "0       249.00  \n",
       "1       511.00  \n",
       "2        99.00  \n",
       "3       218.00  \n",
       "4       421.00  "
      ]
     },
     "execution_count": 30,
     "metadata": {},
     "output_type": "execute_result"
    }
   ],
   "source": [
    "yoox.head()"
   ]
  },
  {
   "cell_type": "code",
   "execution_count": 31,
   "metadata": {},
   "outputs": [],
   "source": [
    "yoox.reset_index(drop=True,inplace=True)"
   ]
  },
  {
   "cell_type": "code",
   "execution_count": 32,
   "metadata": {},
   "outputs": [],
   "source": [
    "yoox['size']=yoox['size'].str.replace(\"'\",'')"
   ]
  },
  {
   "cell_type": "code",
   "execution_count": 33,
   "metadata": {},
   "outputs": [],
   "source": [
    "size_list=['30','32','34','36','38','40','42','44','46','48']\n",
    "yoox['size']=yoox['size'].str.split(',')"
   ]
  },
  {
   "cell_type": "code",
   "execution_count": 34,
   "metadata": {},
   "outputs": [],
   "source": [
    "yoox['size_check']=yoox['size'].apply(lambda x: min([i in size_list for i in x]))"
   ]
  },
  {
   "cell_type": "code",
   "execution_count": 35,
   "metadata": {},
   "outputs": [
    {
     "data": {
      "text/plain": [
       "True     142909\n",
       "False      3865\n",
       "Name: size_check, dtype: int64"
      ]
     },
     "execution_count": 35,
     "metadata": {},
     "output_type": "execute_result"
    }
   ],
   "source": [
    "yoox.size_check.value_counts()"
   ]
  },
  {
   "cell_type": "code",
   "execution_count": 36,
   "metadata": {},
   "outputs": [],
   "source": [
    "yoox.drop(yoox[yoox['size_check']==False].index,inplace=True)"
   ]
  },
  {
   "cell_type": "code",
   "execution_count": 37,
   "metadata": {},
   "outputs": [],
   "source": [
    "yoox.drop('size_check',axis=1,inplace=True)"
   ]
  },
  {
   "cell_type": "code",
   "execution_count": 38,
   "metadata": {
    "scrolled": true
   },
   "outputs": [],
   "source": [
    "yoox['size_30']=yoox['size'].apply(lambda x: str([1 for i in x if i=='30']).strip('[]') or 0 ).astype(int)\n",
    "yoox['size_32']=yoox['size'].apply(lambda x: str([1 for i in x if i=='32']).strip('[]') or 0 ).astype(int)\n",
    "yoox['size_34']=yoox['size'].apply(lambda x: str([1 for i in x if i=='34']).strip('[]') or 0 ).astype(int)\n",
    "yoox['size_36']=yoox['size'].apply(lambda x: str([1 for i in x if i=='36']).strip('[]') or 0 ).astype(int)\n",
    "yoox['size_38']=yoox['size'].apply(lambda x: str([1 for i in x if i=='38']).strip('[]') or 0 ).astype(int)\n",
    "yoox['size_40']=yoox['size'].apply(lambda x: str([1 for i in x if i=='40']).strip('[]') or 0 ).astype(int)\n",
    "yoox['size_42']=yoox['size'].apply(lambda x: str([1 for i in x if i=='42']).strip('[]') or 0 ).astype(int)\n",
    "yoox['size_44']=yoox['size'].apply(lambda x: str([1 for i in x if i=='44']).strip('[]') or 0 ).astype(int)\n",
    "yoox['size_46']=yoox['size'].apply(lambda x: str([1 for i in x if i=='46']).strip('[]') or 0 ).astype(int)\n",
    "yoox['size_48']=yoox['size'].apply(lambda x: str([1 for i in x if i=='48']).strip('[]') or 0 ).astype(int)"
   ]
  },
  {
   "cell_type": "code",
   "execution_count": 39,
   "metadata": {},
   "outputs": [],
   "source": [
    "yoox.drop('size',axis=1,inplace=True)"
   ]
  },
  {
   "cell_type": "code",
   "execution_count": 40,
   "metadata": {
    "scrolled": true
   },
   "outputs": [
    {
     "data": {
      "text/plain": [
       "Index(['category', 'brand', 'url', 'price_original', 'price_actual', 'size_30',\n",
       "       'size_32', 'size_34', 'size_36', 'size_38', 'size_40', 'size_42',\n",
       "       'size_44', 'size_46', 'size_48'],\n",
       "      dtype='object')"
      ]
     },
     "execution_count": 40,
     "metadata": {},
     "output_type": "execute_result"
    }
   ],
   "source": [
    "yoox.columns"
   ]
  },
  {
   "cell_type": "code",
   "execution_count": 41,
   "metadata": {
    "scrolled": true
   },
   "outputs": [
    {
     "data": {
      "text/plain": [
       "category          object\n",
       "brand             object\n",
       "url               object\n",
       "price_original    object\n",
       "price_actual      object\n",
       "size_30            int32\n",
       "size_32            int32\n",
       "size_34            int32\n",
       "size_36            int32\n",
       "size_38            int32\n",
       "size_40            int32\n",
       "size_42            int32\n",
       "size_44            int32\n",
       "size_46            int32\n",
       "size_48            int32\n",
       "dtype: object"
      ]
     },
     "execution_count": 41,
     "metadata": {},
     "output_type": "execute_result"
    }
   ],
   "source": [
    "yoox.dtypes"
   ]
  },
  {
   "cell_type": "code",
   "execution_count": 42,
   "metadata": {},
   "outputs": [
    {
     "data": {
      "text/plain": [
       "0    137030\n",
       "1      5879\n",
       "Name: size_32, dtype: int64"
      ]
     },
     "execution_count": 42,
     "metadata": {},
     "output_type": "execute_result"
    }
   ],
   "source": [
    "yoox['size_32'].value_counts()"
   ]
  },
  {
   "cell_type": "code",
   "execution_count": 43,
   "metadata": {
    "scrolled": true
   },
   "outputs": [
    {
     "data": {
      "text/plain": [
       "<div class=\"price\">\\n<div>ARTICLE ÉPUISÉ</div>\\n</div>    167\n",
       "Name: price_original, dtype: int64"
      ]
     },
     "execution_count": 43,
     "metadata": {},
     "output_type": "execute_result"
    }
   ],
   "source": [
    "yoox.price_original[yoox.price_original.str.contains(r'[A-z]')].value_counts()"
   ]
  },
  {
   "cell_type": "code",
   "execution_count": 44,
   "metadata": {},
   "outputs": [],
   "source": [
    "yoox.drop(yoox[yoox.price_original.str.contains(r'[A-z]')].index,inplace=True)"
   ]
  },
  {
   "cell_type": "code",
   "execution_count": 45,
   "metadata": {},
   "outputs": [],
   "source": [
    "yoox[['price_original', 'price_actual']]=yoox[['price_original', 'price_actual']].astype('float')"
   ]
  },
  {
   "cell_type": "code",
   "execution_count": 46,
   "metadata": {},
   "outputs": [
    {
     "data": {
      "text/plain": [
       "category           object\n",
       "brand              object\n",
       "url                object\n",
       "price_original    float64\n",
       "price_actual      float64\n",
       "size_30             int32\n",
       "size_32             int32\n",
       "size_34             int32\n",
       "size_36             int32\n",
       "size_38             int32\n",
       "size_40             int32\n",
       "size_42             int32\n",
       "size_44             int32\n",
       "size_46             int32\n",
       "size_48             int32\n",
       "dtype: object"
      ]
     },
     "execution_count": 46,
     "metadata": {},
     "output_type": "execute_result"
    }
   ],
   "source": [
    "yoox.dtypes"
   ]
  },
  {
   "cell_type": "code",
   "execution_count": 47,
   "metadata": {},
   "outputs": [],
   "source": [
    "yoox['discount_rate']=round(1-(yoox.price_actual/yoox.price_original),2)"
   ]
  },
  {
   "cell_type": "code",
   "execution_count": 48,
   "metadata": {},
   "outputs": [
    {
     "data": {
      "text/plain": [
       "0.00    74017\n",
       "0.50     2837\n",
       "0.60     2644\n",
       "0.56     2237\n",
       "0.58     1987\n",
       "Name: discount_rate, dtype: int64"
      ]
     },
     "execution_count": 48,
     "metadata": {},
     "output_type": "execute_result"
    }
   ],
   "source": [
    "yoox['discount_rate'].value_counts().head()"
   ]
  },
  {
   "cell_type": "code",
   "execution_count": 49,
   "metadata": {},
   "outputs": [],
   "source": [
    "yoox['new_category']='0'"
   ]
  },
  {
   "cell_type": "code",
   "execution_count": 50,
   "metadata": {
    "scrolled": true
   },
   "outputs": [
    {
     "data": {
      "text/plain": [
       "Pantalons                                                   21743\n",
       "Robes courtes                                               11895\n",
       "Pantalons en jean                                            9777\n",
       "Blouses                                                      8617\n",
       "Pullovers                                                    7898\n",
       "T-shirts                                                     6834\n",
       "Tops                                                         6265\n",
       "Vestes                                                       5658\n",
       "Modèle fourreau                                              4392\n",
       "Cardigans                                                    3514\n",
       "Robes longues                                                3441\n",
       "Robes aux genoux                                             3424\n",
       "Jupes au genou                                               3168\n",
       "Sweat-shirts                                                 3051\n",
       "Jupes mi-longues                                             2884\n",
       "Chemises et chemisiers de couleur unie                       2877\n",
       "Pardessus                                                    2018\n",
       "Robes mi-longues                                             1924\n",
       "Combinaisons/Une pièce                                       1886\n",
       "Maillots deux pièces                                         1780\n",
       "Modèle chemisier                                             1756\n",
       "Manteaux longs                                               1654\n",
       "Blousons                                                     1562\n",
       "Jupes-culottes                                               1451\n",
       "Cols roulés                                                  1409\n",
       "Jupes longues                                                1401\n",
       "Mini-jupes                                                   1368\n",
       "Shorts et Bermudas                                           1265\n",
       "Chemises à rayures                                            858\n",
       "Chemises et chemisiers fantaisie                              733\n",
       "                                                            ...  \n",
       "Pantalon palazzo en satin                                       1\n",
       "Pull à col roulé 100 % laine mérinos                            1\n",
       "Jupe longueur genou 100 % coton                                 1\n",
       "Short 100 % soie avec imprimé floral, Made in Italy             1\n",
       "Jupe plissée à motif multicolore                                1\n",
       "Pantalon taille haute à motif écossais                          1\n",
       "Pantalon en gabardine de coton                                  1\n",
       "Pull à manches cloche                                           1\n",
       "Chemise en popeline 100 % coton, Made in Italy                  1\n",
       "Blazer croisé court en crêpe, Made in Italy                     1\n",
       "Sweat-shirt court avec cordon de serrage                        1\n",
       "Jupe mi-longue 100 % coton                                      1\n",
       "Jupe mi-longue 100 % laine mérinos                              1\n",
       "Pantalon palazzo 100 % coton                                    1\n",
       "Cardigan en maille                                              1\n",
       "Minijupe plissée 100 % coton, Made in Italy                     1\n",
       "Sweat-shirt sportif avec fermeture éclair                       1\n",
       "Top en crêpe à volant, Made in Italy                            1\n",
       "Blouson matelassé 100 % cuir                                    1\n",
       "Veste croisée en satin                                          1\n",
       "Chemise en flanelle                                             1\n",
       "Robe bleu marine à détails drapés, fabrication italienne        1\n",
       "Pull à col roulé en maille légère                               1\n",
       "Pull manches courtes                                            1\n",
       "Short en tissu technique avec cordon coulissant                 1\n",
       "Pull ras-du-cou 100 % cachemire, Made in Italy                  1\n",
       "Perfecto 100 % cuir, Made in Italy                              1\n",
       "Pantalon classique à taille haute                               1\n",
       "Flacon à huile                                                  1\n",
       "Ouvre-boîte                                                     1\n",
       "Name: category, Length: 360, dtype: int64"
      ]
     },
     "execution_count": 50,
     "metadata": {},
     "output_type": "execute_result"
    }
   ],
   "source": [
    "yoox.category[yoox.new_category.str.contains('0')].value_counts()"
   ]
  },
  {
   "cell_type": "code",
   "execution_count": 51,
   "metadata": {},
   "outputs": [],
   "source": [
    "yoox['new_category'][yoox.category.str.contains('Pantalon')]='Trousers'\n",
    "yoox['new_category'][yoox.category.str.contains('Robes courtes')]='Mini Dress'\n",
    "yoox['new_category'][yoox.category.str.contains('Robes mi-longues')]='Midi Dress'\n",
    "yoox['new_category'][yoox.category.str.contains('Robes au genou')| yoox.category.str.contains('Robes aux genoux')]='Knee Length Dress'\n",
    "yoox['new_category'][yoox.category.str.contains('Robes longues')|yoox.category.str.contains('Robe longue')]='Maxi Dress'\n",
    "yoox['new_category'][yoox.category.str.contains('Modèle fourreau')]='Bodycon Dress'\n",
    "yoox['new_category'][yoox.category.str.contains('Jupes courtes')|yoox.category.str.contains('Mini-jupes')]='Mini Skirt'\n",
    "yoox['new_category'][yoox.category.str.contains('Jupes mi-longues')]='Midi Skirt'\n",
    "yoox['new_category'][yoox.category.str.contains('Jupes au genou')| yoox.category.str.contains('Robes aux genoux')]='Knee Length Skirt'\n",
    "yoox['new_category'][yoox.category.str.contains('Jupes longues')]='Maxi Skirt'\n",
    "yoox['new_category'][yoox.category.str.contains('Pantalons en jean')]='Denim Pants'\n",
    "yoox['new_category'][yoox.category.str.contains('Blouse')|yoox.category.str.contains('Modèle chemisier')|yoox.category.str.contains('Chemisier')]='Blouses'\n",
    "yoox['new_category'][yoox.category.str.contains('Pull')]='Jumpers'\n",
    "yoox['new_category'][yoox.category.str.contains('T-shirt')]='T-shirts'\n",
    "yoox['new_category'][yoox.category.str.contains('Tops')]='Tops'\n",
    "yoox['new_category'][yoox.category.str.contains('Veste')]='Jackets'\n",
    "yoox['new_category'][yoox.category.str.contains('Cardigan')]='Cardigans'\n",
    "yoox['new_category'][yoox.category.str.contains('Sweat-shirts')]='Hoodies'\n",
    "yoox['new_category'][yoox.category.str.contains('Chemise')]='Shirts'\n",
    "yoox['new_category'][yoox.category.str.contains('Combinaison')]='Jumpsuits'\n",
    "yoox['new_category'][yoox.category.str.contains('Cardigan')]='Cardigans'\n",
    "yoox['new_category'][yoox.category.str.contains('Maillots deux pièces')|yoox.category.str.contains('Bikini')]='Bikini'\n",
    "yoox['new_category'][yoox.category.str.contains('Caban et veste croisée')|yoox.category.str.contains('Manteau')]='Coats'\n",
    "yoox['new_category'][yoox.category.str.contains('Manteaux longs')]='Long Coats'\n",
    "yoox['new_category'][yoox.category.str.contains('Pardessus')|yoox.category.str.contains('Trench')]='Trench Coats'\n",
    "yoox['new_category'][yoox.category.str.contains('Jupes-culottes')]='Culottes'\n",
    "yoox['new_category'][yoox.category.str.contains('Cols roulés')]='Turtle Necks'\n",
    "yoox['new_category'][yoox.category.str.contains('Blouson')|yoox.category.str.contains('Bomber')]='Bomber Jackets'\n",
    "yoox['new_category'][yoox.category.str.contains('Pyjama')]='Pyjamas'\n",
    "yoox['new_category'][yoox.category.str.contains('Short')]='Shorts'\n",
    "yoox['new_category'][yoox.category.str.contains('Maillots une pièce')]='One piece Swimsuit'\n",
    "yoox['new_category'][yoox.category.str.contains('Doudoune')]='Down-coat'\n"
   ]
  },
  {
   "cell_type": "code",
   "execution_count": 52,
   "metadata": {
    "scrolled": true
   },
   "outputs": [
    {
     "data": {
      "text/plain": [
       "Trousers              22094\n",
       "Mini Dress            11895\n",
       "Blouses               10387\n",
       "Denim Pants            9777\n",
       "Jumpers                8652\n",
       "0                      6876\n",
       "T-shirts               6847\n",
       "Tops                   6839\n",
       "Shirts                 6611\n",
       "Knee Length Skirt      6592\n",
       "Jackets                5695\n",
       "Bodycon Dress          4392\n",
       "Bomber Jackets         4177\n",
       "Cardigans              3518\n",
       "Maxi Dress             3453\n",
       "Hoodies                3051\n",
       "Midi Skirt             2884\n",
       "Trench Coats           2023\n",
       "Jumpsuits              1969\n",
       "Midi Dress             1924\n",
       "Bikini                 1780\n",
       "Shorts                 1772\n",
       "Long Coats             1654\n",
       "Culottes               1451\n",
       "Turtle Necks           1409\n",
       "Maxi Skirt             1401\n",
       "Mini Skirt             1368\n",
       "Coats                   709\n",
       "Down-coat               587\n",
       "One piece Swimsuit      485\n",
       "Pyjamas                 470\n",
       "Name: new_category, dtype: int64"
      ]
     },
     "execution_count": 52,
     "metadata": {},
     "output_type": "execute_result"
    }
   ],
   "source": [
    "yoox['new_category'].value_counts()"
   ]
  },
  {
   "cell_type": "code",
   "execution_count": 53,
   "metadata": {},
   "outputs": [],
   "source": [
    "yoox.drop(yoox[yoox.new_category.str.contains('0')].index,inplace=True)"
   ]
  },
  {
   "cell_type": "code",
   "execution_count": 54,
   "metadata": {},
   "outputs": [
    {
     "data": {
      "text/plain": [
       "(135866, 17)"
      ]
     },
     "execution_count": 54,
     "metadata": {},
     "output_type": "execute_result"
    }
   ],
   "source": [
    "yoox.shape"
   ]
  },
  {
   "cell_type": "code",
   "execution_count": 55,
   "metadata": {},
   "outputs": [],
   "source": [
    "yoox.drop(['category','price_original'],axis=1,inplace=True)"
   ]
  },
  {
   "cell_type": "code",
   "execution_count": 56,
   "metadata": {},
   "outputs": [],
   "source": [
    "yoox.columns=['brand', 'url', 'price_actual', 'size_30', 'size_32',\n",
    "       'size_34', 'size_36', 'size_38', 'size_40', 'size_42', 'size_44',\n",
    "       'size_46', 'size_48', 'discount_rate', '']"
   ]
  },
  {
   "cell_type": "code",
   "execution_count": 57,
   "metadata": {},
   "outputs": [],
   "source": [
    "yoox=pd.get_dummies(data=yoox,columns=[''],drop_first=True)"
   ]
  },
  {
   "cell_type": "code",
   "execution_count": 58,
   "metadata": {},
   "outputs": [
    {
     "data": {
      "text/html": [
       "<div>\n",
       "<style scoped>\n",
       "    .dataframe tbody tr th:only-of-type {\n",
       "        vertical-align: middle;\n",
       "    }\n",
       "\n",
       "    .dataframe tbody tr th {\n",
       "        vertical-align: top;\n",
       "    }\n",
       "\n",
       "    .dataframe thead th {\n",
       "        text-align: right;\n",
       "    }\n",
       "</style>\n",
       "<table border=\"1\" class=\"dataframe\">\n",
       "  <thead>\n",
       "    <tr style=\"text-align: right;\">\n",
       "      <th></th>\n",
       "      <th>brand</th>\n",
       "      <th>url</th>\n",
       "      <th>price_actual</th>\n",
       "      <th>size_30</th>\n",
       "      <th>size_32</th>\n",
       "      <th>size_34</th>\n",
       "      <th>size_36</th>\n",
       "      <th>size_38</th>\n",
       "      <th>size_40</th>\n",
       "      <th>size_42</th>\n",
       "      <th>...</th>\n",
       "      <th>_Mini Skirt</th>\n",
       "      <th>_One piece Swimsuit</th>\n",
       "      <th>_Pyjamas</th>\n",
       "      <th>_Shirts</th>\n",
       "      <th>_Shorts</th>\n",
       "      <th>_T-shirts</th>\n",
       "      <th>_Tops</th>\n",
       "      <th>_Trench Coats</th>\n",
       "      <th>_Trousers</th>\n",
       "      <th>_Turtle Necks</th>\n",
       "    </tr>\n",
       "  </thead>\n",
       "  <tbody>\n",
       "    <tr>\n",
       "      <th>0</th>\n",
       "      <td>8 by YOOX</td>\n",
       "      <td>&lt;a class=\"itemlink\" href=\"/fr/41925191HP/item#...</td>\n",
       "      <td>249.0</td>\n",
       "      <td>0</td>\n",
       "      <td>0</td>\n",
       "      <td>1</td>\n",
       "      <td>1</td>\n",
       "      <td>1</td>\n",
       "      <td>1</td>\n",
       "      <td>1</td>\n",
       "      <td>...</td>\n",
       "      <td>0</td>\n",
       "      <td>0</td>\n",
       "      <td>0</td>\n",
       "      <td>0</td>\n",
       "      <td>0</td>\n",
       "      <td>0</td>\n",
       "      <td>0</td>\n",
       "      <td>0</td>\n",
       "      <td>0</td>\n",
       "      <td>0</td>\n",
       "    </tr>\n",
       "    <tr>\n",
       "      <th>1</th>\n",
       "      <td>CHLOÉ</td>\n",
       "      <td>&lt;a class=\"itemlink\" href=\"/fr/42761341PK/item#...</td>\n",
       "      <td>511.0</td>\n",
       "      <td>0</td>\n",
       "      <td>0</td>\n",
       "      <td>1</td>\n",
       "      <td>1</td>\n",
       "      <td>1</td>\n",
       "      <td>0</td>\n",
       "      <td>0</td>\n",
       "      <td>...</td>\n",
       "      <td>0</td>\n",
       "      <td>0</td>\n",
       "      <td>0</td>\n",
       "      <td>1</td>\n",
       "      <td>0</td>\n",
       "      <td>0</td>\n",
       "      <td>0</td>\n",
       "      <td>0</td>\n",
       "      <td>0</td>\n",
       "      <td>0</td>\n",
       "    </tr>\n",
       "    <tr>\n",
       "      <th>3</th>\n",
       "      <td>MARNI</td>\n",
       "      <td>&lt;a class=\"itemlink\" href=\"/fr/14007863DH/item#...</td>\n",
       "      <td>218.0</td>\n",
       "      <td>0</td>\n",
       "      <td>0</td>\n",
       "      <td>0</td>\n",
       "      <td>1</td>\n",
       "      <td>0</td>\n",
       "      <td>0</td>\n",
       "      <td>0</td>\n",
       "      <td>...</td>\n",
       "      <td>0</td>\n",
       "      <td>0</td>\n",
       "      <td>0</td>\n",
       "      <td>0</td>\n",
       "      <td>0</td>\n",
       "      <td>0</td>\n",
       "      <td>0</td>\n",
       "      <td>0</td>\n",
       "      <td>0</td>\n",
       "      <td>0</td>\n",
       "    </tr>\n",
       "    <tr>\n",
       "      <th>4</th>\n",
       "      <td>MARNI</td>\n",
       "      <td>&lt;a class=\"itemlink\" href=\"/fr/35421773RV/item#...</td>\n",
       "      <td>421.0</td>\n",
       "      <td>0</td>\n",
       "      <td>0</td>\n",
       "      <td>1</td>\n",
       "      <td>1</td>\n",
       "      <td>1</td>\n",
       "      <td>0</td>\n",
       "      <td>1</td>\n",
       "      <td>...</td>\n",
       "      <td>0</td>\n",
       "      <td>0</td>\n",
       "      <td>0</td>\n",
       "      <td>0</td>\n",
       "      <td>0</td>\n",
       "      <td>0</td>\n",
       "      <td>0</td>\n",
       "      <td>0</td>\n",
       "      <td>0</td>\n",
       "      <td>0</td>\n",
       "    </tr>\n",
       "    <tr>\n",
       "      <th>5</th>\n",
       "      <td>8 by YOOX</td>\n",
       "      <td>&lt;a class=\"itemlink\" href=\"/fr/13381785CM/item#...</td>\n",
       "      <td>119.0</td>\n",
       "      <td>0</td>\n",
       "      <td>0</td>\n",
       "      <td>1</td>\n",
       "      <td>1</td>\n",
       "      <td>1</td>\n",
       "      <td>1</td>\n",
       "      <td>1</td>\n",
       "      <td>...</td>\n",
       "      <td>0</td>\n",
       "      <td>0</td>\n",
       "      <td>0</td>\n",
       "      <td>0</td>\n",
       "      <td>0</td>\n",
       "      <td>0</td>\n",
       "      <td>0</td>\n",
       "      <td>0</td>\n",
       "      <td>1</td>\n",
       "      <td>0</td>\n",
       "    </tr>\n",
       "  </tbody>\n",
       "</table>\n",
       "<p>5 rows × 43 columns</p>\n",
       "</div>"
      ],
      "text/plain": [
       "       brand                                                url  price_actual  \\\n",
       "0  8 by YOOX  <a class=\"itemlink\" href=\"/fr/41925191HP/item#...         249.0   \n",
       "1      CHLOÉ  <a class=\"itemlink\" href=\"/fr/42761341PK/item#...         511.0   \n",
       "3      MARNI  <a class=\"itemlink\" href=\"/fr/14007863DH/item#...         218.0   \n",
       "4      MARNI  <a class=\"itemlink\" href=\"/fr/35421773RV/item#...         421.0   \n",
       "5  8 by YOOX  <a class=\"itemlink\" href=\"/fr/13381785CM/item#...         119.0   \n",
       "\n",
       "   size_30  size_32  size_34  size_36  size_38  size_40  size_42  ...  \\\n",
       "0        0        0        1        1        1        1        1  ...   \n",
       "1        0        0        1        1        1        0        0  ...   \n",
       "3        0        0        0        1        0        0        0  ...   \n",
       "4        0        0        1        1        1        0        1  ...   \n",
       "5        0        0        1        1        1        1        1  ...   \n",
       "\n",
       "   _Mini Skirt  _One piece Swimsuit  _Pyjamas  _Shirts  _Shorts  _T-shirts  \\\n",
       "0            0                    0         0        0        0          0   \n",
       "1            0                    0         0        1        0          0   \n",
       "3            0                    0         0        0        0          0   \n",
       "4            0                    0         0        0        0          0   \n",
       "5            0                    0         0        0        0          0   \n",
       "\n",
       "   _Tops  _Trench Coats  _Trousers  _Turtle Necks  \n",
       "0      0              0          0              0  \n",
       "1      0              0          0              0  \n",
       "3      0              0          0              0  \n",
       "4      0              0          0              0  \n",
       "5      0              0          1              0  \n",
       "\n",
       "[5 rows x 43 columns]"
      ]
     },
     "execution_count": 58,
     "metadata": {},
     "output_type": "execute_result"
    }
   ],
   "source": [
    "yoox.head()"
   ]
  },
  {
   "cell_type": "code",
   "execution_count": 59,
   "metadata": {},
   "outputs": [
    {
     "data": {
      "text/plain": [
       "'<a class=\"itemlink\" href=\"/fr/41925191HP/item#dept=clothingwomen&amp;sts=SearchResult\">\\n<div class=\"brand font-bold text-uppercase\">8 by YOOX</div>\\n<div class=\"microcategory font-sans\">\\r\\n                                Manteau long en velours\\r\\n                            </div>\\n<div class=\"price\">\\n<span class=\"fullprice font-bold\">EUR 249,00</span>\\n</div>\\n<div class=\"colorSize\">\\n<div class=\"size text-light\">\\n<span class=\"aSize\">34</span>\\n<span class=\"aSize\">36</span>\\n<span class=\"aSize\">38</span>\\n<span class=\"aSize\">40</span>\\n<span class=\"aSize\">42</span>\\n</div>\\n</div>\\n</a>'"
      ]
     },
     "execution_count": 59,
     "metadata": {},
     "output_type": "execute_result"
    }
   ],
   "source": [
    "yoox.url[0]"
   ]
  },
  {
   "cell_type": "code",
   "execution_count": 60,
   "metadata": {},
   "outputs": [],
   "source": [
    "yoox.url=yoox.url.str.extract(r'href=\"(.*item?)#').apply(lambda x: 'http://yoox.com'+x)"
   ]
  },
  {
   "cell_type": "code",
   "execution_count": 61,
   "metadata": {},
   "outputs": [
    {
     "data": {
      "text/html": [
       "<div>\n",
       "<style scoped>\n",
       "    .dataframe tbody tr th:only-of-type {\n",
       "        vertical-align: middle;\n",
       "    }\n",
       "\n",
       "    .dataframe tbody tr th {\n",
       "        vertical-align: top;\n",
       "    }\n",
       "\n",
       "    .dataframe thead th {\n",
       "        text-align: right;\n",
       "    }\n",
       "</style>\n",
       "<table border=\"1\" class=\"dataframe\">\n",
       "  <thead>\n",
       "    <tr style=\"text-align: right;\">\n",
       "      <th></th>\n",
       "      <th>brand</th>\n",
       "      <th>url</th>\n",
       "      <th>price_actual</th>\n",
       "      <th>size_30</th>\n",
       "      <th>size_32</th>\n",
       "      <th>size_34</th>\n",
       "      <th>size_36</th>\n",
       "      <th>size_38</th>\n",
       "      <th>size_40</th>\n",
       "      <th>size_42</th>\n",
       "      <th>...</th>\n",
       "      <th>_Mini Skirt</th>\n",
       "      <th>_One piece Swimsuit</th>\n",
       "      <th>_Pyjamas</th>\n",
       "      <th>_Shirts</th>\n",
       "      <th>_Shorts</th>\n",
       "      <th>_T-shirts</th>\n",
       "      <th>_Tops</th>\n",
       "      <th>_Trench Coats</th>\n",
       "      <th>_Trousers</th>\n",
       "      <th>_Turtle Necks</th>\n",
       "    </tr>\n",
       "  </thead>\n",
       "  <tbody>\n",
       "    <tr>\n",
       "      <th>0</th>\n",
       "      <td>8 by YOOX</td>\n",
       "      <td>http://yoox.com/fr/41925191HP/item</td>\n",
       "      <td>249.0</td>\n",
       "      <td>0</td>\n",
       "      <td>0</td>\n",
       "      <td>1</td>\n",
       "      <td>1</td>\n",
       "      <td>1</td>\n",
       "      <td>1</td>\n",
       "      <td>1</td>\n",
       "      <td>...</td>\n",
       "      <td>0</td>\n",
       "      <td>0</td>\n",
       "      <td>0</td>\n",
       "      <td>0</td>\n",
       "      <td>0</td>\n",
       "      <td>0</td>\n",
       "      <td>0</td>\n",
       "      <td>0</td>\n",
       "      <td>0</td>\n",
       "      <td>0</td>\n",
       "    </tr>\n",
       "    <tr>\n",
       "      <th>1</th>\n",
       "      <td>CHLOÉ</td>\n",
       "      <td>http://yoox.com/fr/42761341PK/item</td>\n",
       "      <td>511.0</td>\n",
       "      <td>0</td>\n",
       "      <td>0</td>\n",
       "      <td>1</td>\n",
       "      <td>1</td>\n",
       "      <td>1</td>\n",
       "      <td>0</td>\n",
       "      <td>0</td>\n",
       "      <td>...</td>\n",
       "      <td>0</td>\n",
       "      <td>0</td>\n",
       "      <td>0</td>\n",
       "      <td>1</td>\n",
       "      <td>0</td>\n",
       "      <td>0</td>\n",
       "      <td>0</td>\n",
       "      <td>0</td>\n",
       "      <td>0</td>\n",
       "      <td>0</td>\n",
       "    </tr>\n",
       "    <tr>\n",
       "      <th>3</th>\n",
       "      <td>MARNI</td>\n",
       "      <td>http://yoox.com/fr/14007863DH/item</td>\n",
       "      <td>218.0</td>\n",
       "      <td>0</td>\n",
       "      <td>0</td>\n",
       "      <td>0</td>\n",
       "      <td>1</td>\n",
       "      <td>0</td>\n",
       "      <td>0</td>\n",
       "      <td>0</td>\n",
       "      <td>...</td>\n",
       "      <td>0</td>\n",
       "      <td>0</td>\n",
       "      <td>0</td>\n",
       "      <td>0</td>\n",
       "      <td>0</td>\n",
       "      <td>0</td>\n",
       "      <td>0</td>\n",
       "      <td>0</td>\n",
       "      <td>0</td>\n",
       "      <td>0</td>\n",
       "    </tr>\n",
       "    <tr>\n",
       "      <th>4</th>\n",
       "      <td>MARNI</td>\n",
       "      <td>http://yoox.com/fr/35421773RV/item</td>\n",
       "      <td>421.0</td>\n",
       "      <td>0</td>\n",
       "      <td>0</td>\n",
       "      <td>1</td>\n",
       "      <td>1</td>\n",
       "      <td>1</td>\n",
       "      <td>0</td>\n",
       "      <td>1</td>\n",
       "      <td>...</td>\n",
       "      <td>0</td>\n",
       "      <td>0</td>\n",
       "      <td>0</td>\n",
       "      <td>0</td>\n",
       "      <td>0</td>\n",
       "      <td>0</td>\n",
       "      <td>0</td>\n",
       "      <td>0</td>\n",
       "      <td>0</td>\n",
       "      <td>0</td>\n",
       "    </tr>\n",
       "    <tr>\n",
       "      <th>5</th>\n",
       "      <td>8 by YOOX</td>\n",
       "      <td>http://yoox.com/fr/13381785CM/item</td>\n",
       "      <td>119.0</td>\n",
       "      <td>0</td>\n",
       "      <td>0</td>\n",
       "      <td>1</td>\n",
       "      <td>1</td>\n",
       "      <td>1</td>\n",
       "      <td>1</td>\n",
       "      <td>1</td>\n",
       "      <td>...</td>\n",
       "      <td>0</td>\n",
       "      <td>0</td>\n",
       "      <td>0</td>\n",
       "      <td>0</td>\n",
       "      <td>0</td>\n",
       "      <td>0</td>\n",
       "      <td>0</td>\n",
       "      <td>0</td>\n",
       "      <td>1</td>\n",
       "      <td>0</td>\n",
       "    </tr>\n",
       "  </tbody>\n",
       "</table>\n",
       "<p>5 rows × 43 columns</p>\n",
       "</div>"
      ],
      "text/plain": [
       "       brand                                 url  price_actual  size_30  \\\n",
       "0  8 by YOOX  http://yoox.com/fr/41925191HP/item         249.0        0   \n",
       "1      CHLOÉ  http://yoox.com/fr/42761341PK/item         511.0        0   \n",
       "3      MARNI  http://yoox.com/fr/14007863DH/item         218.0        0   \n",
       "4      MARNI  http://yoox.com/fr/35421773RV/item         421.0        0   \n",
       "5  8 by YOOX  http://yoox.com/fr/13381785CM/item         119.0        0   \n",
       "\n",
       "   size_32  size_34  size_36  size_38  size_40  size_42  ...  _Mini Skirt  \\\n",
       "0        0        1        1        1        1        1  ...            0   \n",
       "1        0        1        1        1        0        0  ...            0   \n",
       "3        0        0        1        0        0        0  ...            0   \n",
       "4        0        1        1        1        0        1  ...            0   \n",
       "5        0        1        1        1        1        1  ...            0   \n",
       "\n",
       "   _One piece Swimsuit  _Pyjamas  _Shirts  _Shorts  _T-shirts  _Tops  \\\n",
       "0                    0         0        0        0          0      0   \n",
       "1                    0         0        1        0          0      0   \n",
       "3                    0         0        0        0          0      0   \n",
       "4                    0         0        0        0          0      0   \n",
       "5                    0         0        0        0          0      0   \n",
       "\n",
       "   _Trench Coats  _Trousers  _Turtle Necks  \n",
       "0              0          0              0  \n",
       "1              0          0              0  \n",
       "3              0          0              0  \n",
       "4              0          0              0  \n",
       "5              0          1              0  \n",
       "\n",
       "[5 rows x 43 columns]"
      ]
     },
     "execution_count": 61,
     "metadata": {},
     "output_type": "execute_result"
    }
   ],
   "source": [
    "yoox.head()"
   ]
  },
  {
   "cell_type": "code",
   "execution_count": 62,
   "metadata": {},
   "outputs": [
    {
     "data": {
      "text/plain": [
       "Index(['brand', 'url', 'price_actual', 'size_30', 'size_32', 'size_34',\n",
       "       'size_36', 'size_38', 'size_40', 'size_42', 'size_44', 'size_46',\n",
       "       'size_48', 'discount_rate', '_Blouses', '_Bodycon Dress',\n",
       "       '_Bomber Jackets', '_Cardigans', '_Coats', '_Culottes', '_Denim Pants',\n",
       "       '_Down-coat', '_Hoodies', '_Jackets', '_Jumpers', '_Jumpsuits',\n",
       "       '_Knee Length Skirt', '_Long Coats', '_Maxi Dress', '_Maxi Skirt',\n",
       "       '_Midi Dress', '_Midi Skirt', '_Mini Dress', '_Mini Skirt',\n",
       "       '_One piece Swimsuit', '_Pyjamas', '_Shirts', '_Shorts', '_T-shirts',\n",
       "       '_Tops', '_Trench Coats', '_Trousers', '_Turtle Necks'],\n",
       "      dtype='object')"
      ]
     },
     "execution_count": 62,
     "metadata": {},
     "output_type": "execute_result"
    }
   ],
   "source": [
    "yoox.columns"
   ]
  },
  {
   "cell_type": "code",
   "execution_count": 63,
   "metadata": {
    "scrolled": true
   },
   "outputs": [],
   "source": [
    "yoox['item']=yoox.url.str.strip('htp:yox.cm/fr/item')"
   ]
  },
  {
   "cell_type": "code",
   "execution_count": 64,
   "metadata": {},
   "outputs": [],
   "source": [
    "yoox['colors']=0"
   ]
  },
  {
   "cell_type": "code",
   "execution_count": 65,
   "metadata": {},
   "outputs": [],
   "source": [
    "yoox['compositions']=0"
   ]
  },
  {
   "cell_type": "code",
   "execution_count": 78,
   "metadata": {},
   "outputs": [],
   "source": [
    "yoox.reset_index(drop=True,inplace=True)"
   ]
  },
  {
   "cell_type": "code",
   "execution_count": 79,
   "metadata": {
    "collapsed": true
   },
   "outputs": [
    {
     "name": "stdout",
     "output_type": "stream",
     "text": [
      "0\n",
      "5\n",
      "10\n",
      "15\n",
      "20\n",
      "25\n",
      "30\n",
      "35\n",
      "40\n",
      "45\n"
     ]
    }
   ],
   "source": [
    "for i in range(50):\n",
    "    if i%5==0:\n",
    "        t.sleep(3)\n",
    "    yoox.colors[i]=str(BS(requests.get(f'http://yoox.com/fr/{yoox.item[i]}/item').content).select(f'#color{yoox.item[i]} > img'))\n",
    "    if i%5==0:\n",
    "        print(i)"
   ]
  },
  {
   "cell_type": "code",
   "execution_count": 80,
   "metadata": {
    "collapsed": true
   },
   "outputs": [
    {
     "data": {
      "text/plain": [
       "0                                                                                                                                                                        135816\n",
       "[<img alt=\"Sable\" class=\"hide\" src=\"https://www.yoox.com/images/items/38/38860533fh_14_f.jpg?width=38&amp;height=36&amp;impolicy=crop&amp;gravity=Center\"/>]                  1\n",
       "[<img alt=\"Camel\" class=\"hide\" src=\"https://www.yoox.com/images/items/39/39936323uf_14_f.jpg?width=38&amp;height=36&amp;impolicy=crop&amp;gravity=Center\"/>]                  1\n",
       "[<img alt=\"Bleu d'azur\" class=\"hide\" src=\"https://www.yoox.com/images/items/13/13299265bq_14_f.jpg?width=38&amp;height=36&amp;impolicy=crop&amp;gravity=Center\"/>]            1\n",
       "[<img alt=\"Camel\" class=\"hide\" src=\"https://www.yoox.com/images/items/34/34867585nr_14_f.jpg?width=38&amp;height=36&amp;impolicy=crop&amp;gravity=Center\"/>]                  1\n",
       "[<img alt=\"Beige\" class=\"hide\" src=\"https://www.yoox.com/images/items/39/39989632td_14_f.jpg?width=38&amp;height=36&amp;impolicy=crop&amp;gravity=Center\"/>]                  1\n",
       "[<img alt=\"Beige\" class=\"hide\" src=\"https://www.yoox.com/images/items/13/13381785cm_14_f.jpg?width=38&amp;height=36&amp;impolicy=crop&amp;gravity=Center\"/>]                  1\n",
       "[<img alt=\"Bleu foncé\" class=\"hide\" src=\"https://www.yoox.com/images/items/35/35421706al_14_f.jpg?width=38&amp;height=36&amp;impolicy=crop&amp;gravity=Center\"/>]             1\n",
       "[<img alt=\"Camel\" class=\"hide\" src=\"https://www.yoox.com/images/items/38/38833752tr_14_f.jpg?width=38&amp;height=36&amp;impolicy=crop&amp;gravity=Center\"/>]                  1\n",
       "[<img alt=\"Bleu d'azur\" class=\"hide\" src=\"https://www.yoox.com/images/items/35/35417689ti_14_f.jpg?width=38&amp;height=36&amp;impolicy=crop&amp;gravity=Center\"/>]            1\n",
       "[<img alt=\"Vert militaire\" class=\"hide\" src=\"https://www.yoox.com/images/items/41/41907811bx_14_f.jpg?width=38&amp;height=36&amp;impolicy=crop&amp;gravity=Center\"/>]         1\n",
       "[<img alt=\"Bleu pétrole\" class=\"hide\" src=\"https://www.yoox.com/images/items/12/12344229gs_14_f.jpg?width=38&amp;height=36&amp;impolicy=crop&amp;gravity=Center\"/>]           1\n",
       "[<img alt=\"Vert foncé\" class=\"hide\" src=\"https://www.yoox.com/images/items/13/13370032nm_14_f.jpg?width=38&amp;height=36&amp;impolicy=crop&amp;gravity=Center\"/>]             1\n",
       "[<img alt=\"Camel\" class=\"hide\" src=\"https://www.yoox.com/images/items/39/39989587sl_14_f.jpg?width=38&amp;height=36&amp;impolicy=crop&amp;gravity=Center\"/>]                  1\n",
       "[<img alt=\"Camel\" class=\"hide\" src=\"https://www.yoox.com/images/items/35/35424676kt_14_f.jpg?width=38&amp;height=36&amp;impolicy=crop&amp;gravity=Center\"/>]                  1\n",
       "[<img alt=\"Noir\" class=\"hide\" src=\"https://www.yoox.com/images/items/13/13370355sn_14_f.jpg?width=38&amp;height=36&amp;impolicy=crop&amp;gravity=Center\"/>]                   1\n",
       "[<img alt=\"Bleu foncé\" class=\"hide\" src=\"https://www.yoox.com/images/items/35/35423153tp_14_f.jpg?width=38&amp;height=36&amp;impolicy=crop&amp;gravity=Center\"/>]             1\n",
       "[<img alt=\"Bleu\" class=\"hide\" src=\"https://www.yoox.com/images/items/42/42710061vr_14_f.jpg?width=38&amp;height=36&amp;impolicy=crop&amp;gravity=Center\"/>]                   1\n",
       "[<img alt=\"Chocolat\" class=\"hide\" src=\"https://www.yoox.com/images/items/41/41907672ha_14_f.jpg?width=38&amp;height=36&amp;impolicy=crop&amp;gravity=Center\"/>]               1\n",
       "[<img alt=\"Noir\" class=\"hide\" src=\"https://www.yoox.com/images/items/34/34985003qa_14_f.jpg?width=38&amp;height=36&amp;impolicy=crop&amp;gravity=Center\"/>]                   1\n",
       "[<img alt=\"Bleu foncé\" class=\"hide\" src=\"https://www.yoox.com/images/items/49/49353266xs_14_f.jpg?width=38&amp;height=36&amp;impolicy=crop&amp;gravity=Center\"/>]             1\n",
       "[<img alt=\"Bordeaux\" class=\"hide\" src=\"https://www.yoox.com/images/items/41/41796284sb_14_f.jpg?width=38&amp;height=36&amp;impolicy=crop&amp;gravity=Center\"/>]               1\n",
       "[<img alt=\"Bleu foncé\" class=\"hide\" src=\"https://www.yoox.com/images/items/35/35421773rv_14_f.jpg?width=38&amp;height=36&amp;impolicy=crop&amp;gravity=Center\"/>]             1\n",
       "[<img alt=\"Rouge\" class=\"hide\" src=\"https://www.yoox.com/images/items/34/34984149qn_14_f.jpg?width=38&amp;height=36&amp;impolicy=crop&amp;gravity=Center\"/>]                  1\n",
       "[<img alt=\"Blanc\" class=\"hide\" src=\"https://www.yoox.com/images/items/41/41840777qe_14_f.jpg?width=38&amp;height=36&amp;impolicy=crop&amp;gravity=Center\"/>]                  1\n",
       "[<img alt=\"Gris clair\" class=\"hide\" src=\"https://www.yoox.com/images/items/12/12366324wx_14_f.jpg?width=38&amp;height=36&amp;impolicy=crop&amp;gravity=Center\"/>]             1\n",
       "[<img alt=\"Moka\" class=\"hide\" src=\"https://www.yoox.com/images/items/41/41867051lx_14_f.jpg?width=38&amp;height=36&amp;impolicy=crop&amp;gravity=Center\"/>]                   1\n",
       "[<img alt=\"Anthracite\" class=\"hide\" src=\"https://www.yoox.com/images/items/13/13380075ti_14_f.jpg?width=38&amp;height=36&amp;impolicy=crop&amp;gravity=Center\"/>]             1\n",
       "[<img alt=\"Brique\" class=\"hide\" src=\"https://www.yoox.com/images/items/49/49513620ja_14_f.jpg?width=38&amp;height=36&amp;impolicy=crop&amp;gravity=Center\"/>]                 1\n",
       "[<img alt=\"Beige\" class=\"hide\" src=\"https://www.yoox.com/images/items/41/41917293ok_14_f.jpg?width=38&amp;height=36&amp;impolicy=crop&amp;gravity=Center\"/>]                  1\n",
       "[<img alt=\"Beige\" class=\"hide\" src=\"https://www.yoox.com/images/items/35/35420299sv_14_f.jpg?width=38&amp;height=36&amp;impolicy=crop&amp;gravity=Center\"/>]                  1\n",
       "[<img alt=\"Beige\" class=\"hide\" src=\"https://www.yoox.com/images/items/39/39938715nm_14_f.jpg?width=38&amp;height=36&amp;impolicy=crop&amp;gravity=Center\"/>]                  1\n",
       "[<img alt=\"Rose\" class=\"hide\" src=\"https://www.yoox.com/images/items/39/39883169ll_14_f.jpg?width=38&amp;height=36&amp;impolicy=crop&amp;gravity=Center\"/>]                   1\n",
       "[<img alt=\"Vert clair\" class=\"hide\" src=\"https://www.yoox.com/images/items/38/38859383ud_14_f.jpg?width=38&amp;height=36&amp;impolicy=crop&amp;gravity=Center\"/>]             1\n",
       "[<img alt=\"Chocolat\" class=\"hide\" src=\"https://www.yoox.com/images/items/41/41906995fi_14_f.jpg?width=38&amp;height=36&amp;impolicy=crop&amp;gravity=Center\"/>]               1\n",
       "[<img alt=\"Chocolat\" class=\"hide\" src=\"https://www.yoox.com/images/items/13/13329429ol_14_f.jpg?width=38&amp;height=36&amp;impolicy=crop&amp;gravity=Center\"/>]               1\n",
       "[<img alt=\"Camel\" class=\"hide\" src=\"https://www.yoox.com/images/items/14/14003916eg_14_f.jpg?width=38&amp;height=36&amp;impolicy=crop&amp;gravity=Center\"/>]                  1\n",
       "[<img alt=\"Marron\" class=\"hide\" src=\"https://www.yoox.com/images/items/38/38840238jp_14_f.jpg?width=38&amp;height=36&amp;impolicy=crop&amp;gravity=Center\"/>]                 1\n",
       "[<img alt=\"Rouge\" class=\"hide\" src=\"https://www.yoox.com/images/items/38/38864489gi_14_f.jpg?width=38&amp;height=36&amp;impolicy=crop&amp;gravity=Center\"/>]                  1\n",
       "[<img alt=\"Noir\" class=\"hide\" src=\"https://www.yoox.com/images/items/41/41880654sd_14_f.jpg?width=38&amp;height=36&amp;impolicy=crop&amp;gravity=Center\"/>]                   1\n",
       "[<img alt=\"Sable\" class=\"hide\" src=\"https://www.yoox.com/images/items/34/34971352rr_14_f.jpg?width=38&amp;height=36&amp;impolicy=crop&amp;gravity=Center\"/>]                  1\n",
       "[<img alt=\"Camel\" class=\"hide\" src=\"https://www.yoox.com/images/items/34/34985930ts_14_f.jpg?width=38&amp;height=36&amp;impolicy=crop&amp;gravity=Center\"/>]                  1\n",
       "[<img alt=\"Moka\" class=\"hide\" src=\"https://www.yoox.com/images/items/34/34972158cj_14_f.jpg?width=38&amp;height=36&amp;impolicy=crop&amp;gravity=Center\"/>]                   1\n",
       "[<img alt=\"Marron\" class=\"hide\" src=\"https://www.yoox.com/images/items/34/34894419rk_14_f.jpg?width=38&amp;height=36&amp;impolicy=crop&amp;gravity=Center\"/>]                 1\n",
       "[<img alt=\"Chocolat\" class=\"hide\" src=\"https://www.yoox.com/images/items/12/12372880dr_14_f.jpg?width=38&amp;height=36&amp;impolicy=crop&amp;gravity=Center\"/>]               1\n",
       "[<img alt=\"Vieux rose\" class=\"hide\" src=\"https://www.yoox.com/images/items/38/38852678oj_14_f.jpg?width=38&amp;height=36&amp;impolicy=crop&amp;gravity=Center\"/>]             1\n",
       "[<img alt=\"Bleu\" class=\"hide\" src=\"https://www.yoox.com/images/items/42/42761341pk_14_f.jpg?width=38&amp;height=36&amp;impolicy=crop&amp;gravity=Center\"/>]                   1\n",
       "[<img alt=\"Ivoire\" class=\"hide\" src=\"https://www.yoox.com/images/items/39/39936328iv_14_f.jpg?width=38&amp;height=36&amp;impolicy=crop&amp;gravity=Center\"/>]                 1\n",
       "[<img alt=\"Camel\" class=\"hide\" src=\"https://www.yoox.com/images/items/41/41925191hp_14_f.jpg?width=38&amp;height=36&amp;impolicy=crop&amp;gravity=Center\"/>]                  1\n",
       "[<img alt=\"Beige\" class=\"hide\" src=\"https://www.yoox.com/images/items/39/39936140pi_14_f.jpg?width=38&amp;height=36&amp;impolicy=crop&amp;gravity=Center\"/>]                  1\n",
       "[<img alt=\"Plomb\" class=\"hide\" src=\"https://www.yoox.com/images/items/14/14007863dh_14_f.jpg?width=38&amp;height=36&amp;impolicy=crop&amp;gravity=Center\"/>]                  1\n",
       "Name: colors, dtype: int64"
      ]
     },
     "execution_count": 80,
     "metadata": {},
     "output_type": "execute_result"
    }
   ],
   "source": [
    "yoox.colors.value_counts()"
   ]
  },
  {
   "cell_type": "code",
   "execution_count": 82,
   "metadata": {
    "collapsed": true
   },
   "outputs": [
    {
     "name": "stdout",
     "output_type": "stream",
     "text": [
      "60\n",
      "80\n",
      "100\n",
      "120\n",
      "140\n",
      "160\n",
      "180\n",
      "200\n",
      "220\n",
      "240\n",
      "260\n",
      "280\n",
      "300\n",
      "320\n",
      "340\n",
      "360\n",
      "380\n",
      "400\n",
      "420\n",
      "440\n",
      "460\n",
      "480\n"
     ]
    }
   ],
   "source": [
    "for i in range(50,500):\n",
    "    if i%5==0:\n",
    "        t.sleep(3)\n",
    "    yoox.colors[i]=str(BS(requests.get(f'http://yoox.com/fr/{yoox.item[i]}/item').content).select(f'#color{yoox.item[i]} > img'))\n",
    "    if i%20==0:\n",
    "        print(i)"
   ]
  },
  {
   "cell_type": "code",
   "execution_count": 83,
   "metadata": {
    "collapsed": true
   },
   "outputs": [
    {
     "name": "stdout",
     "output_type": "stream",
     "text": [
      "0\n",
      "20\n",
      "40\n",
      "60\n",
      "80\n",
      "100\n",
      "120\n",
      "140\n",
      "160\n",
      "180\n",
      "200\n",
      "220\n",
      "240\n",
      "260\n",
      "280\n",
      "300\n",
      "320\n",
      "340\n",
      "360\n",
      "380\n",
      "400\n",
      "420\n",
      "440\n",
      "460\n",
      "480\n"
     ]
    }
   ],
   "source": [
    "for i in range(500):\n",
    "    if i%5==0:\n",
    "        t.sleep(3)\n",
    "    yoox.compositions[i]=str(BS(requests.get(f'http://yoox.com/fr/{yoox.item[i]}/item').content).select('#compositionInfo > div.font-sans.info-body.padding-half-top'))\n",
    "    if i%20==0:\n",
    "        print(i)"
   ]
  },
  {
   "cell_type": "code",
   "execution_count": 86,
   "metadata": {
    "collapsed": true
   },
   "outputs": [
    {
     "name": "stdout",
     "output_type": "stream",
     "text": [
      "500\n",
      "600\n",
      "700\n",
      "800\n",
      "900\n",
      "1000\n",
      "1100\n",
      "1200\n",
      "1300\n",
      "1400\n",
      "1500\n",
      "1600\n",
      "1700\n",
      "1800\n",
      "1900\n"
     ]
    }
   ],
   "source": [
    "for i in range(500,2000):\n",
    "    if i%5==0:\n",
    "        t.sleep(3)\n",
    "    soup=BS(requests.get(f'http://yoox.com/fr/{yoox.item[i]}/item').content)\n",
    "    yoox.colors[i]=str(soup.select(f'#color{yoox.item[i]} > img'))\n",
    "    yoox.compositions[i]=str(soup.select('#compositionInfo > div.font-sans.info-body.padding-half-top'))\n",
    "    if i%100==0:\n",
    "        print(i)"
   ]
  },
  {
   "cell_type": "code",
   "execution_count": 87,
   "metadata": {
    "collapsed": true
   },
   "outputs": [
    {
     "name": "stdout",
     "output_type": "stream",
     "text": [
      "2000\n",
      "2100\n",
      "2200\n",
      "2300\n",
      "2400\n",
      "2500\n",
      "2600\n",
      "2700\n",
      "2800\n",
      "2900\n",
      "3000\n",
      "3100\n",
      "3200\n",
      "3300\n",
      "3400\n",
      "3500\n",
      "3600\n",
      "3700\n",
      "3800\n",
      "3900\n",
      "4000\n",
      "4100\n",
      "4200\n",
      "4300\n",
      "4400\n",
      "4500\n",
      "4600\n",
      "4700\n",
      "4800\n",
      "4900\n"
     ]
    }
   ],
   "source": [
    "for i in range(2000,5000):\n",
    "    if i%5==0:\n",
    "        t.sleep(3)\n",
    "    soup=BS(requests.get(f'http://yoox.com/fr/{yoox.item[i]}/item').content)\n",
    "    yoox.colors[i]=str(soup.select(f'#color{yoox.item[i]} > img'))\n",
    "    yoox.compositions[i]=str(soup.select('#compositionInfo > div.font-sans.info-body.padding-half-top'))\n",
    "    if i%100==0:\n",
    "        print(i)"
   ]
  },
  {
   "cell_type": "code",
   "execution_count": 91,
   "metadata": {
    "collapsed": true
   },
   "outputs": [
    {
     "data": {
      "text/html": [
       "<div>\n",
       "<style scoped>\n",
       "    .dataframe tbody tr th:only-of-type {\n",
       "        vertical-align: middle;\n",
       "    }\n",
       "\n",
       "    .dataframe tbody tr th {\n",
       "        vertical-align: top;\n",
       "    }\n",
       "\n",
       "    .dataframe thead th {\n",
       "        text-align: right;\n",
       "    }\n",
       "</style>\n",
       "<table border=\"1\" class=\"dataframe\">\n",
       "  <thead>\n",
       "    <tr style=\"text-align: right;\">\n",
       "      <th></th>\n",
       "      <th>0</th>\n",
       "    </tr>\n",
       "  </thead>\n",
       "  <tbody>\n",
       "    <tr>\n",
       "      <th>0</th>\n",
       "      <td>Camel</td>\n",
       "    </tr>\n",
       "    <tr>\n",
       "      <th>1</th>\n",
       "      <td>Bleu</td>\n",
       "    </tr>\n",
       "    <tr>\n",
       "      <th>2</th>\n",
       "      <td>Plomb</td>\n",
       "    </tr>\n",
       "    <tr>\n",
       "      <th>3</th>\n",
       "      <td>Bleu foncé</td>\n",
       "    </tr>\n",
       "    <tr>\n",
       "      <th>4</th>\n",
       "      <td>Beige</td>\n",
       "    </tr>\n",
       "    <tr>\n",
       "      <th>5</th>\n",
       "      <td>Bordeaux</td>\n",
       "    </tr>\n",
       "    <tr>\n",
       "      <th>6</th>\n",
       "      <td>Beige</td>\n",
       "    </tr>\n",
       "    <tr>\n",
       "      <th>7</th>\n",
       "      <td>Sable</td>\n",
       "    </tr>\n",
       "    <tr>\n",
       "      <th>8</th>\n",
       "      <td>Blanc</td>\n",
       "    </tr>\n",
       "    <tr>\n",
       "      <th>9</th>\n",
       "      <td>Camel</td>\n",
       "    </tr>\n",
       "    <tr>\n",
       "      <th>10</th>\n",
       "      <td>Bleu foncé</td>\n",
       "    </tr>\n",
       "    <tr>\n",
       "      <th>11</th>\n",
       "      <td>Noir</td>\n",
       "    </tr>\n",
       "    <tr>\n",
       "      <th>12</th>\n",
       "      <td>Vert foncé</td>\n",
       "    </tr>\n",
       "    <tr>\n",
       "      <th>13</th>\n",
       "      <td>Beige</td>\n",
       "    </tr>\n",
       "    <tr>\n",
       "      <th>14</th>\n",
       "      <td>Moka</td>\n",
       "    </tr>\n",
       "    <tr>\n",
       "      <th>15</th>\n",
       "      <td>Marron</td>\n",
       "    </tr>\n",
       "    <tr>\n",
       "      <th>16</th>\n",
       "      <td>Chocolat</td>\n",
       "    </tr>\n",
       "    <tr>\n",
       "      <th>17</th>\n",
       "      <td>Noir</td>\n",
       "    </tr>\n",
       "    <tr>\n",
       "      <th>18</th>\n",
       "      <td>Marron</td>\n",
       "    </tr>\n",
       "    <tr>\n",
       "      <th>19</th>\n",
       "      <td>Ivoire</td>\n",
       "    </tr>\n",
       "    <tr>\n",
       "      <th>20</th>\n",
       "      <td>Bleu foncé</td>\n",
       "    </tr>\n",
       "    <tr>\n",
       "      <th>21</th>\n",
       "      <td>Moka</td>\n",
       "    </tr>\n",
       "    <tr>\n",
       "      <th>22</th>\n",
       "      <td>Camel</td>\n",
       "    </tr>\n",
       "    <tr>\n",
       "      <th>23</th>\n",
       "      <td>Anthracite</td>\n",
       "    </tr>\n",
       "    <tr>\n",
       "      <th>24</th>\n",
       "      <td>Beige</td>\n",
       "    </tr>\n",
       "    <tr>\n",
       "      <th>25</th>\n",
       "      <td>Bleu</td>\n",
       "    </tr>\n",
       "    <tr>\n",
       "      <th>26</th>\n",
       "      <td>Brique</td>\n",
       "    </tr>\n",
       "    <tr>\n",
       "      <th>27</th>\n",
       "      <td>Rose</td>\n",
       "    </tr>\n",
       "    <tr>\n",
       "      <th>28</th>\n",
       "      <td>Camel</td>\n",
       "    </tr>\n",
       "    <tr>\n",
       "      <th>29</th>\n",
       "      <td>Gris clair</td>\n",
       "    </tr>\n",
       "    <tr>\n",
       "      <th>...</th>\n",
       "      <td>...</td>\n",
       "    </tr>\n",
       "    <tr>\n",
       "      <th>135836</th>\n",
       "      <td>NaN</td>\n",
       "    </tr>\n",
       "    <tr>\n",
       "      <th>135837</th>\n",
       "      <td>NaN</td>\n",
       "    </tr>\n",
       "    <tr>\n",
       "      <th>135838</th>\n",
       "      <td>NaN</td>\n",
       "    </tr>\n",
       "    <tr>\n",
       "      <th>135839</th>\n",
       "      <td>NaN</td>\n",
       "    </tr>\n",
       "    <tr>\n",
       "      <th>135840</th>\n",
       "      <td>NaN</td>\n",
       "    </tr>\n",
       "    <tr>\n",
       "      <th>135841</th>\n",
       "      <td>NaN</td>\n",
       "    </tr>\n",
       "    <tr>\n",
       "      <th>135842</th>\n",
       "      <td>NaN</td>\n",
       "    </tr>\n",
       "    <tr>\n",
       "      <th>135843</th>\n",
       "      <td>NaN</td>\n",
       "    </tr>\n",
       "    <tr>\n",
       "      <th>135844</th>\n",
       "      <td>NaN</td>\n",
       "    </tr>\n",
       "    <tr>\n",
       "      <th>135845</th>\n",
       "      <td>NaN</td>\n",
       "    </tr>\n",
       "    <tr>\n",
       "      <th>135846</th>\n",
       "      <td>NaN</td>\n",
       "    </tr>\n",
       "    <tr>\n",
       "      <th>135847</th>\n",
       "      <td>NaN</td>\n",
       "    </tr>\n",
       "    <tr>\n",
       "      <th>135848</th>\n",
       "      <td>NaN</td>\n",
       "    </tr>\n",
       "    <tr>\n",
       "      <th>135849</th>\n",
       "      <td>NaN</td>\n",
       "    </tr>\n",
       "    <tr>\n",
       "      <th>135850</th>\n",
       "      <td>NaN</td>\n",
       "    </tr>\n",
       "    <tr>\n",
       "      <th>135851</th>\n",
       "      <td>NaN</td>\n",
       "    </tr>\n",
       "    <tr>\n",
       "      <th>135852</th>\n",
       "      <td>NaN</td>\n",
       "    </tr>\n",
       "    <tr>\n",
       "      <th>135853</th>\n",
       "      <td>NaN</td>\n",
       "    </tr>\n",
       "    <tr>\n",
       "      <th>135854</th>\n",
       "      <td>NaN</td>\n",
       "    </tr>\n",
       "    <tr>\n",
       "      <th>135855</th>\n",
       "      <td>NaN</td>\n",
       "    </tr>\n",
       "    <tr>\n",
       "      <th>135856</th>\n",
       "      <td>NaN</td>\n",
       "    </tr>\n",
       "    <tr>\n",
       "      <th>135857</th>\n",
       "      <td>NaN</td>\n",
       "    </tr>\n",
       "    <tr>\n",
       "      <th>135858</th>\n",
       "      <td>NaN</td>\n",
       "    </tr>\n",
       "    <tr>\n",
       "      <th>135859</th>\n",
       "      <td>NaN</td>\n",
       "    </tr>\n",
       "    <tr>\n",
       "      <th>135860</th>\n",
       "      <td>NaN</td>\n",
       "    </tr>\n",
       "    <tr>\n",
       "      <th>135861</th>\n",
       "      <td>NaN</td>\n",
       "    </tr>\n",
       "    <tr>\n",
       "      <th>135862</th>\n",
       "      <td>NaN</td>\n",
       "    </tr>\n",
       "    <tr>\n",
       "      <th>135863</th>\n",
       "      <td>NaN</td>\n",
       "    </tr>\n",
       "    <tr>\n",
       "      <th>135864</th>\n",
       "      <td>NaN</td>\n",
       "    </tr>\n",
       "    <tr>\n",
       "      <th>135865</th>\n",
       "      <td>NaN</td>\n",
       "    </tr>\n",
       "  </tbody>\n",
       "</table>\n",
       "<p>135866 rows × 1 columns</p>\n",
       "</div>"
      ],
      "text/plain": [
       "                 0\n",
       "0            Camel\n",
       "1             Bleu\n",
       "2            Plomb\n",
       "3       Bleu foncé\n",
       "4            Beige\n",
       "5         Bordeaux\n",
       "6            Beige\n",
       "7            Sable\n",
       "8            Blanc\n",
       "9            Camel\n",
       "10      Bleu foncé\n",
       "11            Noir\n",
       "12      Vert foncé\n",
       "13           Beige\n",
       "14            Moka\n",
       "15          Marron\n",
       "16        Chocolat\n",
       "17            Noir\n",
       "18          Marron\n",
       "19          Ivoire\n",
       "20      Bleu foncé\n",
       "21            Moka\n",
       "22           Camel\n",
       "23      Anthracite\n",
       "24           Beige\n",
       "25            Bleu\n",
       "26          Brique\n",
       "27            Rose\n",
       "28           Camel\n",
       "29      Gris clair\n",
       "...            ...\n",
       "135836         NaN\n",
       "135837         NaN\n",
       "135838         NaN\n",
       "135839         NaN\n",
       "135840         NaN\n",
       "135841         NaN\n",
       "135842         NaN\n",
       "135843         NaN\n",
       "135844         NaN\n",
       "135845         NaN\n",
       "135846         NaN\n",
       "135847         NaN\n",
       "135848         NaN\n",
       "135849         NaN\n",
       "135850         NaN\n",
       "135851         NaN\n",
       "135852         NaN\n",
       "135853         NaN\n",
       "135854         NaN\n",
       "135855         NaN\n",
       "135856         NaN\n",
       "135857         NaN\n",
       "135858         NaN\n",
       "135859         NaN\n",
       "135860         NaN\n",
       "135861         NaN\n",
       "135862         NaN\n",
       "135863         NaN\n",
       "135864         NaN\n",
       "135865         NaN\n",
       "\n",
       "[135866 rows x 1 columns]"
      ]
     },
     "execution_count": 91,
     "metadata": {},
     "output_type": "execute_result"
    }
   ],
   "source": [
    "# yoox.colors.str.extract(r'<img alt=\"(.*)\" class=\"hide\"')"
   ]
  },
  {
   "cell_type": "code",
   "execution_count": 92,
   "metadata": {},
   "outputs": [
    {
     "name": "stdout",
     "output_type": "stream",
     "text": [
      "5100\n",
      "5400\n",
      "5700\n",
      "6000\n",
      "6300\n",
      "6600\n",
      "6900\n",
      "7200\n",
      "7500\n",
      "7800\n",
      "8100\n",
      "8400\n",
      "8700\n",
      "9000\n",
      "9300\n",
      "9600\n",
      "9900\n"
     ]
    }
   ],
   "source": [
    "for i in range(5000,10000):\n",
    "    if i%5==0:\n",
    "        t.sleep(3)\n",
    "    soup=BS(requests.get(f'http://yoox.com/fr/{yoox.item[i]}/item').content)\n",
    "    yoox.colors[i]=str(soup.select(f'#color{yoox.item[i]} > img'))\n",
    "    yoox.compositions[i]=str(soup.select('#compositionInfo > div.font-sans.info-body.padding-half-top'))\n",
    "    if i%300==0:\n",
    "        print(i)"
   ]
  },
  {
   "cell_type": "code",
   "execution_count": 93,
   "metadata": {},
   "outputs": [],
   "source": [
    "yoox.colors=yoox.colors.str.extract(r'<img alt=\"(.*)\" class=\"hide\"')"
   ]
  },
  {
   "cell_type": "code",
   "execution_count": 100,
   "metadata": {},
   "outputs": [],
   "source": [
    "yoox.drop(yoox[(yoox.colors=='Bronze') | (yoox.colors=='Transparent') | (yoox.colors=='Cuir')].index,inplace=True)"
   ]
  },
  {
   "cell_type": "code",
   "execution_count": 120,
   "metadata": {},
   "outputs": [],
   "source": [
    "yoox.drop('categories',axis=1,inplace=True)"
   ]
  },
  {
   "cell_type": "code",
   "execution_count": 105,
   "metadata": {},
   "outputs": [],
   "source": [
    "yoox.to_csv('yoox_v2.csv')"
   ]
  },
  {
   "cell_type": "code",
   "execution_count": 107,
   "metadata": {},
   "outputs": [
    {
     "data": {
      "text/plain": [
       "0         134956\n",
       "Blouse       898\n",
       "Name: categories, dtype: int64"
      ]
     },
     "execution_count": 107,
     "metadata": {},
     "output_type": "execute_result"
    }
   ],
   "source": [
    "yoox.categories.value_counts()"
   ]
  },
  {
   "cell_type": "code",
   "execution_count": 108,
   "metadata": {},
   "outputs": [
    {
     "data": {
      "text/plain": [
       "Index(['brand', 'url', 'price_actual', 'size_30', 'size_32', 'size_34',\n",
       "       'size_36', 'size_38', 'size_40', 'size_42', 'size_44', 'size_46',\n",
       "       'size_48', 'discount_rate', '_Blouses', '_Bodycon Dress',\n",
       "       '_Bomber Jackets', '_Cardigans', '_Coats', '_Culottes', '_Denim Pants',\n",
       "       '_Down-coat', '_Hoodies', '_Jackets', '_Jumpers', '_Jumpsuits',\n",
       "       '_Knee Length Skirt', '_Long Coats', '_Maxi Dress', '_Maxi Skirt',\n",
       "       '_Midi Dress', '_Midi Skirt', '_Mini Dress', '_Mini Skirt',\n",
       "       '_One piece Swimsuit', '_Pyjamas', '_Shirts', '_Shorts', '_T-shirts',\n",
       "       '_Tops', '_Trench Coats', '_Trousers', '_Turtle Necks', 'item',\n",
       "       'colors', 'compositions', 'categories'],\n",
       "      dtype='object')"
      ]
     },
     "execution_count": 108,
     "metadata": {},
     "output_type": "execute_result"
    }
   ],
   "source": [
    "yoox.columns"
   ]
  },
  {
   "cell_type": "code",
   "execution_count": 111,
   "metadata": {
    "collapsed": true
   },
   "outputs": [
    {
     "data": {
      "text/plain": [
       "_Blouses                898\n",
       "_Bodycon Dress          285\n",
       "_Bomber Jackets         282\n",
       "_Cardigans              218\n",
       "_Coats                   70\n",
       "_Culottes                65\n",
       "_Denim Pants            330\n",
       "_Down-coat               14\n",
       "_Hoodies                165\n",
       "_Jackets                369\n",
       "_Jumpers                746\n",
       "_Jumpsuits               91\n",
       "_Knee Length Skirt      698\n",
       "_Long Coats              90\n",
       "_Maxi Dress             194\n",
       "_Maxi Skirt             124\n",
       "_Midi Dress             161\n",
       "_Midi Skirt             403\n",
       "_Mini Dress             812\n",
       "_Mini Skirt             139\n",
       "_One piece Swimsuit       1\n",
       "_Pyjamas                  2\n",
       "_Shirts                 683\n",
       "_Shorts                 161\n",
       "_T-shirts               475\n",
       "_Tops                   523\n",
       "_Trench Coats           166\n",
       "_Trousers              1710\n",
       "_Turtle Necks           125\n",
       "dtype: int64"
      ]
     },
     "execution_count": 111,
     "metadata": {},
     "output_type": "execute_result"
    }
   ],
   "source": [
    "yoox[:10000][['_Blouses', '_Bodycon Dress',\n",
    "       '_Bomber Jackets', '_Cardigans', '_Coats', '_Culottes', '_Denim Pants',\n",
    "       '_Down-coat', '_Hoodies', '_Jackets', '_Jumpers', '_Jumpsuits',\n",
    "       '_Knee Length Skirt', '_Long Coats', '_Maxi Dress', '_Maxi Skirt',\n",
    "       '_Midi Dress', '_Midi Skirt', '_Mini Dress', '_Mini Skirt',\n",
    "       '_One piece Swimsuit', '_Pyjamas', '_Shirts', '_Shorts', '_T-shirts',\n",
    "       '_Tops', '_Trench Coats', '_Trousers', '_Turtle Necks']].sum()"
   ]
  },
  {
   "cell_type": "code",
   "execution_count": 116,
   "metadata": {},
   "outputs": [],
   "source": [
    "yoox=yoox.dropna().drop_duplicates(keep='first')"
   ]
  },
  {
   "cell_type": "code",
   "execution_count": 121,
   "metadata": {},
   "outputs": [],
   "source": [
    "yoox.to_csv('yoox_v3.csv')"
   ]
  },
  {
   "cell_type": "code",
   "execution_count": 293,
   "metadata": {},
   "outputs": [],
   "source": [
    "yoox=pd.read_csv('yoox_v3.csv').drop('Unnamed: 0',axis=1)"
   ]
  },
  {
   "cell_type": "code",
   "execution_count": 294,
   "metadata": {},
   "outputs": [
    {
     "data": {
      "text/plain": [
       "[<div class=\"font-sans info-body padding-half-top\">100% Coton</div>]                                                                         1276\n",
       "[<div class=\"font-sans info-body padding-half-top\">100% Soie</div>]                                                                          1096\n",
       "[<div class=\"font-sans info-body padding-half-top\">100% Viscose</div>]                                                                        365\n",
       "[<div class=\"font-sans info-body padding-half-top\">100% Polyester</div>]                                                                      362\n",
       "[<div class=\"font-sans info-body padding-half-top\">98% Coton, 2% Élasthanne</div>]                                                            209\n",
       "[<div class=\"font-sans info-body padding-half-top\">100% Laine vierge</div>]                                                                   209\n",
       "[<div class=\"font-sans info-body padding-half-top\">100% Laine</div>]                                                                          207\n",
       "[<div class=\"font-sans info-body padding-half-top\">100% Polyamide</div>]                                                                      119\n",
       "[<div class=\"font-sans info-body padding-half-top\">97% Coton, 3% Élasthanne</div>]                                                            113\n",
       "[<div class=\"font-sans info-body padding-half-top\">100% Cachemire</div>]                                                                      106\n",
       "[<div class=\"font-sans info-body padding-half-top\">100% Cuir d'agneau</div>]                                                                   69\n",
       "[<div class=\"font-sans info-body padding-half-top\">69% Acétate, 31% Soie</div>]                                                                66\n",
       "[<div class=\"font-sans info-body padding-half-top\">95% Viscose, 5% Élasthanne</div>]                                                           55\n",
       "[<div class=\"font-sans info-body padding-half-top\">83% Viscose, 17% Polyester</div>]                                                           48\n",
       "[<div class=\"font-sans info-body padding-half-top\">96% Soie, 4% Élasthanne</div>]                                                              44\n",
       "[<div class=\"font-sans info-body padding-half-top\">100% Coton, Polyester</div>]                                                                42\n",
       "[<div class=\"font-sans info-body padding-half-top\">96% Viscose, 4% Élasthanne</div>]                                                           41\n",
       "[<div class=\"font-sans info-body padding-half-top\">100% Coton, Soie</div>]                                                                     37\n",
       "[<div class=\"font-sans info-body padding-half-top\">94% Soie, 6% Élasthanne</div>]                                                              36\n",
       "[<div class=\"font-sans info-body padding-half-top\">100% Cuir</div>]                                                                            36\n",
       "[<div class=\"font-sans info-body padding-half-top\">77% Coton, 23% Lin</div>]                                                                   35\n",
       "[<div class=\"font-sans info-body padding-half-top\">82% Viscose, 18% Soie</div>]                                                                35\n",
       "[<div class=\"font-sans info-body padding-half-top\">88% Polyamide, 12% Élasthanne</div>]                                                        34\n",
       "[<div class=\"font-sans info-body padding-half-top\">64% Viscose, 32% Acétate, 4% Élasthanne</div>]                                              34\n",
       "[<div class=\"font-sans info-body padding-half-top\">97% Viscose, 3% Élasthanne</div>]                                                           33\n",
       "[<div class=\"font-sans info-body padding-half-top\">70% Cachemire, 30% Soie</div>]                                                              33\n",
       "[<div class=\"font-sans info-body padding-half-top\">92% Soie, 8% Élasthanne</div>]                                                              32\n",
       "[<div class=\"font-sans info-body padding-half-top\">58% Viscose, 42% Acétate</div>]                                                             32\n",
       "[<div class=\"font-sans info-body padding-half-top\">95% Coton, 5% Élasthanne</div>]                                                             31\n",
       "[<div class=\"font-sans info-body padding-half-top\">96% Coton, 4% Élasthanne</div>]                                                             30\n",
       "                                                                                                                                             ... \n",
       "[<div class=\"font-sans info-body padding-half-top\">79% Fibres synthétiques, 8% Soie, 5% Polyamide, 4% Laine, 4% Élasthanne</div>]               1\n",
       "[<div class=\"font-sans info-body padding-half-top\">75% Polyester, 25% Élasthanne</div>]                                                         1\n",
       "[<div class=\"font-sans info-body padding-half-top\">87% Lin, 13% Polyamide, Ecobrass, Nickel</div>]                                              1\n",
       "[<div class=\"font-sans info-body padding-half-top\">99% Polyamide, 1% Élasthanne</div>]                                                          1\n",
       "[<div class=\"font-sans info-body padding-half-top\">100% Soie, Laiton, Ecobrass</div>]                                                           1\n",
       "[<div class=\"font-sans info-body padding-half-top\">77% Polyester, 23% Polyester métallisé</div>]                                                1\n",
       "[<div class=\"font-sans info-body padding-half-top\">38% Rayonne, 20% Soie, 20% Polyester, 18% Acétate, 4% Nylon</div>]                           1\n",
       "[<div class=\"font-sans info-body padding-half-top\">92% Polyester, 8% Élasthanne</div>]                                                          1\n",
       "[<div class=\"font-sans info-body padding-half-top\">100% Coton, Métal, Verre, Fibres synthétiques</div>]                                         1\n",
       "[<div class=\"font-sans info-body padding-half-top\">62% Viscose, 17% Polyester, 16% Polyamide, 5% Élasthanne</div>]                              1\n",
       "[<div class=\"font-sans info-body padding-half-top\">100% Soie, Polyester, Céramique</div>]                                                       1\n",
       "[<div class=\"font-sans info-body padding-half-top\">70% Coton, 29% Viscose, 1% Élasthanne, Soie</div>]                                           1\n",
       "[<div class=\"font-sans info-body padding-half-top\">88% Laine vierge, 7% Polyamide, 5% Laine mohair</div>]                                       1\n",
       "[<div class=\"font-sans info-body padding-half-top\">99% Soie, 1% Élasthanne</div>]                                                               1\n",
       "[<div class=\"font-sans info-body padding-half-top\">100% Polyamide, Verre</div>]                                                                 1\n",
       "[<div class=\"font-sans info-body padding-half-top\">100% Laine, Polyamide, Viscose, Acétate</div>]                                               1\n",
       "[<div class=\"font-sans info-body padding-half-top\">78% Coton, 10% Viscose, 5% Polyamide, 4% Polyester, 3% Élasthanne</div>]                     1\n",
       "[<div class=\"font-sans info-body padding-half-top\">68% Coton, 29% Polyester, 3% Polyamide</div>]                                                1\n",
       "[<div class=\"font-sans info-body padding-half-top\">100% Super 100s Laine</div>]                                                                 1\n",
       "[<div class=\"font-sans info-body padding-half-top\">41% Coton, 33% Viscose, 26% Polyamide</div>]                                                 1\n",
       "[<div class=\"font-sans info-body padding-half-top\">88% Soie, 12% Polyuréthane</div>]                                                            1\n",
       "[<div class=\"font-sans info-body padding-half-top\">54% Polyester, 44% Laine vierge, 2% Élasthanne, Viscose</div>]                               1\n",
       "[<div class=\"font-sans info-body padding-half-top\">40% Laine vierge, 25% Laine d'alpaga, 25% Laine mohair, 10% Polyamide</div>]                 1\n",
       "[<div class=\"font-sans info-body padding-half-top\">57% Soie, 43% Viscose</div>]                                                                 1\n",
       "[<div class=\"font-sans info-body padding-half-top\">47% Viscose, 43% Laine, 8% Polyamide, 2% Élasthanne</div>]                                   1\n",
       "[<div class=\"font-sans info-body padding-half-top\">74% Acétate, 23% Polyamide, 3% Élasthanne</div>]                                             1\n",
       "[<div class=\"font-sans info-body padding-half-top\">85% Laine, 15% Laine mohair</div>]                                                           1\n",
       "[<div class=\"font-sans info-body padding-half-top\">87% Polyamide, 13% Polyuréthanne</div>]                                                      1\n",
       "[<div class=\"font-sans info-body padding-half-top\">64% Acrylique, 36% Polyester</div>]                                                          1\n",
       "[<div class=\"font-sans info-body padding-half-top\">34% Laine vierge, 20% Soie, 17% Laine d'alpaga, 17% Laine mohair, 12% Polyamide</div>]       1\n",
       "Name: compositions, Length: 2706, dtype: int64"
      ]
     },
     "execution_count": 294,
     "metadata": {},
     "output_type": "execute_result"
    }
   ],
   "source": [
    "yoox.compositions.value_counts()"
   ]
  },
  {
   "cell_type": "code",
   "execution_count": 295,
   "metadata": {
    "scrolled": true
   },
   "outputs": [
    {
     "data": {
      "text/plain": [
       "(2706,)"
      ]
     },
     "execution_count": 295,
     "metadata": {},
     "output_type": "execute_result"
    }
   ],
   "source": [
    "yoox.compositions.str.replace('\\[<div class=\"font-sans info-body padding-half-top\">','').str.replace(\"</div>\\]\",'').value_counts().shape"
   ]
  },
  {
   "cell_type": "code",
   "execution_count": 296,
   "metadata": {},
   "outputs": [],
   "source": [
    "yoox.compositions=yoox.compositions.str.replace('\\[<div class=\"font-sans info-body padding-half-top\">','').str.replace(\"</div>\\]\",'')"
   ]
  },
  {
   "cell_type": "code",
   "execution_count": 297,
   "metadata": {},
   "outputs": [
    {
     "data": {
      "text/plain": [
       "100% Coton                    1276\n",
       "100% Soie                     1096\n",
       "100% Viscose                   365\n",
       "100% Polyester                 362\n",
       "100% Laine vierge              209\n",
       "98% Coton, 2% Élasthanne       209\n",
       "100% Laine                     207\n",
       "100% Polyamide                 119\n",
       "97% Coton, 3% Élasthanne       113\n",
       "100% Cachemire                 106\n",
       "100% Cuir d'agneau              69\n",
       "69% Acétate, 31% Soie           66\n",
       "95% Viscose, 5% Élasthanne      55\n",
       "83% Viscose, 17% Polyester      48\n",
       "96% Soie, 4% Élasthanne         44\n",
       "Name: compositions, dtype: int64"
      ]
     },
     "execution_count": 297,
     "metadata": {},
     "output_type": "execute_result"
    }
   ],
   "source": [
    "yoox.compositions.value_counts().head(15)"
   ]
  },
  {
   "cell_type": "code",
   "execution_count": 298,
   "metadata": {},
   "outputs": [],
   "source": [
    "yoox.drop(yoox.compositions[yoox.compositions.str.contains('100%')& (yoox.compositions.str.contains(','))].index,inplace=True)"
   ]
  },
  {
   "cell_type": "code",
   "execution_count": 299,
   "metadata": {
    "scrolled": true
   },
   "outputs": [
    {
     "data": {
      "text/plain": [
       "100% Coton                 1276\n",
       "100% Soie                  1096\n",
       "100% Viscose                365\n",
       "100% Polyester              362\n",
       "100% Laine vierge           209\n",
       "100% Laine                  207\n",
       "100% Polyamide              119\n",
       "100% Cachemire              106\n",
       "100% Cuir d'agneau           69\n",
       "100% Cuir                    36\n",
       "100% Lin                     20\n",
       "100% Laine mérinos           19\n",
       "100% Rayonne                 17\n",
       "100% Nylon                   13\n",
       "100% Cuir de veau            12\n",
       "100% Cupro                   10\n",
       "100% Polyuréthane             8\n",
       "100% Peau de chèvre           7\n",
       "100% Polyéthylène             5\n",
       "100% Coton biologique         4\n",
       "100% Ramie                    4\n",
       "100% Lyocell                  3\n",
       "100% Modal                    3\n",
       "100% Acétate                  3\n",
       "100% Acrylique                2\n",
       "100% Laine d'alpaga           2\n",
       "100% Cuir d'ovin              1\n",
       "100% Super 100s Laine         1\n",
       "100% Cuir de buffle           1\n",
       "100% Mouton                   1\n",
       "100% Viscose EcoVero          1\n",
       "100% Laine de chameau         1\n",
       "100% Coton BCI                1\n",
       "100% Cachemire régénéré       1\n",
       "100% Polyester recyclé        1\n",
       "100% Polyéther                1\n",
       "100% Chanvre                  1\n",
       "100% Cuir de brebis           1\n",
       "100% Fourrure de chèvre       1\n",
       "Name: compositions, dtype: int64"
      ]
     },
     "execution_count": 299,
     "metadata": {},
     "output_type": "execute_result"
    }
   ],
   "source": [
    "# 100% :\n",
    "\n",
    "yoox.compositions[yoox.compositions.str.contains('100%')].value_counts()"
   ]
  },
  {
   "cell_type": "code",
   "execution_count": 300,
   "metadata": {},
   "outputs": [],
   "source": [
    "yoox['new_compositions']=0"
   ]
  },
  {
   "cell_type": "code",
   "execution_count": 301,
   "metadata": {},
   "outputs": [],
   "source": [
    "yoox['new_compositions'][yoox.compositions.str.contains('100%')&yoox.compositions.str.contains('Laine')|yoox.compositions.str.contains('Mouton')]='Laine'\n",
    "yoox['new_compositions'][yoox.compositions.str.contains('100%')&yoox.compositions.str.contains('Coton')]='Coton'\n",
    "yoox['new_compositions'][yoox.compositions.str.contains('100%')&yoox.compositions.str.contains('Soie')]='Soie'\n",
    "yoox['new_compositions'][yoox.compositions.str.contains('100%')&yoox.compositions.str.contains('Poly')]='Poly...'\n",
    "\n",
    "yoox['new_compositions'][yoox.compositions.str.contains('100%')&(yoox.compositions.str.contains('Viscose')|yoox.compositions.str.contains('Rayon'))|(yoox.compositions.str.contains('Modal'))]='Viscose'\n",
    "yoox['new_compositions'][yoox.compositions.str.contains('100%')&yoox.compositions.str.contains('Polyester')]='Polyester'\n",
    "yoox['new_compositions'][yoox.compositions.str.contains('100%')&yoox.compositions.str.contains('Cachemire')]='Cachemire'\n",
    "yoox['new_compositions'][yoox.compositions.str.contains('100%')&(yoox.compositions.str.contains('Cuir') | yoox.compositions.str.contains('Peau'))]='Cuir'\n",
    "yoox['new_compositions'][yoox.compositions.str.contains('100%')&yoox.compositions.str.contains('Lin')]='Lin'\n",
    "yoox['new_compositions'][yoox.compositions.str.contains('100%')&(yoox.compositions.str.contains('Polyamid')|yoox.compositions.str.contains('Nylon'))]='Polyamide'\n",
    "yoox['new_compositions'][yoox.compositions.str.contains('100%')&yoox.compositions.str.contains('Fourrure')]='Fourrure'\n",
    "yoox['new_compositions'][yoox.compositions.str.contains('100%')&yoox.compositions.str.contains('Chanvre')]='Chanvre'\n",
    "yoox['new_compositions'][yoox.compositions.str.contains('100%')&yoox.compositions.str.contains('Acrylique')]='Acrylique'\n",
    "\n",
    "\n",
    "\n",
    "\n"
   ]
  },
  {
   "cell_type": "code",
   "execution_count": 302,
   "metadata": {},
   "outputs": [],
   "source": [
    "yoox=pd.get_dummies(data=yoox,columns=['new_compositions'])"
   ]
  },
  {
   "cell_type": "code",
   "execution_count": 303,
   "metadata": {
    "scrolled": true
   },
   "outputs": [
    {
     "data": {
      "text/html": [
       "<div>\n",
       "<style scoped>\n",
       "    .dataframe tbody tr th:only-of-type {\n",
       "        vertical-align: middle;\n",
       "    }\n",
       "\n",
       "    .dataframe tbody tr th {\n",
       "        vertical-align: top;\n",
       "    }\n",
       "\n",
       "    .dataframe thead th {\n",
       "        text-align: right;\n",
       "    }\n",
       "</style>\n",
       "<table border=\"1\" class=\"dataframe\">\n",
       "  <thead>\n",
       "    <tr style=\"text-align: right;\">\n",
       "      <th></th>\n",
       "      <th>brand</th>\n",
       "      <th>url</th>\n",
       "      <th>price_actual</th>\n",
       "      <th>size_30</th>\n",
       "      <th>size_32</th>\n",
       "      <th>size_34</th>\n",
       "      <th>size_36</th>\n",
       "      <th>size_38</th>\n",
       "      <th>size_40</th>\n",
       "      <th>size_42</th>\n",
       "      <th>...</th>\n",
       "      <th>new_compositions_Coton</th>\n",
       "      <th>new_compositions_Cuir</th>\n",
       "      <th>new_compositions_Fourrure</th>\n",
       "      <th>new_compositions_Laine</th>\n",
       "      <th>new_compositions_Lin</th>\n",
       "      <th>new_compositions_Poly...</th>\n",
       "      <th>new_compositions_Polyamide</th>\n",
       "      <th>new_compositions_Polyester</th>\n",
       "      <th>new_compositions_Soie</th>\n",
       "      <th>new_compositions_Viscose</th>\n",
       "    </tr>\n",
       "  </thead>\n",
       "  <tbody>\n",
       "    <tr>\n",
       "      <th>0</th>\n",
       "      <td>8 by YOOX</td>\n",
       "      <td>http://yoox.com/fr/41925191HP/item</td>\n",
       "      <td>249.0</td>\n",
       "      <td>0</td>\n",
       "      <td>0</td>\n",
       "      <td>1</td>\n",
       "      <td>1</td>\n",
       "      <td>1</td>\n",
       "      <td>1</td>\n",
       "      <td>1</td>\n",
       "      <td>...</td>\n",
       "      <td>1</td>\n",
       "      <td>0</td>\n",
       "      <td>0</td>\n",
       "      <td>0</td>\n",
       "      <td>0</td>\n",
       "      <td>0</td>\n",
       "      <td>0</td>\n",
       "      <td>0</td>\n",
       "      <td>0</td>\n",
       "      <td>0</td>\n",
       "    </tr>\n",
       "    <tr>\n",
       "      <th>2</th>\n",
       "      <td>MARNI</td>\n",
       "      <td>http://yoox.com/fr/14007863DH/item</td>\n",
       "      <td>218.0</td>\n",
       "      <td>0</td>\n",
       "      <td>0</td>\n",
       "      <td>0</td>\n",
       "      <td>1</td>\n",
       "      <td>0</td>\n",
       "      <td>0</td>\n",
       "      <td>0</td>\n",
       "      <td>...</td>\n",
       "      <td>0</td>\n",
       "      <td>0</td>\n",
       "      <td>0</td>\n",
       "      <td>1</td>\n",
       "      <td>0</td>\n",
       "      <td>0</td>\n",
       "      <td>0</td>\n",
       "      <td>0</td>\n",
       "      <td>0</td>\n",
       "      <td>0</td>\n",
       "    </tr>\n",
       "    <tr>\n",
       "      <th>3</th>\n",
       "      <td>MARNI</td>\n",
       "      <td>http://yoox.com/fr/35421773RV/item</td>\n",
       "      <td>421.0</td>\n",
       "      <td>0</td>\n",
       "      <td>0</td>\n",
       "      <td>1</td>\n",
       "      <td>1</td>\n",
       "      <td>1</td>\n",
       "      <td>0</td>\n",
       "      <td>1</td>\n",
       "      <td>...</td>\n",
       "      <td>0</td>\n",
       "      <td>0</td>\n",
       "      <td>0</td>\n",
       "      <td>0</td>\n",
       "      <td>0</td>\n",
       "      <td>0</td>\n",
       "      <td>0</td>\n",
       "      <td>0</td>\n",
       "      <td>0</td>\n",
       "      <td>1</td>\n",
       "    </tr>\n",
       "    <tr>\n",
       "      <th>4</th>\n",
       "      <td>8 by YOOX</td>\n",
       "      <td>http://yoox.com/fr/13381785CM/item</td>\n",
       "      <td>119.0</td>\n",
       "      <td>0</td>\n",
       "      <td>0</td>\n",
       "      <td>1</td>\n",
       "      <td>1</td>\n",
       "      <td>1</td>\n",
       "      <td>1</td>\n",
       "      <td>1</td>\n",
       "      <td>...</td>\n",
       "      <td>0</td>\n",
       "      <td>0</td>\n",
       "      <td>0</td>\n",
       "      <td>0</td>\n",
       "      <td>0</td>\n",
       "      <td>0</td>\n",
       "      <td>0</td>\n",
       "      <td>0</td>\n",
       "      <td>0</td>\n",
       "      <td>0</td>\n",
       "    </tr>\n",
       "    <tr>\n",
       "      <th>5</th>\n",
       "      <td>STELLA McCARTNEY</td>\n",
       "      <td>http://yoox.com/fr/41796284SB/item</td>\n",
       "      <td>257.0</td>\n",
       "      <td>1</td>\n",
       "      <td>1</td>\n",
       "      <td>0</td>\n",
       "      <td>0</td>\n",
       "      <td>0</td>\n",
       "      <td>0</td>\n",
       "      <td>0</td>\n",
       "      <td>...</td>\n",
       "      <td>0</td>\n",
       "      <td>0</td>\n",
       "      <td>0</td>\n",
       "      <td>0</td>\n",
       "      <td>0</td>\n",
       "      <td>0</td>\n",
       "      <td>0</td>\n",
       "      <td>0</td>\n",
       "      <td>0</td>\n",
       "      <td>0</td>\n",
       "    </tr>\n",
       "  </tbody>\n",
       "</table>\n",
       "<p>5 rows × 60 columns</p>\n",
       "</div>"
      ],
      "text/plain": [
       "              brand                                 url  price_actual  \\\n",
       "0         8 by YOOX  http://yoox.com/fr/41925191HP/item         249.0   \n",
       "2             MARNI  http://yoox.com/fr/14007863DH/item         218.0   \n",
       "3             MARNI  http://yoox.com/fr/35421773RV/item         421.0   \n",
       "4         8 by YOOX  http://yoox.com/fr/13381785CM/item         119.0   \n",
       "5  STELLA McCARTNEY  http://yoox.com/fr/41796284SB/item         257.0   \n",
       "\n",
       "   size_30  size_32  size_34  size_36  size_38  size_40  size_42  ...  \\\n",
       "0        0        0        1        1        1        1        1  ...   \n",
       "2        0        0        0        1        0        0        0  ...   \n",
       "3        0        0        1        1        1        0        1  ...   \n",
       "4        0        0        1        1        1        1        1  ...   \n",
       "5        1        1        0        0        0        0        0  ...   \n",
       "\n",
       "   new_compositions_Coton  new_compositions_Cuir  new_compositions_Fourrure  \\\n",
       "0                       1                      0                          0   \n",
       "2                       0                      0                          0   \n",
       "3                       0                      0                          0   \n",
       "4                       0                      0                          0   \n",
       "5                       0                      0                          0   \n",
       "\n",
       "   new_compositions_Laine  new_compositions_Lin  new_compositions_Poly...  \\\n",
       "0                       0                     0                         0   \n",
       "2                       1                     0                         0   \n",
       "3                       0                     0                         0   \n",
       "4                       0                     0                         0   \n",
       "5                       0                     0                         0   \n",
       "\n",
       "   new_compositions_Polyamide  new_compositions_Polyester  \\\n",
       "0                           0                           0   \n",
       "2                           0                           0   \n",
       "3                           0                           0   \n",
       "4                           0                           0   \n",
       "5                           0                           0   \n",
       "\n",
       "   new_compositions_Soie  new_compositions_Viscose  \n",
       "0                      0                         0  \n",
       "2                      0                         0  \n",
       "3                      0                         1  \n",
       "4                      0                         0  \n",
       "5                      0                         0  \n",
       "\n",
       "[5 rows x 60 columns]"
      ]
     },
     "execution_count": 303,
     "metadata": {},
     "output_type": "execute_result"
    }
   ],
   "source": [
    "yoox.head()"
   ]
  },
  {
   "cell_type": "code",
   "execution_count": 304,
   "metadata": {},
   "outputs": [
    {
     "data": {
      "text/plain": [
       "Index(['brand', 'url', 'price_actual', 'size_30', 'size_32', 'size_34',\n",
       "       'size_36', 'size_38', 'size_40', 'size_42', 'size_44', 'size_46',\n",
       "       'size_48', 'discount_rate', '_Blouses', '_Bodycon Dress',\n",
       "       '_Bomber Jackets', '_Cardigans', '_Coats', '_Culottes', '_Denim Pants',\n",
       "       '_Down-coat', '_Hoodies', '_Jackets', '_Jumpers', '_Jumpsuits',\n",
       "       '_Knee Length Skirt', '_Long Coats', '_Maxi Dress', '_Maxi Skirt',\n",
       "       '_Midi Dress', '_Midi Skirt', '_Mini Dress', '_Mini Skirt',\n",
       "       '_One piece Swimsuit', '_Pyjamas', '_Shirts', '_Shorts', '_T-shirts',\n",
       "       '_Tops', '_Trench Coats', '_Trousers', '_Turtle Necks', 'item',\n",
       "       'colors', 'compositions', 'new_compositions_0',\n",
       "       'new_compositions_Acrylique', 'new_compositions_Cachemire',\n",
       "       'new_compositions_Chanvre', 'new_compositions_Coton',\n",
       "       'new_compositions_Cuir', 'new_compositions_Fourrure',\n",
       "       'new_compositions_Laine', 'new_compositions_Lin',\n",
       "       'new_compositions_Poly...', 'new_compositions_Polyamide',\n",
       "       'new_compositions_Polyester', 'new_compositions_Soie',\n",
       "       'new_compositions_Viscose'],\n",
       "      dtype='object')"
      ]
     },
     "execution_count": 304,
     "metadata": {},
     "output_type": "execute_result"
    }
   ],
   "source": [
    "yoox.columns"
   ]
  },
  {
   "cell_type": "code",
   "execution_count": 305,
   "metadata": {},
   "outputs": [
    {
     "data": {
      "text/html": [
       "<div>\n",
       "<style scoped>\n",
       "    .dataframe tbody tr th:only-of-type {\n",
       "        vertical-align: middle;\n",
       "    }\n",
       "\n",
       "    .dataframe tbody tr th {\n",
       "        vertical-align: top;\n",
       "    }\n",
       "\n",
       "    .dataframe thead th {\n",
       "        text-align: right;\n",
       "    }\n",
       "</style>\n",
       "<table border=\"1\" class=\"dataframe\">\n",
       "  <thead>\n",
       "    <tr style=\"text-align: right;\">\n",
       "      <th></th>\n",
       "      <th>brand</th>\n",
       "      <th>url</th>\n",
       "      <th>price_actual</th>\n",
       "      <th>size_30</th>\n",
       "      <th>size_32</th>\n",
       "      <th>size_34</th>\n",
       "      <th>size_36</th>\n",
       "      <th>size_38</th>\n",
       "      <th>size_40</th>\n",
       "      <th>size_42</th>\n",
       "      <th>...</th>\n",
       "      <th>new_compositions_Coton</th>\n",
       "      <th>new_compositions_Cuir</th>\n",
       "      <th>new_compositions_Fourrure</th>\n",
       "      <th>new_compositions_Laine</th>\n",
       "      <th>new_compositions_Lin</th>\n",
       "      <th>new_compositions_Poly...</th>\n",
       "      <th>new_compositions_Polyamide</th>\n",
       "      <th>new_compositions_Polyester</th>\n",
       "      <th>new_compositions_Soie</th>\n",
       "      <th>new_compositions_Viscose</th>\n",
       "    </tr>\n",
       "  </thead>\n",
       "  <tbody>\n",
       "    <tr>\n",
       "      <th>0</th>\n",
       "      <td>8 by YOOX</td>\n",
       "      <td>http://yoox.com/fr/41925191HP/item</td>\n",
       "      <td>249.0</td>\n",
       "      <td>0</td>\n",
       "      <td>0</td>\n",
       "      <td>1</td>\n",
       "      <td>1</td>\n",
       "      <td>1</td>\n",
       "      <td>1</td>\n",
       "      <td>1</td>\n",
       "      <td>...</td>\n",
       "      <td>1</td>\n",
       "      <td>0</td>\n",
       "      <td>0</td>\n",
       "      <td>0</td>\n",
       "      <td>0</td>\n",
       "      <td>0</td>\n",
       "      <td>0</td>\n",
       "      <td>0</td>\n",
       "      <td>0</td>\n",
       "      <td>0</td>\n",
       "    </tr>\n",
       "    <tr>\n",
       "      <th>2</th>\n",
       "      <td>MARNI</td>\n",
       "      <td>http://yoox.com/fr/14007863DH/item</td>\n",
       "      <td>218.0</td>\n",
       "      <td>0</td>\n",
       "      <td>0</td>\n",
       "      <td>0</td>\n",
       "      <td>1</td>\n",
       "      <td>0</td>\n",
       "      <td>0</td>\n",
       "      <td>0</td>\n",
       "      <td>...</td>\n",
       "      <td>0</td>\n",
       "      <td>0</td>\n",
       "      <td>0</td>\n",
       "      <td>1</td>\n",
       "      <td>0</td>\n",
       "      <td>0</td>\n",
       "      <td>0</td>\n",
       "      <td>0</td>\n",
       "      <td>0</td>\n",
       "      <td>0</td>\n",
       "    </tr>\n",
       "    <tr>\n",
       "      <th>3</th>\n",
       "      <td>MARNI</td>\n",
       "      <td>http://yoox.com/fr/35421773RV/item</td>\n",
       "      <td>421.0</td>\n",
       "      <td>0</td>\n",
       "      <td>0</td>\n",
       "      <td>1</td>\n",
       "      <td>1</td>\n",
       "      <td>1</td>\n",
       "      <td>0</td>\n",
       "      <td>1</td>\n",
       "      <td>...</td>\n",
       "      <td>0</td>\n",
       "      <td>0</td>\n",
       "      <td>0</td>\n",
       "      <td>0</td>\n",
       "      <td>0</td>\n",
       "      <td>0</td>\n",
       "      <td>0</td>\n",
       "      <td>0</td>\n",
       "      <td>0</td>\n",
       "      <td>1</td>\n",
       "    </tr>\n",
       "    <tr>\n",
       "      <th>4</th>\n",
       "      <td>8 by YOOX</td>\n",
       "      <td>http://yoox.com/fr/13381785CM/item</td>\n",
       "      <td>119.0</td>\n",
       "      <td>0</td>\n",
       "      <td>0</td>\n",
       "      <td>1</td>\n",
       "      <td>1</td>\n",
       "      <td>1</td>\n",
       "      <td>1</td>\n",
       "      <td>1</td>\n",
       "      <td>...</td>\n",
       "      <td>0</td>\n",
       "      <td>0</td>\n",
       "      <td>0</td>\n",
       "      <td>0</td>\n",
       "      <td>0</td>\n",
       "      <td>0</td>\n",
       "      <td>0</td>\n",
       "      <td>0</td>\n",
       "      <td>0</td>\n",
       "      <td>0</td>\n",
       "    </tr>\n",
       "    <tr>\n",
       "      <th>5</th>\n",
       "      <td>STELLA McCARTNEY</td>\n",
       "      <td>http://yoox.com/fr/41796284SB/item</td>\n",
       "      <td>257.0</td>\n",
       "      <td>1</td>\n",
       "      <td>1</td>\n",
       "      <td>0</td>\n",
       "      <td>0</td>\n",
       "      <td>0</td>\n",
       "      <td>0</td>\n",
       "      <td>0</td>\n",
       "      <td>...</td>\n",
       "      <td>0</td>\n",
       "      <td>0</td>\n",
       "      <td>0</td>\n",
       "      <td>0</td>\n",
       "      <td>0</td>\n",
       "      <td>0</td>\n",
       "      <td>0</td>\n",
       "      <td>0</td>\n",
       "      <td>0</td>\n",
       "      <td>0</td>\n",
       "    </tr>\n",
       "  </tbody>\n",
       "</table>\n",
       "<p>5 rows × 60 columns</p>\n",
       "</div>"
      ],
      "text/plain": [
       "              brand                                 url  price_actual  \\\n",
       "0         8 by YOOX  http://yoox.com/fr/41925191HP/item         249.0   \n",
       "2             MARNI  http://yoox.com/fr/14007863DH/item         218.0   \n",
       "3             MARNI  http://yoox.com/fr/35421773RV/item         421.0   \n",
       "4         8 by YOOX  http://yoox.com/fr/13381785CM/item         119.0   \n",
       "5  STELLA McCARTNEY  http://yoox.com/fr/41796284SB/item         257.0   \n",
       "\n",
       "   size_30  size_32  size_34  size_36  size_38  size_40  size_42  ...  \\\n",
       "0        0        0        1        1        1        1        1  ...   \n",
       "2        0        0        0        1        0        0        0  ...   \n",
       "3        0        0        1        1        1        0        1  ...   \n",
       "4        0        0        1        1        1        1        1  ...   \n",
       "5        1        1        0        0        0        0        0  ...   \n",
       "\n",
       "   new_compositions_Coton  new_compositions_Cuir  new_compositions_Fourrure  \\\n",
       "0                       1                      0                          0   \n",
       "2                       0                      0                          0   \n",
       "3                       0                      0                          0   \n",
       "4                       0                      0                          0   \n",
       "5                       0                      0                          0   \n",
       "\n",
       "   new_compositions_Laine  new_compositions_Lin  new_compositions_Poly...  \\\n",
       "0                       0                     0                         0   \n",
       "2                       1                     0                         0   \n",
       "3                       0                     0                         0   \n",
       "4                       0                     0                         0   \n",
       "5                       0                     0                         0   \n",
       "\n",
       "   new_compositions_Polyamide  new_compositions_Polyester  \\\n",
       "0                           0                           0   \n",
       "2                           0                           0   \n",
       "3                           0                           0   \n",
       "4                           0                           0   \n",
       "5                           0                           0   \n",
       "\n",
       "   new_compositions_Soie  new_compositions_Viscose  \n",
       "0                      0                         0  \n",
       "2                      0                         0  \n",
       "3                      0                         1  \n",
       "4                      0                         0  \n",
       "5                      0                         0  \n",
       "\n",
       "[5 rows x 60 columns]"
      ]
     },
     "execution_count": 305,
     "metadata": {},
     "output_type": "execute_result"
    }
   ],
   "source": [
    "yoox.head()"
   ]
  },
  {
   "cell_type": "code",
   "execution_count": 306,
   "metadata": {},
   "outputs": [],
   "source": [
    "import re\n",
    "yoox.new_compositions_Cachemire[yoox.new_compositions_0==1]=yoox.compositions[yoox['new_compositions_0']==1].apply(lambda x: '0.'+''.join(re.findall('(\\d+)\\d?% Cachemire',x)))"
   ]
  },
  {
   "cell_type": "code",
   "execution_count": 307,
   "metadata": {},
   "outputs": [],
   "source": [
    "yoox.new_compositions_Cachemire=yoox.new_compositions_Cachemire.astype('str').str.replace(r'(0.$)','0').astype(float)"
   ]
  },
  {
   "cell_type": "code",
   "execution_count": 308,
   "metadata": {},
   "outputs": [],
   "source": [
    "yoox.new_compositions_Chanvre[yoox.new_compositions_0==1]=yoox.compositions[yoox['new_compositions_0']==1].apply(lambda x: '0.'+''.join(re.findall('(\\d+)\\d?% Chanvre',x)))\n",
    "yoox.new_compositions_Coton[yoox.new_compositions_0==1]=yoox.compositions[yoox['new_compositions_0']==1].apply(lambda x: '0.'+''.join(re.findall('(\\d+)\\d?% Coton',x)))\n",
    "yoox.new_compositions_Cuir[yoox.new_compositions_0==1]=yoox.compositions[yoox['new_compositions_0']==1].apply(lambda x: '0.'+''.join(re.findall('(\\d+)\\d?% Cuir',x)))\n",
    "yoox.new_compositions_Cuir[yoox.new_compositions_Cuir==0]=yoox.compositions[yoox['new_compositions_Cuir']==0].apply(lambda x: '0.'+''.join(re.findall('(\\d+)\\d?% Peau',x)))\n",
    "\n",
    "yoox.new_compositions_Fourrure[yoox.new_compositions_0==1]=yoox.compositions[yoox['new_compositions_0']==1].apply(lambda x: '0.'+''.join(re.findall('(\\d+)\\d?% Fourrure',x)))\n",
    "yoox.new_compositions_Laine[yoox.new_compositions_0==1]=yoox.compositions[yoox['new_compositions_0']==1].apply(lambda x: '0.'+''.join(re.findall('(\\d+)\\d?% Laine',x)))\n",
    "yoox.new_compositions_Laine[yoox.new_compositions_Laine==0]=yoox.compositions[yoox['new_compositions_Laine']==0].apply(lambda x: '0.'+''.join(re.findall('(\\d+)\\d?% Mouton',x)))\n",
    "yoox.new_compositions_Lin[yoox.new_compositions_0==1]=yoox.compositions[yoox['new_compositions_0']==1].apply(lambda x: '0.'+''.join(re.findall('(\\d+)\\d?% Lin',x)))\n",
    "yoox.new_compositions_Polyamide[yoox.new_compositions_0==1]=yoox.compositions[yoox['new_compositions_0']==1].apply(lambda x: '0.'+''.join(re.findall('(\\d+)\\d?% Polyalide',x)))\n",
    "yoox.new_compositions_Polyamide[yoox.new_compositions_Polyamide==0]=yoox.compositions[yoox['new_compositions_Polyamide']==0].apply(lambda x: '0.'+''.join(re.findall('(\\d+)\\d?% Nylon',x)))\n",
    "\n",
    "yoox.new_compositions_Polyester[yoox.new_compositions_0==1]=yoox.compositions[yoox['new_compositions_0']==1].apply(lambda x: '0.'+''.join(re.findall('(\\d+)\\d?% Polyester',x)))\n",
    "yoox.new_compositions_Soie[yoox.new_compositions_0==1]=yoox.compositions[yoox['new_compositions_0']==1].apply(lambda x: '0.'+''.join(re.findall('(\\d+)\\d?% Soie',x)))\n",
    "yoox.new_compositions_Viscose[yoox.new_compositions_0==1]=yoox.compositions[yoox['new_compositions_0']==1].apply(lambda x: '0.'+''.join(re.findall('(\\d+)\\d?% Viscose',x)))\n",
    "yoox.new_compositions_Viscose[yoox.new_compositions_Viscose==0]=yoox.compositions[yoox['new_compositions_Viscose']==0].apply(lambda x: '0.'+''.join(re.findall('(\\d+)\\d?% Rayon',x)))\n",
    "yoox.new_compositions_Viscose[yoox.new_compositions_Viscose==0]=yoox.compositions[yoox['new_compositions_Viscose']==0].apply(lambda x: '0.'+''.join(re.findall('(\\d+)\\d?% Modal',x)))\n",
    "yoox.new_compositions_Acrylique[yoox.new_compositions_Viscose==0]=yoox.compositions[yoox['new_compositions_Viscose']==0].apply(lambda x: '0.'+''.join(re.findall('(\\d+)\\d?% Acrylique',x)))"
   ]
  },
  {
   "cell_type": "code",
   "execution_count": 309,
   "metadata": {},
   "outputs": [],
   "source": [
    "yoox.new_compositions_Chanvre=yoox.new_compositions_Chanvre.astype('str').str.replace(r'(0.$)','0').astype(float)\n",
    "yoox.new_compositions_Coton=yoox.new_compositions_Coton.astype('str').str.replace(r'(0.$)','0').astype(float)\n",
    "yoox.new_compositions_Cuir=yoox.new_compositions_Cuir.astype('str').str.replace(r'(0.$)','0').astype(float)\n",
    "yoox.new_compositions_Fourrure=yoox.new_compositions_Fourrure.astype('str').str.replace(r'(0.$)','0').astype(float)\n",
    "yoox.new_compositions_Laine=yoox.new_compositions_Laine.astype('str').str.replace(r'(0.$)','0').astype(float)\n",
    "yoox.new_compositions_Lin=yoox.new_compositions_Lin.astype('str').str.replace(r'(0.$)','0').astype(float)\n",
    "yoox.new_compositions_Polyamide=yoox.new_compositions_Polyamide.astype('str').str.replace(r'(0.$)','0').astype(float)\n",
    "yoox.new_compositions_Polyester=yoox.new_compositions_Polyester.astype('str').str.replace(r'(0.$)','0').astype(float)\n",
    "yoox.new_compositions_Soie=yoox.new_compositions_Soie.astype('str').str.replace(r'(0.$)','0').astype(float)\n",
    "yoox.new_compositions_Viscose=yoox.new_compositions_Viscose.astype('str').str.replace(r'(0.$)','0').astype(float)\n",
    "yoox.new_compositions_Acrylique=yoox.new_compositions_Acrylique.astype('str').str.replace(r'(0.$)','0').astype(float)\n"
   ]
  },
  {
   "cell_type": "code",
   "execution_count": 311,
   "metadata": {},
   "outputs": [],
   "source": [
    "yoox.drop('new_compositions_0',axis=1,inplace=True)"
   ]
  },
  {
   "cell_type": "code",
   "execution_count": 317,
   "metadata": {},
   "outputs": [],
   "source": [
    "yoox=pd.get_dummies(data=yoox,columns=['colors'],drop_first=True)"
   ]
  },
  {
   "cell_type": "code",
   "execution_count": 321,
   "metadata": {},
   "outputs": [],
   "source": [
    "yoox.to_csv('yoox_final.csv')"
   ]
  },
  {
   "cell_type": "code",
   "execution_count": 320,
   "metadata": {
    "collapsed": true
   },
   "outputs": [
    {
     "data": {
      "text/plain": [
       "brand                     object\n",
       "url                       object\n",
       "price_actual             float64\n",
       "size_30                    int64\n",
       "size_32                    int64\n",
       "size_34                    int64\n",
       "size_36                    int64\n",
       "size_38                    int64\n",
       "size_40                    int64\n",
       "size_42                    int64\n",
       "size_44                    int64\n",
       "size_46                    int64\n",
       "size_48                    int64\n",
       "discount_rate            float64\n",
       "_Blouses                   int64\n",
       "_Bodycon Dress             int64\n",
       "_Bomber Jackets            int64\n",
       "_Cardigans                 int64\n",
       "_Coats                     int64\n",
       "_Culottes                  int64\n",
       "_Denim Pants               int64\n",
       "_Down-coat                 int64\n",
       "_Hoodies                   int64\n",
       "_Jackets                   int64\n",
       "_Jumpers                   int64\n",
       "_Jumpsuits                 int64\n",
       "_Knee Length Skirt         int64\n",
       "_Long Coats                int64\n",
       "_Maxi Dress                int64\n",
       "_Maxi Skirt                int64\n",
       "                          ...   \n",
       "colors_Kaki                uint8\n",
       "colors_Marron              uint8\n",
       "colors_Mauve               uint8\n",
       "colors_Moka                uint8\n",
       "colors_Noir                uint8\n",
       "colors_Noisette            uint8\n",
       "colors_Ocre                uint8\n",
       "colors_Or                  uint8\n",
       "colors_Orange              uint8\n",
       "colors_Platine             uint8\n",
       "colors_Plomb               uint8\n",
       "colors_Pourpre             uint8\n",
       "colors_Rose                uint8\n",
       "colors_Rose clair          uint8\n",
       "colors_Rouge               uint8\n",
       "colors_Rouille             uint8\n",
       "colors_Sable               uint8\n",
       "colors_Saumon              uint8\n",
       "colors_Turquoise           uint8\n",
       "colors_Vert                uint8\n",
       "colors_Vert acide          uint8\n",
       "colors_Vert clair          uint8\n",
       "colors_Vert foncé          uint8\n",
       "colors_Vert militaire      uint8\n",
       "colors_Vert pétrole        uint8\n",
       "colors_Vert émeraude       uint8\n",
       "colors_Vieux rose          uint8\n",
       "colors_Violet              uint8\n",
       "colors_Violet clair        uint8\n",
       "colors_Violet foncé        uint8\n",
       "Length: 114, dtype: object"
      ]
     },
     "execution_count": 320,
     "metadata": {},
     "output_type": "execute_result"
    }
   ],
   "source": [
    "yoox.dtypes"
   ]
  },
  {
   "cell_type": "code",
   "execution_count": null,
   "metadata": {},
   "outputs": [],
   "source": []
  }
 ],
 "metadata": {
  "kernelspec": {
   "display_name": "Python 3",
   "language": "python",
   "name": "python3"
  },
  "language_info": {
   "codemirror_mode": {
    "name": "ipython",
    "version": 3
   },
   "file_extension": ".py",
   "mimetype": "text/x-python",
   "name": "python",
   "nbconvert_exporter": "python",
   "pygments_lexer": "ipython3",
   "version": "3.7.3"
  }
 },
 "nbformat": 4,
 "nbformat_minor": 2
}
