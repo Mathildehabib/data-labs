{
 "cells": [
  {
   "cell_type": "code",
   "execution_count": 42,
   "metadata": {},
   "outputs": [],
   "source": [
    "import pandas as pd\n",
    "import numpy as np\n",
    "from sklearn.metrics.pairwise import cosine_similarity\n",
    "import webbrowser\n",
    "from sklearn.decomposition import PCA\n",
    "from sklearn.metrics.pairwise import paired_cosine_distances as pcd\n",
    "import time as t"
   ]
  },
  {
   "cell_type": "code",
   "execution_count": 43,
   "metadata": {},
   "outputs": [],
   "source": [
    "yoox=pd.read_csv('yoox_final.csv').drop('Unnamed: 0',axis=1)\n",
    "yoox.drop_duplicates(keep='first',inplace=True)"
   ]
  },
  {
   "cell_type": "code",
   "execution_count": 44,
   "metadata": {},
   "outputs": [
    {
     "data": {
      "text/html": [
       "<div>\n",
       "<style scoped>\n",
       "    .dataframe tbody tr th:only-of-type {\n",
       "        vertical-align: middle;\n",
       "    }\n",
       "\n",
       "    .dataframe tbody tr th {\n",
       "        vertical-align: top;\n",
       "    }\n",
       "\n",
       "    .dataframe thead th {\n",
       "        text-align: right;\n",
       "    }\n",
       "</style>\n",
       "<table border=\"1\" class=\"dataframe\">\n",
       "  <thead>\n",
       "    <tr style=\"text-align: right;\">\n",
       "      <th></th>\n",
       "      <th>brand</th>\n",
       "      <th>url</th>\n",
       "      <th>price_actual</th>\n",
       "      <th>size_30</th>\n",
       "      <th>size_32</th>\n",
       "      <th>size_34</th>\n",
       "      <th>size_36</th>\n",
       "      <th>size_38</th>\n",
       "      <th>size_40</th>\n",
       "      <th>size_42</th>\n",
       "      <th>...</th>\n",
       "      <th>colors_Vert acide</th>\n",
       "      <th>colors_Vert clair</th>\n",
       "      <th>colors_Vert foncé</th>\n",
       "      <th>colors_Vert militaire</th>\n",
       "      <th>colors_Vert pétrole</th>\n",
       "      <th>colors_Vert émeraude</th>\n",
       "      <th>colors_Vieux rose</th>\n",
       "      <th>colors_Violet</th>\n",
       "      <th>colors_Violet clair</th>\n",
       "      <th>colors_Violet foncé</th>\n",
       "    </tr>\n",
       "  </thead>\n",
       "  <tbody>\n",
       "    <tr>\n",
       "      <th>0</th>\n",
       "      <td>8 by YOOX</td>\n",
       "      <td>http://yoox.com/fr/41925191HP/item</td>\n",
       "      <td>249.0</td>\n",
       "      <td>0</td>\n",
       "      <td>0</td>\n",
       "      <td>1</td>\n",
       "      <td>1</td>\n",
       "      <td>1</td>\n",
       "      <td>1</td>\n",
       "      <td>1</td>\n",
       "      <td>...</td>\n",
       "      <td>0</td>\n",
       "      <td>0</td>\n",
       "      <td>0</td>\n",
       "      <td>0</td>\n",
       "      <td>0</td>\n",
       "      <td>0</td>\n",
       "      <td>0</td>\n",
       "      <td>0</td>\n",
       "      <td>0</td>\n",
       "      <td>0</td>\n",
       "    </tr>\n",
       "    <tr>\n",
       "      <th>1</th>\n",
       "      <td>MARNI</td>\n",
       "      <td>http://yoox.com/fr/14007863DH/item</td>\n",
       "      <td>218.0</td>\n",
       "      <td>0</td>\n",
       "      <td>0</td>\n",
       "      <td>0</td>\n",
       "      <td>1</td>\n",
       "      <td>0</td>\n",
       "      <td>0</td>\n",
       "      <td>0</td>\n",
       "      <td>...</td>\n",
       "      <td>0</td>\n",
       "      <td>0</td>\n",
       "      <td>0</td>\n",
       "      <td>0</td>\n",
       "      <td>0</td>\n",
       "      <td>0</td>\n",
       "      <td>0</td>\n",
       "      <td>0</td>\n",
       "      <td>0</td>\n",
       "      <td>0</td>\n",
       "    </tr>\n",
       "    <tr>\n",
       "      <th>2</th>\n",
       "      <td>MARNI</td>\n",
       "      <td>http://yoox.com/fr/35421773RV/item</td>\n",
       "      <td>421.0</td>\n",
       "      <td>0</td>\n",
       "      <td>0</td>\n",
       "      <td>1</td>\n",
       "      <td>1</td>\n",
       "      <td>1</td>\n",
       "      <td>0</td>\n",
       "      <td>1</td>\n",
       "      <td>...</td>\n",
       "      <td>0</td>\n",
       "      <td>0</td>\n",
       "      <td>0</td>\n",
       "      <td>0</td>\n",
       "      <td>0</td>\n",
       "      <td>0</td>\n",
       "      <td>0</td>\n",
       "      <td>0</td>\n",
       "      <td>0</td>\n",
       "      <td>0</td>\n",
       "    </tr>\n",
       "    <tr>\n",
       "      <th>3</th>\n",
       "      <td>8 by YOOX</td>\n",
       "      <td>http://yoox.com/fr/13381785CM/item</td>\n",
       "      <td>119.0</td>\n",
       "      <td>0</td>\n",
       "      <td>0</td>\n",
       "      <td>1</td>\n",
       "      <td>1</td>\n",
       "      <td>1</td>\n",
       "      <td>1</td>\n",
       "      <td>1</td>\n",
       "      <td>...</td>\n",
       "      <td>0</td>\n",
       "      <td>0</td>\n",
       "      <td>0</td>\n",
       "      <td>0</td>\n",
       "      <td>0</td>\n",
       "      <td>0</td>\n",
       "      <td>0</td>\n",
       "      <td>0</td>\n",
       "      <td>0</td>\n",
       "      <td>0</td>\n",
       "    </tr>\n",
       "    <tr>\n",
       "      <th>4</th>\n",
       "      <td>STELLA McCARTNEY</td>\n",
       "      <td>http://yoox.com/fr/41796284SB/item</td>\n",
       "      <td>257.0</td>\n",
       "      <td>1</td>\n",
       "      <td>1</td>\n",
       "      <td>0</td>\n",
       "      <td>0</td>\n",
       "      <td>0</td>\n",
       "      <td>0</td>\n",
       "      <td>0</td>\n",
       "      <td>...</td>\n",
       "      <td>0</td>\n",
       "      <td>0</td>\n",
       "      <td>0</td>\n",
       "      <td>0</td>\n",
       "      <td>0</td>\n",
       "      <td>0</td>\n",
       "      <td>0</td>\n",
       "      <td>0</td>\n",
       "      <td>0</td>\n",
       "      <td>0</td>\n",
       "    </tr>\n",
       "  </tbody>\n",
       "</table>\n",
       "<p>5 rows × 114 columns</p>\n",
       "</div>"
      ],
      "text/plain": [
       "              brand                                 url  price_actual  \\\n",
       "0         8 by YOOX  http://yoox.com/fr/41925191HP/item         249.0   \n",
       "1             MARNI  http://yoox.com/fr/14007863DH/item         218.0   \n",
       "2             MARNI  http://yoox.com/fr/35421773RV/item         421.0   \n",
       "3         8 by YOOX  http://yoox.com/fr/13381785CM/item         119.0   \n",
       "4  STELLA McCARTNEY  http://yoox.com/fr/41796284SB/item         257.0   \n",
       "\n",
       "   size_30  size_32  size_34  size_36  size_38  size_40  size_42  ...  \\\n",
       "0        0        0        1        1        1        1        1  ...   \n",
       "1        0        0        0        1        0        0        0  ...   \n",
       "2        0        0        1        1        1        0        1  ...   \n",
       "3        0        0        1        1        1        1        1  ...   \n",
       "4        1        1        0        0        0        0        0  ...   \n",
       "\n",
       "   colors_Vert acide  colors_Vert clair  colors_Vert foncé  \\\n",
       "0                  0                  0                  0   \n",
       "1                  0                  0                  0   \n",
       "2                  0                  0                  0   \n",
       "3                  0                  0                  0   \n",
       "4                  0                  0                  0   \n",
       "\n",
       "   colors_Vert militaire  colors_Vert pétrole  colors_Vert émeraude  \\\n",
       "0                      0                    0                     0   \n",
       "1                      0                    0                     0   \n",
       "2                      0                    0                     0   \n",
       "3                      0                    0                     0   \n",
       "4                      0                    0                     0   \n",
       "\n",
       "   colors_Vieux rose  colors_Violet  colors_Violet clair  colors_Violet foncé  \n",
       "0                  0              0                    0                    0  \n",
       "1                  0              0                    0                    0  \n",
       "2                  0              0                    0                    0  \n",
       "3                  0              0                    0                    0  \n",
       "4                  0              0                    0                    0  \n",
       "\n",
       "[5 rows x 114 columns]"
      ]
     },
     "execution_count": 44,
     "metadata": {},
     "output_type": "execute_result"
    }
   ],
   "source": [
    "yoox.head()"
   ]
  },
  {
   "cell_type": "code",
   "execution_count": 45,
   "metadata": {},
   "outputs": [],
   "source": [
    "yoox_ml = yoox.drop([\"brand\", \"url\",\"price_actual\",\"discount_rate\",'compositions','item'], axis=1)\n",
    "yoox_ml[[ '_Blouses', '_Bodycon Dress', '_Bomber Jackets', '_Cardigans', '_Coats', '_Culottes', '_Denim Pants', '_Down-coat',\n",
    " '_Hoodies', '_Jackets', '_Jumpers', '_Jumpsuits', '_Knee Length Skirt', '_Long Coats', '_Maxi Dress', '_Maxi Skirt',\n",
    "         '_Midi Dress', '_Midi Skirt', '_Mini Dress', '_Mini Skirt', '_One piece Swimsuit', '_Pyjamas', '_Shirts',\n",
    " '_Shortµs', '_T-shirts', '_Tops', '_Trench Coats', '_Trousers', '_Turtle Necks']]=yoox_ml[[ '_Blouses', '_Bodycon Dress', '_Bomber Jackets', '_Cardigans', '_Coats', '_Culottes', '_Denim Pants', '_Down-coat',\n",
    " '_Hoodies', '_Jackets', '_Jumpers', '_Jumpsuits', '_Knee Length Skirt', '_Long Coats', '_Maxi Dress', '_Maxi Skirt',\n",
    "         '_Midi Dress', '_Midi Skirt', '_Mini Dress', '_Mini Skirt', '_One piece Swimsuit', '_Pyjamas', '_Shirts',\n",
    " '_Shorts', '_T-shirts', '_Tops', '_Trench Coats', '_Trousers', '_Turtle Necks']].apply(lambda x: x*1.5)"
   ]
  },
  {
   "cell_type": "code",
   "execution_count": 46,
   "metadata": {},
   "outputs": [],
   "source": [
    "yoox_ml[[  'size_30','size_32', 'size_34', 'size_36', 'size_38', 'size_40', 'size_42', 'size_44', 'size_46', 'size_48']]=yoox_ml[['size_30',\n",
    " 'size_32', 'size_34', 'size_36', 'size_38', 'size_40', 'size_42', 'size_44', 'size_46', 'size_48',]].apply(lambda x: x*0.7)"
   ]
  },
  {
   "cell_type": "code",
   "execution_count": 47,
   "metadata": {},
   "outputs": [],
   "source": [
    "yoox_ml[['colors_Anthracite', 'colors_Argent', 'colors_Aubergine', 'colors_Beige', 'colors_Blanc', 'colors_Bleu', 'colors_Bleu ciel',\n",
    " \"colors_Bleu d'azur\", 'colors_Bleu foncé', 'colors_Bleu pétrole', 'colors_Bleu électrique', 'colors_Bleu-gris', 'colors_Bordeaux',\n",
    " 'colors_Brique', 'colors_Camel', 'colors_Chair', 'colors_Chocolat', 'colors_Corail', 'colors_Cuivre', 'colors_Fuchsia',\n",
    " 'colors_Gris', 'colors_Gris clair', 'colors_Gris tourterelle', 'colors_Ivoire', 'colors_Jaune', 'colors_Jaune clair', 'colors_Kaki',\n",
    " 'colors_Marron', 'colors_Mauve', 'colors_Moka', 'colors_Noir', 'colors_Noisette', 'colors_Ocre', 'colors_Or', 'colors_Orange',\n",
    " 'colors_Platine', 'colors_Plomb', 'colors_Pourpre', 'colors_Rose', 'colors_Rose clair', 'colors_Rouge', 'colors_Rouille',\n",
    " 'colors_Sable', 'colors_Saumon', 'colors_Turquoise', 'colors_Vert', 'colors_Vert acide', 'colors_Vert clair', 'colors_Vert foncé',\n",
    " 'colors_Vert militaire', 'colors_Vert pétrole', 'colors_Vert émeraude', 'colors_Vieux rose', 'colors_Violet', 'colors_Violet clair',\n",
    " 'colors_Violet foncé']]=yoox_ml[['colors_Anthracite', 'colors_Argent', 'colors_Aubergine', 'colors_Beige', 'colors_Blanc', 'colors_Bleu', 'colors_Bleu ciel',\n",
    " \"colors_Bleu d'azur\", 'colors_Bleu foncé', 'colors_Bleu pétrole', 'colors_Bleu électrique', 'colors_Bleu-gris', 'colors_Bordeaux',\n",
    " 'colors_Brique', 'colors_Camel', 'colors_Chair', 'colors_Chocolat', 'colors_Corail', 'colors_Cuivre', 'colors_Fuchsia',\n",
    " 'colors_Gris', 'colors_Gris clair', 'colors_Gris tourterelle', 'colors_Ivoire', 'colors_Jaune', 'colors_Jaune clair', 'colors_Kaki',\n",
    " 'colors_Marron', 'colors_Mauve', 'colors_Moka', 'colors_Noir', 'colors_Noisette', 'colors_Ocre', 'colors_Or', 'colors_Orange',\n",
    " 'colors_Platine', 'colors_Plomb', 'colors_Pourpre', 'colors_Rose', 'colors_Rose clair', 'colors_Rouge', 'colors_Rouille',\n",
    " 'colors_Sable', 'colors_Saumon', 'colors_Turquoise', 'colors_Vert', 'colors_Vert acide', 'colors_Vert clair', 'colors_Vert foncé',\n",
    " 'colors_Vert militaire', 'colors_Vert pétrole', 'colors_Vert émeraude', 'colors_Vieux rose', 'colors_Violet', 'colors_Violet clair',\n",
    " 'colors_Violet foncé']].apply(lambda x: x*1.3)"
   ]
  },
  {
   "cell_type": "code",
   "execution_count": 64,
   "metadata": {},
   "outputs": [
    {
     "name": "stdout",
     "output_type": "stream",
     "text": [
      "Choose a Product\n",
      "Here is a suggestion['13388817KR']\n",
      "13388817KR\n"
     ]
    }
   ],
   "source": [
    "g=input(f\"Choose a Product\\nHere is a suggestion{str(yoox.sample()['item'].unique())}\\n\")\n",
    "t.sleep(1)\n",
    "# ☺"
   ]
  },
  {
   "cell_type": "code",
   "execution_count": 65,
   "metadata": {},
   "outputs": [],
   "source": [
    "i_d0=yoox[yoox.item==g].index\n",
    "webbrowser.open(f'http://yoox.com/fr/{g}/item')\n",
    "t.sleep(8)"
   ]
  },
  {
   "cell_type": "code",
   "execution_count": 66,
   "metadata": {
    "scrolled": true
   },
   "outputs": [
    {
     "data": {
      "text/plain": [
       "86"
      ]
     },
     "execution_count": 66,
     "metadata": {},
     "output_type": "execute_result"
    }
   ],
   "source": [
    "pca=PCA(0.99)\n",
    "pca.fit(yoox_ml)\n",
    "pca.n_components_"
   ]
  },
  {
   "cell_type": "code",
   "execution_count": 67,
   "metadata": {},
   "outputs": [],
   "source": [
    "yoox_ml_new=pca.transform(yoox_ml)"
   ]
  },
  {
   "cell_type": "code",
   "execution_count": 68,
   "metadata": {},
   "outputs": [],
   "source": [
    "cosine = [1 - pcd(yoox_ml_new[i_d0].reshape(-1, 1).T, i.reshape(-1, 1).T) for i in yoox_ml_new]\n",
    "results=cosine.copy()\n",
    "results.sort(reverse=True)\n",
    "results=[i for i in results if i > 0.78]\n",
    "indices = [i for i, x in enumerate(cosine) if x in results[1:]]\n",
    "urls=[]\n",
    "for i in indices:\n",
    "    urls.append(yoox.url[i])\n",
    "new_urls=yoox[(yoox['url'].isin(urls))==True].sort_values(by='price_actual')['url'].drop_duplicates(keep='first').head(4).tolist()\n",
    "for i in new_urls:\n",
    "    webbrowser.open(i)"
   ]
  },
  {
   "cell_type": "code",
   "execution_count": 69,
   "metadata": {
    "scrolled": true
   },
   "outputs": [
    {
     "data": {
      "text/plain": [
       "[array([1.]),\n",
       " array([0.93607133]),\n",
       " array([0.93564779]),\n",
       " array([0.89056836]),\n",
       " array([0.8862675]),\n",
       " array([0.88003692]),\n",
       " array([0.87809564]),\n",
       " array([0.87621079]),\n",
       " array([0.85351451]),\n",
       " array([0.81253804])]"
      ]
     },
     "execution_count": 69,
     "metadata": {},
     "output_type": "execute_result"
    }
   ],
   "source": [
    "results"
   ]
  },
  {
   "cell_type": "code",
   "execution_count": 30,
   "metadata": {},
   "outputs": [
    {
     "data": {
      "text/plain": [
       "(1, 82)"
      ]
     },
     "execution_count": 30,
     "metadata": {},
     "output_type": "execute_result"
    }
   ],
   "source": [
    "yoox_ml_new[i_d0].shape"
   ]
  },
  {
   "cell_type": "code",
   "execution_count": 38,
   "metadata": {
    "scrolled": true
   },
   "outputs": [
    {
     "data": {
      "text/plain": [
       "array([1.])"
      ]
     },
     "execution_count": 38,
     "metadata": {},
     "output_type": "execute_result"
    }
   ],
   "source": [
    "1-pcd(yoox_ml_new[i_d0].reshape(-1, 1).T,yoox_ml_new[i_d0].reshape(-1, 1).T)"
   ]
  },
  {
   "cell_type": "code",
   "execution_count": 42,
   "metadata": {},
   "outputs": [
    {
     "data": {
      "text/plain": [
       "[array([1.]), array([0.99990076]), array([0.85746848]), array([0.84896879])]"
      ]
     },
     "execution_count": 42,
     "metadata": {},
     "output_type": "execute_result"
    }
   ],
   "source": [
    "results"
   ]
  },
  {
   "cell_type": "code",
   "execution_count": 44,
   "metadata": {},
   "outputs": [
    {
     "data": {
      "text/plain": [
       "[308, 1540, 2932, 4387]"
      ]
     },
     "execution_count": 44,
     "metadata": {},
     "output_type": "execute_result"
    }
   ],
   "source": [
    "indices"
   ]
  },
  {
   "cell_type": "code",
   "execution_count": 46,
   "metadata": {},
   "outputs": [
    {
     "data": {
      "text/plain": [
       "1540    http://yoox.com/fr/13257350GG/item\n",
       "2932    http://yoox.com/fr/13216935SC/item\n",
       "4387    http://yoox.com/fr/13118384RN/item\n",
       "Name: url, dtype: object"
      ]
     },
     "execution_count": 46,
     "metadata": {},
     "output_type": "execute_result"
    }
   ],
   "source": [
    "yoox[(yoox['url'].isin(urls))==True]['url']"
   ]
  }
 ],
 "metadata": {
  "kernelspec": {
   "display_name": "Python 3",
   "language": "python",
   "name": "python3"
  },
  "language_info": {
   "codemirror_mode": {
    "name": "ipython",
    "version": 3
   },
   "file_extension": ".py",
   "mimetype": "text/x-python",
   "name": "python",
   "nbconvert_exporter": "python",
   "pygments_lexer": "ipython3",
   "version": "3.7.3"
  }
 },
 "nbformat": 4,
 "nbformat_minor": 2
}
