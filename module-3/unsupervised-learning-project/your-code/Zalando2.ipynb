{
 "cells": [
  {
   "cell_type": "code",
   "execution_count": 1,
   "metadata": {},
   "outputs": [],
   "source": [
    "import pandas as pd\n",
    "import numpy as np\n",
    "import matplotlib.pyplot as plt\n",
    "from matplotlib.lines import Line2D\n",
    "\n",
    "%matplotlib inline\n",
    "import seaborn as sns\n",
    "sns.set()\n",
    "\n",
    "from sklearn import cluster, datasets\n",
    "\n",
    "from sklearn.linear_model import RidgeCV, LassoCV, ElasticNetCV, LinearRegression, Ridge, Lasso, ElasticNet\n",
    "from statsmodels.regression.linear_model import OLS\n",
    "from statsmodels.tools.tools import add_constant\n",
    "\n",
    "from sklearn.metrics import mean_absolute_error, mean_squared_error, r2_score, silhouette_score, davies_bouldin_score\n",
    "\n",
    "from yellowbrick.cluster import KElbowVisualizer\n",
    "from sklearn.cluster import KMeans\n",
    "\n",
    "from sklearn.decomposition import PCA\n",
    "from sklearn.preprocessing import StandardScaler, MinMaxScaler\n",
    "from sklearn.feature_selection import RFE\n"
   ]
  },
  {
   "cell_type": "code",
   "execution_count": 2,
   "metadata": {},
   "outputs": [],
   "source": [
    "df=pd.read_csv('zalando.csv').drop('Unnamed: 0',axis=1)"
   ]
  },
  {
   "cell_type": "code",
   "execution_count": 3,
   "metadata": {},
   "outputs": [
    {
     "data": {
      "text/html": [
       "<div>\n",
       "<style scoped>\n",
       "    .dataframe tbody tr th:only-of-type {\n",
       "        vertical-align: middle;\n",
       "    }\n",
       "\n",
       "    .dataframe tbody tr th {\n",
       "        vertical-align: top;\n",
       "    }\n",
       "\n",
       "    .dataframe thead th {\n",
       "        text-align: right;\n",
       "    }\n",
       "</style>\n",
       "<table border=\"1\" class=\"dataframe\">\n",
       "  <thead>\n",
       "    <tr style=\"text-align: right;\">\n",
       "      <th></th>\n",
       "      <th>sku</th>\n",
       "      <th>is_premium</th>\n",
       "      <th>price.original</th>\n",
       "      <th>almost</th>\n",
       "      <th>true_discount</th>\n",
       "      <th>tracking_discount</th>\n",
       "      <th>sponsored</th>\n",
       "      <th>10_extra</th>\n",
       "      <th>discount_flag</th>\n",
       "      <th>HOTDROP</th>\n",
       "      <th>...</th>\n",
       "      <th>new_color_black</th>\n",
       "      <th>new_color_blue</th>\n",
       "      <th>new_color_green</th>\n",
       "      <th>new_color_grey</th>\n",
       "      <th>new_color_navy</th>\n",
       "      <th>new_color_pink</th>\n",
       "      <th>new_color_red</th>\n",
       "      <th>new_color_rose</th>\n",
       "      <th>new_color_white</th>\n",
       "      <th>new_color_yellow</th>\n",
       "    </tr>\n",
       "  </thead>\n",
       "  <tbody>\n",
       "    <tr>\n",
       "      <th>0</th>\n",
       "      <td>NI113D07E-A11</td>\n",
       "      <td>0</td>\n",
       "      <td>84.95</td>\n",
       "      <td>0</td>\n",
       "      <td>30.15</td>\n",
       "      <td>1</td>\n",
       "      <td>1</td>\n",
       "      <td>0</td>\n",
       "      <td>30</td>\n",
       "      <td>1</td>\n",
       "      <td>...</td>\n",
       "      <td>0</td>\n",
       "      <td>0</td>\n",
       "      <td>0</td>\n",
       "      <td>0</td>\n",
       "      <td>0</td>\n",
       "      <td>0</td>\n",
       "      <td>0</td>\n",
       "      <td>0</td>\n",
       "      <td>1</td>\n",
       "      <td>0</td>\n",
       "    </tr>\n",
       "    <tr>\n",
       "      <th>1</th>\n",
       "      <td>NI114D09A-Q13</td>\n",
       "      <td>0</td>\n",
       "      <td>149.95</td>\n",
       "      <td>1</td>\n",
       "      <td>35.15</td>\n",
       "      <td>1</td>\n",
       "      <td>1</td>\n",
       "      <td>1</td>\n",
       "      <td>35</td>\n",
       "      <td>0</td>\n",
       "      <td>...</td>\n",
       "      <td>0</td>\n",
       "      <td>0</td>\n",
       "      <td>0</td>\n",
       "      <td>1</td>\n",
       "      <td>0</td>\n",
       "      <td>0</td>\n",
       "      <td>0</td>\n",
       "      <td>0</td>\n",
       "      <td>0</td>\n",
       "      <td>0</td>\n",
       "    </tr>\n",
       "    <tr>\n",
       "      <th>2</th>\n",
       "      <td>NI114D09U-K11</td>\n",
       "      <td>0</td>\n",
       "      <td>139.95</td>\n",
       "      <td>0</td>\n",
       "      <td>30.15</td>\n",
       "      <td>1</td>\n",
       "      <td>1</td>\n",
       "      <td>1</td>\n",
       "      <td>30</td>\n",
       "      <td>0</td>\n",
       "      <td>...</td>\n",
       "      <td>0</td>\n",
       "      <td>1</td>\n",
       "      <td>0</td>\n",
       "      <td>0</td>\n",
       "      <td>0</td>\n",
       "      <td>0</td>\n",
       "      <td>0</td>\n",
       "      <td>0</td>\n",
       "      <td>0</td>\n",
       "      <td>0</td>\n",
       "    </tr>\n",
       "    <tr>\n",
       "      <th>3</th>\n",
       "      <td>AD116D0GW-A11</td>\n",
       "      <td>0</td>\n",
       "      <td>64.95</td>\n",
       "      <td>1</td>\n",
       "      <td>30.15</td>\n",
       "      <td>1</td>\n",
       "      <td>0</td>\n",
       "      <td>1</td>\n",
       "      <td>30</td>\n",
       "      <td>0</td>\n",
       "      <td>...</td>\n",
       "      <td>0</td>\n",
       "      <td>0</td>\n",
       "      <td>0</td>\n",
       "      <td>0</td>\n",
       "      <td>0</td>\n",
       "      <td>0</td>\n",
       "      <td>0</td>\n",
       "      <td>0</td>\n",
       "      <td>1</td>\n",
       "      <td>0</td>\n",
       "    </tr>\n",
       "    <tr>\n",
       "      <th>4</th>\n",
       "      <td>TO124G05S-Q11</td>\n",
       "      <td>1</td>\n",
       "      <td>14.95</td>\n",
       "      <td>0</td>\n",
       "      <td>20.15</td>\n",
       "      <td>1</td>\n",
       "      <td>0</td>\n",
       "      <td>1</td>\n",
       "      <td>20</td>\n",
       "      <td>0</td>\n",
       "      <td>...</td>\n",
       "      <td>0</td>\n",
       "      <td>0</td>\n",
       "      <td>0</td>\n",
       "      <td>0</td>\n",
       "      <td>0</td>\n",
       "      <td>0</td>\n",
       "      <td>0</td>\n",
       "      <td>0</td>\n",
       "      <td>0</td>\n",
       "      <td>0</td>\n",
       "    </tr>\n",
       "  </tbody>\n",
       "</table>\n",
       "<p>5 rows × 39 columns</p>\n",
       "</div>"
      ],
      "text/plain": [
       "             sku  is_premium  price.original  almost  true_discount  \\\n",
       "0  NI113D07E-A11           0           84.95       0          30.15   \n",
       "1  NI114D09A-Q13           0          149.95       1          35.15   \n",
       "2  NI114D09U-K11           0          139.95       0          30.15   \n",
       "3  AD116D0GW-A11           0           64.95       1          30.15   \n",
       "4  TO124G05S-Q11           1           14.95       0          20.15   \n",
       "\n",
       "   tracking_discount  sponsored  10_extra  discount_flag  HOTDROP  ...  \\\n",
       "0                  1          1         0             30        1  ...   \n",
       "1                  1          1         1             35        0  ...   \n",
       "2                  1          1         1             30        0  ...   \n",
       "3                  1          0         1             30        0  ...   \n",
       "4                  1          0         1             20        0  ...   \n",
       "\n",
       "   new_color_black  new_color_blue  new_color_green  new_color_grey  \\\n",
       "0                0               0                0               0   \n",
       "1                0               0                0               1   \n",
       "2                0               1                0               0   \n",
       "3                0               0                0               0   \n",
       "4                0               0                0               0   \n",
       "\n",
       "   new_color_navy  new_color_pink  new_color_red  new_color_rose  \\\n",
       "0               0               0              0               0   \n",
       "1               0               0              0               0   \n",
       "2               0               0              0               0   \n",
       "3               0               0              0               0   \n",
       "4               0               0              0               0   \n",
       "\n",
       "   new_color_white  new_color_yellow  \n",
       "0                1                 0  \n",
       "1                0                 0  \n",
       "2                0                 0  \n",
       "3                1                 0  \n",
       "4                0                 0  \n",
       "\n",
       "[5 rows x 39 columns]"
      ]
     },
     "execution_count": 3,
     "metadata": {},
     "output_type": "execute_result"
    }
   ],
   "source": [
    "df.head()"
   ]
  },
  {
   "cell_type": "code",
   "execution_count": 4,
   "metadata": {},
   "outputs": [
    {
     "data": {
      "text/plain": [
       "Index(['sku', 'is_premium', 'price.original', 'almost', 'true_discount',\n",
       "       'tracking_discount', 'sponsored', '10_extra', 'discount_flag',\n",
       "       'HOTDROP', 'tracking_sustainable', 'new_category_baskets',\n",
       "       'new_category_chaussures', 'new_category_jean', 'new_category_pantalon',\n",
       "       'new_category_pyjama', 'new_category_robe', 'new_category_sandal',\n",
       "       'new_category_shirt', 'new_category_short', 'new_category_sweatshirt',\n",
       "       'new_category_t-shirt', 'new_category_veste',\n",
       "       'product_group_beach_wear', 'product_group_clothing',\n",
       "       'product_group_equipment', 'product_group_nightwear',\n",
       "       'product_group_shoe', 'product_group_underwear', 'new_color_black',\n",
       "       'new_color_blue', 'new_color_green', 'new_color_grey', 'new_color_navy',\n",
       "       'new_color_pink', 'new_color_red', 'new_color_rose', 'new_color_white',\n",
       "       'new_color_yellow'],\n",
       "      dtype='object')"
      ]
     },
     "execution_count": 4,
     "metadata": {},
     "output_type": "execute_result"
    }
   ],
   "source": [
    "df.columns"
   ]
  },
  {
   "cell_type": "code",
   "execution_count": 5,
   "metadata": {},
   "outputs": [],
   "source": [
    "df.drop(['sku','new_category_baskets',\n",
    "       'new_category_chaussures', 'new_category_jean', 'new_category_pantalon',\n",
    "       'new_category_pyjama', 'new_category_robe', 'new_category_sandal',\n",
    "       'new_category_shirt', 'new_category_short', 'new_category_sweatshirt',\n",
    "       'new_category_t-shirt', 'new_category_veste','true_discount'],axis=1,inplace=True)"
   ]
  },
  {
   "cell_type": "code",
   "execution_count": 6,
   "metadata": {},
   "outputs": [],
   "source": [
    "df.new_color_pink=(df.new_color_rose+df.new_color_pink).map({2:1,1:1,0:0})"
   ]
  },
  {
   "cell_type": "code",
   "execution_count": 7,
   "metadata": {},
   "outputs": [],
   "source": [
    "df.drop('new_color_rose',axis=1,inplace=True)"
   ]
  },
  {
   "cell_type": "code",
   "execution_count": 8,
   "metadata": {},
   "outputs": [
    {
     "data": {
      "text/plain": [
       "Index(['is_premium', 'price.original', 'almost', 'tracking_discount',\n",
       "       'sponsored', '10_extra', 'discount_flag', 'HOTDROP',\n",
       "       'tracking_sustainable', 'product_group_beach_wear',\n",
       "       'product_group_clothing', 'product_group_equipment',\n",
       "       'product_group_nightwear', 'product_group_shoe',\n",
       "       'product_group_underwear', 'new_color_black', 'new_color_blue',\n",
       "       'new_color_green', 'new_color_grey', 'new_color_navy', 'new_color_pink',\n",
       "       'new_color_red', 'new_color_white', 'new_color_yellow'],\n",
       "      dtype='object')"
      ]
     },
     "execution_count": 8,
     "metadata": {},
     "output_type": "execute_result"
    }
   ],
   "source": [
    "df.columns"
   ]
  },
  {
   "cell_type": "markdown",
   "metadata": {},
   "source": [
    "## X,y"
   ]
  },
  {
   "cell_type": "code",
   "execution_count": 9,
   "metadata": {},
   "outputs": [],
   "source": [
    "y=df.discount_flag"
   ]
  },
  {
   "cell_type": "code",
   "execution_count": 10,
   "metadata": {},
   "outputs": [],
   "source": [
    "X=df.drop(['price.original','almost','discount_flag','product_group_beach_wear', \n",
    "           'product_group_clothing','product_group_equipment', 'product_group_nightwear',\n",
    "           'product_group_shoe', 'product_group_underwear','new_color_black','new_color_navy'],\n",
    "          axis=1)"
   ]
  },
  {
   "cell_type": "code",
   "execution_count": 11,
   "metadata": {},
   "outputs": [
    {
     "data": {
      "text/html": [
       "<div>\n",
       "<style scoped>\n",
       "    .dataframe tbody tr th:only-of-type {\n",
       "        vertical-align: middle;\n",
       "    }\n",
       "\n",
       "    .dataframe tbody tr th {\n",
       "        vertical-align: top;\n",
       "    }\n",
       "\n",
       "    .dataframe thead th {\n",
       "        text-align: right;\n",
       "    }\n",
       "</style>\n",
       "<table border=\"1\" class=\"dataframe\">\n",
       "  <thead>\n",
       "    <tr style=\"text-align: right;\">\n",
       "      <th></th>\n",
       "      <th>is_premium</th>\n",
       "      <th>tracking_discount</th>\n",
       "      <th>sponsored</th>\n",
       "      <th>10_extra</th>\n",
       "      <th>HOTDROP</th>\n",
       "      <th>tracking_sustainable</th>\n",
       "      <th>new_color_blue</th>\n",
       "      <th>new_color_green</th>\n",
       "      <th>new_color_grey</th>\n",
       "      <th>new_color_pink</th>\n",
       "      <th>new_color_red</th>\n",
       "      <th>new_color_white</th>\n",
       "      <th>new_color_yellow</th>\n",
       "    </tr>\n",
       "  </thead>\n",
       "  <tbody>\n",
       "    <tr>\n",
       "      <th>0</th>\n",
       "      <td>0</td>\n",
       "      <td>1</td>\n",
       "      <td>1</td>\n",
       "      <td>0</td>\n",
       "      <td>1</td>\n",
       "      <td>0</td>\n",
       "      <td>0</td>\n",
       "      <td>0</td>\n",
       "      <td>0</td>\n",
       "      <td>0</td>\n",
       "      <td>0</td>\n",
       "      <td>1</td>\n",
       "      <td>0</td>\n",
       "    </tr>\n",
       "    <tr>\n",
       "      <th>1</th>\n",
       "      <td>0</td>\n",
       "      <td>1</td>\n",
       "      <td>1</td>\n",
       "      <td>1</td>\n",
       "      <td>0</td>\n",
       "      <td>0</td>\n",
       "      <td>0</td>\n",
       "      <td>0</td>\n",
       "      <td>1</td>\n",
       "      <td>0</td>\n",
       "      <td>0</td>\n",
       "      <td>0</td>\n",
       "      <td>0</td>\n",
       "    </tr>\n",
       "    <tr>\n",
       "      <th>2</th>\n",
       "      <td>0</td>\n",
       "      <td>1</td>\n",
       "      <td>1</td>\n",
       "      <td>1</td>\n",
       "      <td>0</td>\n",
       "      <td>0</td>\n",
       "      <td>1</td>\n",
       "      <td>0</td>\n",
       "      <td>0</td>\n",
       "      <td>0</td>\n",
       "      <td>0</td>\n",
       "      <td>0</td>\n",
       "      <td>0</td>\n",
       "    </tr>\n",
       "    <tr>\n",
       "      <th>3</th>\n",
       "      <td>0</td>\n",
       "      <td>1</td>\n",
       "      <td>0</td>\n",
       "      <td>1</td>\n",
       "      <td>0</td>\n",
       "      <td>0</td>\n",
       "      <td>0</td>\n",
       "      <td>0</td>\n",
       "      <td>0</td>\n",
       "      <td>0</td>\n",
       "      <td>0</td>\n",
       "      <td>1</td>\n",
       "      <td>0</td>\n",
       "    </tr>\n",
       "    <tr>\n",
       "      <th>4</th>\n",
       "      <td>1</td>\n",
       "      <td>1</td>\n",
       "      <td>0</td>\n",
       "      <td>1</td>\n",
       "      <td>0</td>\n",
       "      <td>0</td>\n",
       "      <td>0</td>\n",
       "      <td>0</td>\n",
       "      <td>0</td>\n",
       "      <td>0</td>\n",
       "      <td>0</td>\n",
       "      <td>0</td>\n",
       "      <td>0</td>\n",
       "    </tr>\n",
       "  </tbody>\n",
       "</table>\n",
       "</div>"
      ],
      "text/plain": [
       "   is_premium  tracking_discount  sponsored  10_extra  HOTDROP  \\\n",
       "0           0                  1          1         0        1   \n",
       "1           0                  1          1         1        0   \n",
       "2           0                  1          1         1        0   \n",
       "3           0                  1          0         1        0   \n",
       "4           1                  1          0         1        0   \n",
       "\n",
       "   tracking_sustainable  new_color_blue  new_color_green  new_color_grey  \\\n",
       "0                     0               0                0               0   \n",
       "1                     0               0                0               1   \n",
       "2                     0               1                0               0   \n",
       "3                     0               0                0               0   \n",
       "4                     0               0                0               0   \n",
       "\n",
       "   new_color_pink  new_color_red  new_color_white  new_color_yellow  \n",
       "0               0              0                1                 0  \n",
       "1               0              0                0                 0  \n",
       "2               0              0                0                 0  \n",
       "3               0              0                1                 0  \n",
       "4               0              0                0                 0  "
      ]
     },
     "execution_count": 11,
     "metadata": {},
     "output_type": "execute_result"
    }
   ],
   "source": [
    "X.head()"
   ]
  },
  {
   "cell_type": "markdown",
   "metadata": {},
   "source": [
    "## Clusters"
   ]
  },
  {
   "cell_type": "code",
   "execution_count": 12,
   "metadata": {},
   "outputs": [],
   "source": [
    "model=KMeans()"
   ]
  },
  {
   "cell_type": "code",
   "execution_count": 13,
   "metadata": {
    "scrolled": true
   },
   "outputs": [
    {
     "data": {
      "image/png": "[encoded data removed]",
      "text/plain": [
       "<Figure size 432x288 with 2 Axes>"
      ]
     },
     "metadata": {},
     "output_type": "display_data"
    }
   ],
   "source": [
    "visualizer=KElbowVisualizer(model,k=(1,12))\n",
    "visualizer.fit(X)\n",
    "visualizer.poof();"
   ]
  },
  {
   "cell_type": "markdown",
   "metadata": {},
   "source": [
    "# KMeans"
   ]
  },
  {
   "cell_type": "code",
   "execution_count": 14,
   "metadata": {},
   "outputs": [],
   "source": [
    "kmeans=KMeans(5)"
   ]
  },
  {
   "cell_type": "code",
   "execution_count": 15,
   "metadata": {},
   "outputs": [],
   "source": [
    "df_cluster=kmeans.fit(X)"
   ]
  },
  {
   "cell_type": "code",
   "execution_count": 16,
   "metadata": {
    "collapsed": true
   },
   "outputs": [
    {
     "data": {
      "text/plain": [
       "array([[ 1.00000000e+00,  1.00000000e+00,  1.89193279e-17,\n",
       "         8.78032569e-01,  6.44016090e-17,  2.85809239e-02,\n",
       "         1.72814889e-01,  2.62545696e-02,  5.68295115e-02,\n",
       "         7.04553008e-02,  6.31439016e-02,  1.39248920e-01,\n",
       "         2.65869059e-02],\n",
       "       [-2.52575738e-14,  9.99745223e-01,  3.82165605e-04,\n",
       "         1.00000000e+00, -1.92554306e-16,  5.54140127e-02,\n",
       "        -1.65145675e-14,  3.29936306e-02,  1.01146497e-01,\n",
       "         1.23312102e-01,  6.00000000e-02, -1.64868119e-14,\n",
       "         2.36942675e-02],\n",
       "       [ 1.76491352e-03,  9.58348041e-01,  7.05965408e-04,\n",
       "         7.15848923e-01,  1.41193082e-03,  5.01235439e-02,\n",
       "         1.00000000e+00,  2.98372438e-16, -4.34374758e-15,\n",
       "         1.66533454e-15, -2.30371278e-15, -8.18789481e-15,\n",
       "        -6.80011603e-16],\n",
       "       [ 7.91139241e-03,  8.01819620e-01,  3.95569620e-04,\n",
       "         3.17523785e-14,  9.49367089e-03,  4.11392405e-02,\n",
       "        -7.96585020e-15,  4.74683544e-02,  8.90031646e-02,\n",
       "         1.13528481e-01,  6.56645570e-02,  2.26661392e-01,\n",
       "         2.72943038e-02],\n",
       "       [ 5.93969318e-15,  1.00000000e+00,  3.74049750e-18,\n",
       "         1.00000000e+00,  2.23345648e-17,  3.55834642e-02,\n",
       "        -3.88578059e-15,  8.70831185e-16,  6.93889390e-17,\n",
       "         1.47104551e-15, -9.22872889e-16,  1.00000000e+00,\n",
       "        -4.71844785e-16]])"
      ]
     },
     "execution_count": 16,
     "metadata": {},
     "output_type": "execute_result"
    }
   ],
   "source": [
    "df_cluster.cluster_centers_"
   ]
  },
  {
   "cell_type": "code",
   "execution_count": 17,
   "metadata": {},
   "outputs": [],
   "source": [
    "df_ml1=df.copy()"
   ]
  },
  {
   "cell_type": "code",
   "execution_count": 18,
   "metadata": {},
   "outputs": [],
   "source": [
    "df_ml1['clusters']=df_cluster.labels_"
   ]
  },
  {
   "cell_type": "code",
   "execution_count": 19,
   "metadata": {},
   "outputs": [
    {
     "data": {
      "text/plain": [
       "1    7850\n",
       "0    3009\n",
       "2    2833\n",
       "3    2528\n",
       "4    1911\n",
       "Name: clusters, dtype: int64"
      ]
     },
     "execution_count": 19,
     "metadata": {},
     "output_type": "execute_result"
    }
   ],
   "source": [
    "df_ml1.clusters.value_counts()"
   ]
  },
  {
   "cell_type": "code",
   "execution_count": 20,
   "metadata": {
    "scrolled": false
   },
   "outputs": [
    {
     "data": {
      "text/html": [
       "<div>\n",
       "<style scoped>\n",
       "    .dataframe tbody tr th:only-of-type {\n",
       "        vertical-align: middle;\n",
       "    }\n",
       "\n",
       "    .dataframe tbody tr th {\n",
       "        vertical-align: top;\n",
       "    }\n",
       "\n",
       "    .dataframe thead th {\n",
       "        text-align: right;\n",
       "    }\n",
       "</style>\n",
       "<table border=\"1\" class=\"dataframe\">\n",
       "  <thead>\n",
       "    <tr style=\"text-align: right;\">\n",
       "      <th></th>\n",
       "      <th>is_premium</th>\n",
       "      <th>price.original</th>\n",
       "      <th>almost</th>\n",
       "      <th>tracking_discount</th>\n",
       "      <th>sponsored</th>\n",
       "      <th>10_extra</th>\n",
       "      <th>discount_flag</th>\n",
       "      <th>HOTDROP</th>\n",
       "      <th>tracking_sustainable</th>\n",
       "      <th>product_group_beach_wear</th>\n",
       "      <th>...</th>\n",
       "      <th>new_color_black</th>\n",
       "      <th>new_color_blue</th>\n",
       "      <th>new_color_green</th>\n",
       "      <th>new_color_grey</th>\n",
       "      <th>new_color_navy</th>\n",
       "      <th>new_color_pink</th>\n",
       "      <th>new_color_red</th>\n",
       "      <th>new_color_white</th>\n",
       "      <th>new_color_yellow</th>\n",
       "      <th>clusters</th>\n",
       "    </tr>\n",
       "  </thead>\n",
       "  <tbody>\n",
       "    <tr>\n",
       "      <th>0</th>\n",
       "      <td>0</td>\n",
       "      <td>84.95</td>\n",
       "      <td>0</td>\n",
       "      <td>1</td>\n",
       "      <td>1</td>\n",
       "      <td>0</td>\n",
       "      <td>30</td>\n",
       "      <td>1</td>\n",
       "      <td>0</td>\n",
       "      <td>0</td>\n",
       "      <td>...</td>\n",
       "      <td>0</td>\n",
       "      <td>0</td>\n",
       "      <td>0</td>\n",
       "      <td>0</td>\n",
       "      <td>0</td>\n",
       "      <td>0</td>\n",
       "      <td>0</td>\n",
       "      <td>1</td>\n",
       "      <td>0</td>\n",
       "      <td>3</td>\n",
       "    </tr>\n",
       "    <tr>\n",
       "      <th>1</th>\n",
       "      <td>0</td>\n",
       "      <td>149.95</td>\n",
       "      <td>1</td>\n",
       "      <td>1</td>\n",
       "      <td>1</td>\n",
       "      <td>1</td>\n",
       "      <td>35</td>\n",
       "      <td>0</td>\n",
       "      <td>0</td>\n",
       "      <td>0</td>\n",
       "      <td>...</td>\n",
       "      <td>0</td>\n",
       "      <td>0</td>\n",
       "      <td>0</td>\n",
       "      <td>1</td>\n",
       "      <td>0</td>\n",
       "      <td>0</td>\n",
       "      <td>0</td>\n",
       "      <td>0</td>\n",
       "      <td>0</td>\n",
       "      <td>1</td>\n",
       "    </tr>\n",
       "    <tr>\n",
       "      <th>2</th>\n",
       "      <td>0</td>\n",
       "      <td>139.95</td>\n",
       "      <td>0</td>\n",
       "      <td>1</td>\n",
       "      <td>1</td>\n",
       "      <td>1</td>\n",
       "      <td>30</td>\n",
       "      <td>0</td>\n",
       "      <td>0</td>\n",
       "      <td>0</td>\n",
       "      <td>...</td>\n",
       "      <td>0</td>\n",
       "      <td>1</td>\n",
       "      <td>0</td>\n",
       "      <td>0</td>\n",
       "      <td>0</td>\n",
       "      <td>0</td>\n",
       "      <td>0</td>\n",
       "      <td>0</td>\n",
       "      <td>0</td>\n",
       "      <td>2</td>\n",
       "    </tr>\n",
       "    <tr>\n",
       "      <th>3</th>\n",
       "      <td>0</td>\n",
       "      <td>64.95</td>\n",
       "      <td>1</td>\n",
       "      <td>1</td>\n",
       "      <td>0</td>\n",
       "      <td>1</td>\n",
       "      <td>30</td>\n",
       "      <td>0</td>\n",
       "      <td>0</td>\n",
       "      <td>0</td>\n",
       "      <td>...</td>\n",
       "      <td>0</td>\n",
       "      <td>0</td>\n",
       "      <td>0</td>\n",
       "      <td>0</td>\n",
       "      <td>0</td>\n",
       "      <td>0</td>\n",
       "      <td>0</td>\n",
       "      <td>1</td>\n",
       "      <td>0</td>\n",
       "      <td>4</td>\n",
       "    </tr>\n",
       "    <tr>\n",
       "      <th>4</th>\n",
       "      <td>1</td>\n",
       "      <td>14.95</td>\n",
       "      <td>0</td>\n",
       "      <td>1</td>\n",
       "      <td>0</td>\n",
       "      <td>1</td>\n",
       "      <td>20</td>\n",
       "      <td>0</td>\n",
       "      <td>0</td>\n",
       "      <td>0</td>\n",
       "      <td>...</td>\n",
       "      <td>0</td>\n",
       "      <td>0</td>\n",
       "      <td>0</td>\n",
       "      <td>0</td>\n",
       "      <td>0</td>\n",
       "      <td>0</td>\n",
       "      <td>0</td>\n",
       "      <td>0</td>\n",
       "      <td>0</td>\n",
       "      <td>0</td>\n",
       "    </tr>\n",
       "  </tbody>\n",
       "</table>\n",
       "<p>5 rows × 25 columns</p>\n",
       "</div>"
      ],
      "text/plain": [
       "   is_premium  price.original  almost  tracking_discount  sponsored  10_extra  \\\n",
       "0           0           84.95       0                  1          1         0   \n",
       "1           0          149.95       1                  1          1         1   \n",
       "2           0          139.95       0                  1          1         1   \n",
       "3           0           64.95       1                  1          0         1   \n",
       "4           1           14.95       0                  1          0         1   \n",
       "\n",
       "   discount_flag  HOTDROP  tracking_sustainable  product_group_beach_wear  \\\n",
       "0             30        1                     0                         0   \n",
       "1             35        0                     0                         0   \n",
       "2             30        0                     0                         0   \n",
       "3             30        0                     0                         0   \n",
       "4             20        0                     0                         0   \n",
       "\n",
       "   ...  new_color_black  new_color_blue  new_color_green  new_color_grey  \\\n",
       "0  ...                0               0                0               0   \n",
       "1  ...                0               0                0               1   \n",
       "2  ...                0               1                0               0   \n",
       "3  ...                0               0                0               0   \n",
       "4  ...                0               0                0               0   \n",
       "\n",
       "   new_color_navy  new_color_pink  new_color_red  new_color_white  \\\n",
       "0               0               0              0                1   \n",
       "1               0               0              0                0   \n",
       "2               0               0              0                0   \n",
       "3               0               0              0                1   \n",
       "4               0               0              0                0   \n",
       "\n",
       "   new_color_yellow  clusters  \n",
       "0                 0         3  \n",
       "1                 0         1  \n",
       "2                 0         2  \n",
       "3                 0         4  \n",
       "4                 0         0  \n",
       "\n",
       "[5 rows x 25 columns]"
      ]
     },
     "execution_count": 20,
     "metadata": {},
     "output_type": "execute_result"
    }
   ],
   "source": [
    "df_ml1.head()"
   ]
  },
  {
   "cell_type": "code",
   "execution_count": 21,
   "metadata": {
    "scrolled": true
   },
   "outputs": [
    {
     "data": {
      "text/html": [
       "<div>\n",
       "<style scoped>\n",
       "    .dataframe tbody tr th:only-of-type {\n",
       "        vertical-align: middle;\n",
       "    }\n",
       "\n",
       "    .dataframe tbody tr th {\n",
       "        vertical-align: top;\n",
       "    }\n",
       "\n",
       "    .dataframe thead th {\n",
       "        text-align: right;\n",
       "    }\n",
       "</style>\n",
       "<table border=\"1\" class=\"dataframe\">\n",
       "  <thead>\n",
       "    <tr style=\"text-align: right;\">\n",
       "      <th>clusters</th>\n",
       "      <th>0</th>\n",
       "      <th>1</th>\n",
       "      <th>2</th>\n",
       "      <th>3</th>\n",
       "      <th>4</th>\n",
       "    </tr>\n",
       "  </thead>\n",
       "  <tbody>\n",
       "    <tr>\n",
       "      <th>is_premium</th>\n",
       "      <td>1.00</td>\n",
       "      <td>0.00</td>\n",
       "      <td>0.00</td>\n",
       "      <td>0.01</td>\n",
       "      <td>0.00</td>\n",
       "    </tr>\n",
       "    <tr>\n",
       "      <th>price.original</th>\n",
       "      <td>62.90</td>\n",
       "      <td>35.61</td>\n",
       "      <td>34.96</td>\n",
       "      <td>40.22</td>\n",
       "      <td>38.13</td>\n",
       "    </tr>\n",
       "    <tr>\n",
       "      <th>almost</th>\n",
       "      <td>0.04</td>\n",
       "      <td>0.06</td>\n",
       "      <td>0.07</td>\n",
       "      <td>0.08</td>\n",
       "      <td>0.10</td>\n",
       "    </tr>\n",
       "    <tr>\n",
       "      <th>tracking_discount</th>\n",
       "      <td>1.00</td>\n",
       "      <td>1.00</td>\n",
       "      <td>0.96</td>\n",
       "      <td>0.80</td>\n",
       "      <td>1.00</td>\n",
       "    </tr>\n",
       "    <tr>\n",
       "      <th>sponsored</th>\n",
       "      <td>0.00</td>\n",
       "      <td>0.00</td>\n",
       "      <td>0.00</td>\n",
       "      <td>0.00</td>\n",
       "      <td>0.00</td>\n",
       "    </tr>\n",
       "    <tr>\n",
       "      <th>10_extra</th>\n",
       "      <td>0.88</td>\n",
       "      <td>1.00</td>\n",
       "      <td>0.72</td>\n",
       "      <td>0.00</td>\n",
       "      <td>1.00</td>\n",
       "    </tr>\n",
       "    <tr>\n",
       "      <th>discount_flag</th>\n",
       "      <td>33.46</td>\n",
       "      <td>31.73</td>\n",
       "      <td>28.99</td>\n",
       "      <td>21.34</td>\n",
       "      <td>29.95</td>\n",
       "    </tr>\n",
       "    <tr>\n",
       "      <th>HOTDROP</th>\n",
       "      <td>0.00</td>\n",
       "      <td>0.00</td>\n",
       "      <td>0.00</td>\n",
       "      <td>0.01</td>\n",
       "      <td>0.00</td>\n",
       "    </tr>\n",
       "    <tr>\n",
       "      <th>tracking_sustainable</th>\n",
       "      <td>0.03</td>\n",
       "      <td>0.06</td>\n",
       "      <td>0.05</td>\n",
       "      <td>0.04</td>\n",
       "      <td>0.04</td>\n",
       "    </tr>\n",
       "    <tr>\n",
       "      <th>product_group_beach_wear</th>\n",
       "      <td>0.06</td>\n",
       "      <td>0.02</td>\n",
       "      <td>0.02</td>\n",
       "      <td>0.02</td>\n",
       "      <td>0.01</td>\n",
       "    </tr>\n",
       "    <tr>\n",
       "      <th>product_group_clothing</th>\n",
       "      <td>0.76</td>\n",
       "      <td>0.63</td>\n",
       "      <td>0.69</td>\n",
       "      <td>0.66</td>\n",
       "      <td>0.52</td>\n",
       "    </tr>\n",
       "    <tr>\n",
       "      <th>product_group_equipment</th>\n",
       "      <td>0.00</td>\n",
       "      <td>0.00</td>\n",
       "      <td>0.00</td>\n",
       "      <td>0.00</td>\n",
       "      <td>0.00</td>\n",
       "    </tr>\n",
       "    <tr>\n",
       "      <th>product_group_nightwear</th>\n",
       "      <td>0.02</td>\n",
       "      <td>0.02</td>\n",
       "      <td>0.02</td>\n",
       "      <td>0.01</td>\n",
       "      <td>0.02</td>\n",
       "    </tr>\n",
       "    <tr>\n",
       "      <th>product_group_shoe</th>\n",
       "      <td>0.07</td>\n",
       "      <td>0.25</td>\n",
       "      <td>0.21</td>\n",
       "      <td>0.30</td>\n",
       "      <td>0.38</td>\n",
       "    </tr>\n",
       "    <tr>\n",
       "      <th>product_group_underwear</th>\n",
       "      <td>0.06</td>\n",
       "      <td>0.07</td>\n",
       "      <td>0.05</td>\n",
       "      <td>0.01</td>\n",
       "      <td>0.06</td>\n",
       "    </tr>\n",
       "    <tr>\n",
       "      <th>new_color_black</th>\n",
       "      <td>0.04</td>\n",
       "      <td>0.12</td>\n",
       "      <td>0.00</td>\n",
       "      <td>0.10</td>\n",
       "      <td>0.00</td>\n",
       "    </tr>\n",
       "    <tr>\n",
       "      <th>new_color_blue</th>\n",
       "      <td>0.17</td>\n",
       "      <td>0.00</td>\n",
       "      <td>1.00</td>\n",
       "      <td>0.00</td>\n",
       "      <td>0.00</td>\n",
       "    </tr>\n",
       "    <tr>\n",
       "      <th>new_color_green</th>\n",
       "      <td>0.03</td>\n",
       "      <td>0.03</td>\n",
       "      <td>0.00</td>\n",
       "      <td>0.05</td>\n",
       "      <td>0.00</td>\n",
       "    </tr>\n",
       "    <tr>\n",
       "      <th>new_color_grey</th>\n",
       "      <td>0.06</td>\n",
       "      <td>0.10</td>\n",
       "      <td>0.00</td>\n",
       "      <td>0.09</td>\n",
       "      <td>0.00</td>\n",
       "    </tr>\n",
       "    <tr>\n",
       "      <th>new_color_navy</th>\n",
       "      <td>0.04</td>\n",
       "      <td>0.06</td>\n",
       "      <td>0.00</td>\n",
       "      <td>0.03</td>\n",
       "      <td>0.00</td>\n",
       "    </tr>\n",
       "    <tr>\n",
       "      <th>new_color_pink</th>\n",
       "      <td>0.07</td>\n",
       "      <td>0.12</td>\n",
       "      <td>0.00</td>\n",
       "      <td>0.11</td>\n",
       "      <td>0.00</td>\n",
       "    </tr>\n",
       "    <tr>\n",
       "      <th>new_color_red</th>\n",
       "      <td>0.06</td>\n",
       "      <td>0.06</td>\n",
       "      <td>0.00</td>\n",
       "      <td>0.07</td>\n",
       "      <td>0.00</td>\n",
       "    </tr>\n",
       "    <tr>\n",
       "      <th>new_color_white</th>\n",
       "      <td>0.14</td>\n",
       "      <td>0.00</td>\n",
       "      <td>0.00</td>\n",
       "      <td>0.23</td>\n",
       "      <td>1.00</td>\n",
       "    </tr>\n",
       "    <tr>\n",
       "      <th>new_color_yellow</th>\n",
       "      <td>0.03</td>\n",
       "      <td>0.02</td>\n",
       "      <td>0.00</td>\n",
       "      <td>0.03</td>\n",
       "      <td>0.00</td>\n",
       "    </tr>\n",
       "  </tbody>\n",
       "</table>\n",
       "</div>"
      ],
      "text/plain": [
       "clusters                      0      1      2      3      4\n",
       "is_premium                 1.00   0.00   0.00   0.01   0.00\n",
       "price.original            62.90  35.61  34.96  40.22  38.13\n",
       "almost                     0.04   0.06   0.07   0.08   0.10\n",
       "tracking_discount          1.00   1.00   0.96   0.80   1.00\n",
       "sponsored                  0.00   0.00   0.00   0.00   0.00\n",
       "10_extra                   0.88   1.00   0.72   0.00   1.00\n",
       "discount_flag             33.46  31.73  28.99  21.34  29.95\n",
       "HOTDROP                    0.00   0.00   0.00   0.01   0.00\n",
       "tracking_sustainable       0.03   0.06   0.05   0.04   0.04\n",
       "product_group_beach_wear   0.06   0.02   0.02   0.02   0.01\n",
       "product_group_clothing     0.76   0.63   0.69   0.66   0.52\n",
       "product_group_equipment    0.00   0.00   0.00   0.00   0.00\n",
       "product_group_nightwear    0.02   0.02   0.02   0.01   0.02\n",
       "product_group_shoe         0.07   0.25   0.21   0.30   0.38\n",
       "product_group_underwear    0.06   0.07   0.05   0.01   0.06\n",
       "new_color_black            0.04   0.12   0.00   0.10   0.00\n",
       "new_color_blue             0.17   0.00   1.00   0.00   0.00\n",
       "new_color_green            0.03   0.03   0.00   0.05   0.00\n",
       "new_color_grey             0.06   0.10   0.00   0.09   0.00\n",
       "new_color_navy             0.04   0.06   0.00   0.03   0.00\n",
       "new_color_pink             0.07   0.12   0.00   0.11   0.00\n",
       "new_color_red              0.06   0.06   0.00   0.07   0.00\n",
       "new_color_white            0.14   0.00   0.00   0.23   1.00\n",
       "new_color_yellow           0.03   0.02   0.00   0.03   0.00"
      ]
     },
     "execution_count": 21,
     "metadata": {},
     "output_type": "execute_result"
    }
   ],
   "source": [
    "df_ml1.groupby('clusters').mean().round(2).T"
   ]
  },
  {
   "cell_type": "code",
   "execution_count": 22,
   "metadata": {},
   "outputs": [
    {
     "data": {
      "image/png": "[encoded data removed]",
      "text/plain": [
       "<Figure size 432x288 with 2 Axes>"
      ]
     },
     "metadata": {
      "needs_background": "light"
     },
     "output_type": "display_data"
    }
   ],
   "source": [
    "sns.heatmap(df_ml1.groupby('clusters').mean().drop({'price.original','discount_flag'},axis=1));"
   ]
  },
  {
   "cell_type": "markdown",
   "metadata": {},
   "source": [
    "\n",
    "# 1. MinMaxScaler"
   ]
  },
  {
   "cell_type": "code",
   "execution_count": 23,
   "metadata": {},
   "outputs": [],
   "source": [
    "# X_sc=X.copy()\n",
    "# cols=X.columns\n",
    "# for i in cols:\n",
    "#     X_sc[i]=X_sc[i].apply(lambda x: (x-X_sc[i].min())/(X_sc[i].max()-X_sc[i].min()))"
   ]
  },
  {
   "cell_type": "code",
   "execution_count": 24,
   "metadata": {},
   "outputs": [],
   "source": [
    "scaler = MinMaxScaler()\n",
    "X_sc = scaler.fit_transform(X)\n",
    "X_sc = pd.DataFrame(X_sc)"
   ]
  },
  {
   "cell_type": "markdown",
   "metadata": {},
   "source": [
    "# Visualizer # clusters"
   ]
  },
  {
   "cell_type": "code",
   "execution_count": 25,
   "metadata": {
    "scrolled": true
   },
   "outputs": [
    {
     "data": {
      "image/png": "[encoded data removed]",
      "text/plain": [
       "<Figure size 432x288 with 2 Axes>"
      ]
     },
     "metadata": {},
     "output_type": "display_data"
    }
   ],
   "source": [
    "visualizer=KElbowVisualizer(model,k=(1,12))\n",
    "visualizer.fit(X_sc)\n",
    "visualizer.poof();"
   ]
  },
  {
   "cell_type": "markdown",
   "metadata": {},
   "source": [
    "# Clusters"
   ]
  },
  {
   "cell_type": "code",
   "execution_count": 26,
   "metadata": {},
   "outputs": [],
   "source": [
    "df_cluster2=kmeans.fit(X_sc)"
   ]
  },
  {
   "cell_type": "code",
   "execution_count": 27,
   "metadata": {
    "collapsed": true
   },
   "outputs": [
    {
     "data": {
      "text/plain": [
       "array([[-2.69506639e-14,  9.60745254e-01,  3.51535036e-04,\n",
       "         8.06421373e-01,  5.85891727e-04,  5.53081790e-02,\n",
       "        -1.68476344e-14,  4.44105929e-02,  1.19287556e-01,\n",
       "         1.90125693e-15,  7.45254277e-02, -1.68753900e-14,\n",
       "         2.98804781e-02],\n",
       "       [ 1.56576200e-01,  9.64807635e-01,  5.96480763e-04,\n",
       "         7.40530868e-01,  1.19296153e-03,  4.74202207e-02,\n",
       "         1.00000000e+00, -6.27969898e-16, -5.85642645e-15,\n",
       "         1.72084569e-15, -2.74780199e-15, -1.01862963e-14,\n",
       "        -7.45931095e-16],\n",
       "       [ 1.45194274e-01,  9.61826858e-01, -7.20994445e-18,\n",
       "         7.89366053e-01, -1.23599048e-17,  3.61281527e-02,\n",
       "         1.19348975e-15,  7.04297731e-16,  6.93889390e-17,\n",
       "         1.00000000e+00,  3.60822483e-16,  1.41553436e-15,\n",
       "        -2.77555756e-16],\n",
       "       [ 1.45366862e-01,  9.66930761e-01,  3.44471237e-04,\n",
       "         7.87116776e-01,  6.54495350e-03,  3.65139511e-02,\n",
       "        -9.60342916e-15,  1.56125113e-16, -4.57966998e-15,\n",
       "         1.66533454e-15, -2.37310172e-15,  1.00000000e+00,\n",
       "        -6.90419943e-16],\n",
       "       [ 1.00000000e+00,  9.91462113e-01,  2.87313576e-18,\n",
       "         8.66061900e-01,  2.01661604e-17,  2.40128068e-02,\n",
       "        -3.55271368e-15,  4.21558164e-02,  9.17822839e-02,\n",
       "         1.45716772e-15,  1.01921025e-01, -1.52655666e-15,\n",
       "         4.26894344e-02]])"
      ]
     },
     "execution_count": 27,
     "metadata": {},
     "output_type": "execute_result"
    }
   ],
   "source": [
    "df_cluster2.cluster_centers_"
   ]
  },
  {
   "cell_type": "code",
   "execution_count": 28,
   "metadata": {},
   "outputs": [],
   "source": [
    "df_ml2=df.copy()\n",
    "df_ml2['clusters']=df_cluster2.labels_"
   ]
  },
  {
   "cell_type": "code",
   "execution_count": 29,
   "metadata": {},
   "outputs": [
    {
     "data": {
      "text/plain": [
       "0    8534\n",
       "1    3353\n",
       "3    2903\n",
       "4    1874\n",
       "2    1467\n",
       "Name: clusters, dtype: int64"
      ]
     },
     "execution_count": 29,
     "metadata": {},
     "output_type": "execute_result"
    }
   ],
   "source": [
    "df_ml2.clusters.value_counts()"
   ]
  },
  {
   "cell_type": "code",
   "execution_count": 30,
   "metadata": {
    "scrolled": true
   },
   "outputs": [
    {
     "data": {
      "text/html": [
       "<div>\n",
       "<style scoped>\n",
       "    .dataframe tbody tr th:only-of-type {\n",
       "        vertical-align: middle;\n",
       "    }\n",
       "\n",
       "    .dataframe tbody tr th {\n",
       "        vertical-align: top;\n",
       "    }\n",
       "\n",
       "    .dataframe thead th {\n",
       "        text-align: right;\n",
       "    }\n",
       "</style>\n",
       "<table border=\"1\" class=\"dataframe\">\n",
       "  <thead>\n",
       "    <tr style=\"text-align: right;\">\n",
       "      <th>clusters</th>\n",
       "      <th>0</th>\n",
       "      <th>1</th>\n",
       "      <th>2</th>\n",
       "      <th>3</th>\n",
       "      <th>4</th>\n",
       "    </tr>\n",
       "  </thead>\n",
       "  <tbody>\n",
       "    <tr>\n",
       "      <th>is_premium</th>\n",
       "      <td>0.00</td>\n",
       "      <td>0.16</td>\n",
       "      <td>0.15</td>\n",
       "      <td>0.15</td>\n",
       "      <td>1.00</td>\n",
       "    </tr>\n",
       "    <tr>\n",
       "      <th>price.original</th>\n",
       "      <td>36.46</td>\n",
       "      <td>39.34</td>\n",
       "      <td>39.63</td>\n",
       "      <td>42.42</td>\n",
       "      <td>62.97</td>\n",
       "    </tr>\n",
       "    <tr>\n",
       "      <th>almost</th>\n",
       "      <td>0.06</td>\n",
       "      <td>0.07</td>\n",
       "      <td>0.05</td>\n",
       "      <td>0.09</td>\n",
       "      <td>0.04</td>\n",
       "    </tr>\n",
       "    <tr>\n",
       "      <th>tracking_discount</th>\n",
       "      <td>0.96</td>\n",
       "      <td>0.96</td>\n",
       "      <td>0.96</td>\n",
       "      <td>0.97</td>\n",
       "      <td>0.99</td>\n",
       "    </tr>\n",
       "    <tr>\n",
       "      <th>sponsored</th>\n",
       "      <td>0.00</td>\n",
       "      <td>0.00</td>\n",
       "      <td>0.00</td>\n",
       "      <td>0.00</td>\n",
       "      <td>0.00</td>\n",
       "    </tr>\n",
       "    <tr>\n",
       "      <th>10_extra</th>\n",
       "      <td>0.81</td>\n",
       "      <td>0.74</td>\n",
       "      <td>0.79</td>\n",
       "      <td>0.79</td>\n",
       "      <td>0.87</td>\n",
       "    </tr>\n",
       "    <tr>\n",
       "      <th>discount_flag</th>\n",
       "      <td>29.66</td>\n",
       "      <td>29.56</td>\n",
       "      <td>30.22</td>\n",
       "      <td>28.85</td>\n",
       "      <td>33.50</td>\n",
       "    </tr>\n",
       "    <tr>\n",
       "      <th>HOTDROP</th>\n",
       "      <td>0.00</td>\n",
       "      <td>0.00</td>\n",
       "      <td>0.00</td>\n",
       "      <td>0.01</td>\n",
       "      <td>0.00</td>\n",
       "    </tr>\n",
       "    <tr>\n",
       "      <th>tracking_sustainable</th>\n",
       "      <td>0.06</td>\n",
       "      <td>0.05</td>\n",
       "      <td>0.04</td>\n",
       "      <td>0.04</td>\n",
       "      <td>0.02</td>\n",
       "    </tr>\n",
       "    <tr>\n",
       "      <th>product_group_beach_wear</th>\n",
       "      <td>0.02</td>\n",
       "      <td>0.03</td>\n",
       "      <td>0.04</td>\n",
       "      <td>0.01</td>\n",
       "      <td>0.06</td>\n",
       "    </tr>\n",
       "    <tr>\n",
       "      <th>product_group_clothing</th>\n",
       "      <td>0.65</td>\n",
       "      <td>0.70</td>\n",
       "      <td>0.59</td>\n",
       "      <td>0.55</td>\n",
       "      <td>0.80</td>\n",
       "    </tr>\n",
       "    <tr>\n",
       "      <th>product_group_equipment</th>\n",
       "      <td>0.00</td>\n",
       "      <td>0.00</td>\n",
       "      <td>0.00</td>\n",
       "      <td>0.00</td>\n",
       "      <td>0.00</td>\n",
       "    </tr>\n",
       "    <tr>\n",
       "      <th>product_group_nightwear</th>\n",
       "      <td>0.02</td>\n",
       "      <td>0.02</td>\n",
       "      <td>0.03</td>\n",
       "      <td>0.02</td>\n",
       "      <td>0.02</td>\n",
       "    </tr>\n",
       "    <tr>\n",
       "      <th>product_group_shoe</th>\n",
       "      <td>0.24</td>\n",
       "      <td>0.19</td>\n",
       "      <td>0.26</td>\n",
       "      <td>0.36</td>\n",
       "      <td>0.04</td>\n",
       "    </tr>\n",
       "    <tr>\n",
       "      <th>product_group_underwear</th>\n",
       "      <td>0.06</td>\n",
       "      <td>0.05</td>\n",
       "      <td>0.06</td>\n",
       "      <td>0.06</td>\n",
       "      <td>0.05</td>\n",
       "    </tr>\n",
       "    <tr>\n",
       "      <th>new_color_black</th>\n",
       "      <td>0.14</td>\n",
       "      <td>0.00</td>\n",
       "      <td>0.00</td>\n",
       "      <td>0.00</td>\n",
       "      <td>0.07</td>\n",
       "    </tr>\n",
       "    <tr>\n",
       "      <th>new_color_blue</th>\n",
       "      <td>0.00</td>\n",
       "      <td>1.00</td>\n",
       "      <td>0.00</td>\n",
       "      <td>0.00</td>\n",
       "      <td>0.00</td>\n",
       "    </tr>\n",
       "    <tr>\n",
       "      <th>new_color_green</th>\n",
       "      <td>0.04</td>\n",
       "      <td>0.00</td>\n",
       "      <td>0.00</td>\n",
       "      <td>0.00</td>\n",
       "      <td>0.04</td>\n",
       "    </tr>\n",
       "    <tr>\n",
       "      <th>new_color_grey</th>\n",
       "      <td>0.12</td>\n",
       "      <td>0.00</td>\n",
       "      <td>0.00</td>\n",
       "      <td>0.00</td>\n",
       "      <td>0.09</td>\n",
       "    </tr>\n",
       "    <tr>\n",
       "      <th>new_color_navy</th>\n",
       "      <td>0.06</td>\n",
       "      <td>0.00</td>\n",
       "      <td>0.00</td>\n",
       "      <td>0.00</td>\n",
       "      <td>0.07</td>\n",
       "    </tr>\n",
       "    <tr>\n",
       "      <th>new_color_pink</th>\n",
       "      <td>0.00</td>\n",
       "      <td>0.00</td>\n",
       "      <td>1.00</td>\n",
       "      <td>0.00</td>\n",
       "      <td>0.00</td>\n",
       "    </tr>\n",
       "    <tr>\n",
       "      <th>new_color_red</th>\n",
       "      <td>0.07</td>\n",
       "      <td>0.00</td>\n",
       "      <td>0.00</td>\n",
       "      <td>0.00</td>\n",
       "      <td>0.10</td>\n",
       "    </tr>\n",
       "    <tr>\n",
       "      <th>new_color_white</th>\n",
       "      <td>0.00</td>\n",
       "      <td>0.00</td>\n",
       "      <td>0.00</td>\n",
       "      <td>1.00</td>\n",
       "      <td>0.00</td>\n",
       "    </tr>\n",
       "    <tr>\n",
       "      <th>new_color_yellow</th>\n",
       "      <td>0.03</td>\n",
       "      <td>0.00</td>\n",
       "      <td>0.00</td>\n",
       "      <td>0.00</td>\n",
       "      <td>0.04</td>\n",
       "    </tr>\n",
       "  </tbody>\n",
       "</table>\n",
       "</div>"
      ],
      "text/plain": [
       "clusters                      0      1      2      3      4\n",
       "is_premium                 0.00   0.16   0.15   0.15   1.00\n",
       "price.original            36.46  39.34  39.63  42.42  62.97\n",
       "almost                     0.06   0.07   0.05   0.09   0.04\n",
       "tracking_discount          0.96   0.96   0.96   0.97   0.99\n",
       "sponsored                  0.00   0.00   0.00   0.00   0.00\n",
       "10_extra                   0.81   0.74   0.79   0.79   0.87\n",
       "discount_flag             29.66  29.56  30.22  28.85  33.50\n",
       "HOTDROP                    0.00   0.00   0.00   0.01   0.00\n",
       "tracking_sustainable       0.06   0.05   0.04   0.04   0.02\n",
       "product_group_beach_wear   0.02   0.03   0.04   0.01   0.06\n",
       "product_group_clothing     0.65   0.70   0.59   0.55   0.80\n",
       "product_group_equipment    0.00   0.00   0.00   0.00   0.00\n",
       "product_group_nightwear    0.02   0.02   0.03   0.02   0.02\n",
       "product_group_shoe         0.24   0.19   0.26   0.36   0.04\n",
       "product_group_underwear    0.06   0.05   0.06   0.06   0.05\n",
       "new_color_black            0.14   0.00   0.00   0.00   0.07\n",
       "new_color_blue             0.00   1.00   0.00   0.00   0.00\n",
       "new_color_green            0.04   0.00   0.00   0.00   0.04\n",
       "new_color_grey             0.12   0.00   0.00   0.00   0.09\n",
       "new_color_navy             0.06   0.00   0.00   0.00   0.07\n",
       "new_color_pink             0.00   0.00   1.00   0.00   0.00\n",
       "new_color_red              0.07   0.00   0.00   0.00   0.10\n",
       "new_color_white            0.00   0.00   0.00   1.00   0.00\n",
       "new_color_yellow           0.03   0.00   0.00   0.00   0.04"
      ]
     },
     "execution_count": 30,
     "metadata": {},
     "output_type": "execute_result"
    }
   ],
   "source": [
    "df_ml2.groupby('clusters').mean().round(2).T"
   ]
  },
  {
   "cell_type": "markdown",
   "metadata": {},
   "source": [
    "sns.pairplot(df_ml,hue='clusters');"
   ]
  },
  {
   "cell_type": "code",
   "execution_count": 31,
   "metadata": {
    "scrolled": true
   },
   "outputs": [
    {
     "data": {
      "text/html": [
       "<div>\n",
       "<style scoped>\n",
       "    .dataframe tbody tr th:only-of-type {\n",
       "        vertical-align: middle;\n",
       "    }\n",
       "\n",
       "    .dataframe tbody tr th {\n",
       "        vertical-align: top;\n",
       "    }\n",
       "\n",
       "    .dataframe thead th {\n",
       "        text-align: right;\n",
       "    }\n",
       "</style>\n",
       "<table border=\"1\" class=\"dataframe\">\n",
       "  <thead>\n",
       "    <tr style=\"text-align: right;\">\n",
       "      <th></th>\n",
       "      <th>0</th>\n",
       "      <th>1</th>\n",
       "      <th>2</th>\n",
       "      <th>3</th>\n",
       "      <th>4</th>\n",
       "      <th>5</th>\n",
       "      <th>6</th>\n",
       "      <th>7</th>\n",
       "      <th>8</th>\n",
       "      <th>9</th>\n",
       "      <th>10</th>\n",
       "      <th>11</th>\n",
       "      <th>12</th>\n",
       "    </tr>\n",
       "  </thead>\n",
       "  <tbody>\n",
       "    <tr>\n",
       "      <th>count</th>\n",
       "      <td>18131.000000</td>\n",
       "      <td>18131.000000</td>\n",
       "      <td>18131.000000</td>\n",
       "      <td>18131.000000</td>\n",
       "      <td>18131.000000</td>\n",
       "      <td>18131.000000</td>\n",
       "      <td>18131.000000</td>\n",
       "      <td>18131.000000</td>\n",
       "      <td>18131.000000</td>\n",
       "      <td>18131.000000</td>\n",
       "      <td>18131.000000</td>\n",
       "      <td>18131.000000</td>\n",
       "      <td>18131.000000</td>\n",
       "    </tr>\n",
       "    <tr>\n",
       "      <th>mean</th>\n",
       "      <td>0.167338</td>\n",
       "      <td>0.965749</td>\n",
       "      <td>0.000331</td>\n",
       "      <td>0.795930</td>\n",
       "      <td>0.001544</td>\n",
       "      <td>0.046054</td>\n",
       "      <td>0.184932</td>\n",
       "      <td>0.025261</td>\n",
       "      <td>0.065633</td>\n",
       "      <td>0.080911</td>\n",
       "      <td>0.045612</td>\n",
       "      <td>0.160113</td>\n",
       "      <td>0.018477</td>\n",
       "    </tr>\n",
       "    <tr>\n",
       "      <th>std</th>\n",
       "      <td>0.373287</td>\n",
       "      <td>0.181878</td>\n",
       "      <td>0.018189</td>\n",
       "      <td>0.403032</td>\n",
       "      <td>0.039269</td>\n",
       "      <td>0.209607</td>\n",
       "      <td>0.388253</td>\n",
       "      <td>0.156920</td>\n",
       "      <td>0.247647</td>\n",
       "      <td>0.272706</td>\n",
       "      <td>0.208649</td>\n",
       "      <td>0.366720</td>\n",
       "      <td>0.134671</td>\n",
       "    </tr>\n",
       "    <tr>\n",
       "      <th>min</th>\n",
       "      <td>0.000000</td>\n",
       "      <td>0.000000</td>\n",
       "      <td>0.000000</td>\n",
       "      <td>0.000000</td>\n",
       "      <td>0.000000</td>\n",
       "      <td>0.000000</td>\n",
       "      <td>0.000000</td>\n",
       "      <td>0.000000</td>\n",
       "      <td>0.000000</td>\n",
       "      <td>0.000000</td>\n",
       "      <td>0.000000</td>\n",
       "      <td>0.000000</td>\n",
       "      <td>0.000000</td>\n",
       "    </tr>\n",
       "    <tr>\n",
       "      <th>25%</th>\n",
       "      <td>0.000000</td>\n",
       "      <td>1.000000</td>\n",
       "      <td>0.000000</td>\n",
       "      <td>1.000000</td>\n",
       "      <td>0.000000</td>\n",
       "      <td>0.000000</td>\n",
       "      <td>0.000000</td>\n",
       "      <td>0.000000</td>\n",
       "      <td>0.000000</td>\n",
       "      <td>0.000000</td>\n",
       "      <td>0.000000</td>\n",
       "      <td>0.000000</td>\n",
       "      <td>0.000000</td>\n",
       "    </tr>\n",
       "    <tr>\n",
       "      <th>50%</th>\n",
       "      <td>0.000000</td>\n",
       "      <td>1.000000</td>\n",
       "      <td>0.000000</td>\n",
       "      <td>1.000000</td>\n",
       "      <td>0.000000</td>\n",
       "      <td>0.000000</td>\n",
       "      <td>0.000000</td>\n",
       "      <td>0.000000</td>\n",
       "      <td>0.000000</td>\n",
       "      <td>0.000000</td>\n",
       "      <td>0.000000</td>\n",
       "      <td>0.000000</td>\n",
       "      <td>0.000000</td>\n",
       "    </tr>\n",
       "    <tr>\n",
       "      <th>75%</th>\n",
       "      <td>0.000000</td>\n",
       "      <td>1.000000</td>\n",
       "      <td>0.000000</td>\n",
       "      <td>1.000000</td>\n",
       "      <td>0.000000</td>\n",
       "      <td>0.000000</td>\n",
       "      <td>0.000000</td>\n",
       "      <td>0.000000</td>\n",
       "      <td>0.000000</td>\n",
       "      <td>0.000000</td>\n",
       "      <td>0.000000</td>\n",
       "      <td>0.000000</td>\n",
       "      <td>0.000000</td>\n",
       "    </tr>\n",
       "    <tr>\n",
       "      <th>max</th>\n",
       "      <td>1.000000</td>\n",
       "      <td>1.000000</td>\n",
       "      <td>1.000000</td>\n",
       "      <td>1.000000</td>\n",
       "      <td>1.000000</td>\n",
       "      <td>1.000000</td>\n",
       "      <td>1.000000</td>\n",
       "      <td>1.000000</td>\n",
       "      <td>1.000000</td>\n",
       "      <td>1.000000</td>\n",
       "      <td>1.000000</td>\n",
       "      <td>1.000000</td>\n",
       "      <td>1.000000</td>\n",
       "    </tr>\n",
       "  </tbody>\n",
       "</table>\n",
       "</div>"
      ],
      "text/plain": [
       "                 0             1             2             3             4   \\\n",
       "count  18131.000000  18131.000000  18131.000000  18131.000000  18131.000000   \n",
       "mean       0.167338      0.965749      0.000331      0.795930      0.001544   \n",
       "std        0.373287      0.181878      0.018189      0.403032      0.039269   \n",
       "min        0.000000      0.000000      0.000000      0.000000      0.000000   \n",
       "25%        0.000000      1.000000      0.000000      1.000000      0.000000   \n",
       "50%        0.000000      1.000000      0.000000      1.000000      0.000000   \n",
       "75%        0.000000      1.000000      0.000000      1.000000      0.000000   \n",
       "max        1.000000      1.000000      1.000000      1.000000      1.000000   \n",
       "\n",
       "                 5             6             7             8             9   \\\n",
       "count  18131.000000  18131.000000  18131.000000  18131.000000  18131.000000   \n",
       "mean       0.046054      0.184932      0.025261      0.065633      0.080911   \n",
       "std        0.209607      0.388253      0.156920      0.247647      0.272706   \n",
       "min        0.000000      0.000000      0.000000      0.000000      0.000000   \n",
       "25%        0.000000      0.000000      0.000000      0.000000      0.000000   \n",
       "50%        0.000000      0.000000      0.000000      0.000000      0.000000   \n",
       "75%        0.000000      0.000000      0.000000      0.000000      0.000000   \n",
       "max        1.000000      1.000000      1.000000      1.000000      1.000000   \n",
       "\n",
       "                 10            11            12  \n",
       "count  18131.000000  18131.000000  18131.000000  \n",
       "mean       0.045612      0.160113      0.018477  \n",
       "std        0.208649      0.366720      0.134671  \n",
       "min        0.000000      0.000000      0.000000  \n",
       "25%        0.000000      0.000000      0.000000  \n",
       "50%        0.000000      0.000000      0.000000  \n",
       "75%        0.000000      0.000000      0.000000  \n",
       "max        1.000000      1.000000      1.000000  "
      ]
     },
     "execution_count": 31,
     "metadata": {},
     "output_type": "execute_result"
    }
   ],
   "source": [
    "X_sc.describe()"
   ]
  },
  {
   "cell_type": "markdown",
   "metadata": {},
   "source": [
    "# 2. PCA"
   ]
  },
  {
   "cell_type": "code",
   "execution_count": 32,
   "metadata": {},
   "outputs": [],
   "source": [
    "pca=PCA(n_components=6)\n",
    "pca=pca.fit(X_sc)"
   ]
  },
  {
   "cell_type": "code",
   "execution_count": 33,
   "metadata": {},
   "outputs": [
    {
     "data": {
      "text/plain": [
       "0.828371471045674"
      ]
     },
     "execution_count": 33,
     "metadata": {},
     "output_type": "execute_result"
    }
   ],
   "source": [
    "pca.explained_variance_ratio_.sum()"
   ]
  },
  {
   "cell_type": "code",
   "execution_count": 34,
   "metadata": {},
   "outputs": [],
   "source": [
    "pca_df=pd.DataFrame(pca.transform(X_sc),columns=['pca1','pca2','pca3','pca4','pca5','pca6'])"
   ]
  },
  {
   "cell_type": "code",
   "execution_count": 35,
   "metadata": {
    "collapsed": true
   },
   "outputs": [
    {
     "data": {
      "text/html": [
       "<div>\n",
       "<style scoped>\n",
       "    .dataframe tbody tr th:only-of-type {\n",
       "        vertical-align: middle;\n",
       "    }\n",
       "\n",
       "    .dataframe tbody tr th {\n",
       "        vertical-align: top;\n",
       "    }\n",
       "\n",
       "    .dataframe thead th {\n",
       "        text-align: right;\n",
       "    }\n",
       "</style>\n",
       "<table border=\"1\" class=\"dataframe\">\n",
       "  <thead>\n",
       "    <tr style=\"text-align: right;\">\n",
       "      <th></th>\n",
       "      <th>0</th>\n",
       "      <th>1</th>\n",
       "      <th>2</th>\n",
       "      <th>3</th>\n",
       "      <th>4</th>\n",
       "      <th>5</th>\n",
       "      <th>6</th>\n",
       "      <th>7</th>\n",
       "      <th>8</th>\n",
       "      <th>9</th>\n",
       "      <th>10</th>\n",
       "      <th>11</th>\n",
       "      <th>12</th>\n",
       "    </tr>\n",
       "  </thead>\n",
       "  <tbody>\n",
       "    <tr>\n",
       "      <th>0</th>\n",
       "      <td>-0.214314</td>\n",
       "      <td>-0.129175</td>\n",
       "      <td>0.000382</td>\n",
       "      <td>-0.662256</td>\n",
       "      <td>0.003158</td>\n",
       "      <td>0.000619</td>\n",
       "      <td>0.616542</td>\n",
       "      <td>-0.001884</td>\n",
       "      <td>-0.029371</td>\n",
       "      <td>-0.035960</td>\n",
       "      <td>-0.012369</td>\n",
       "      <td>-0.341058</td>\n",
       "      <td>-0.005828</td>\n",
       "    </tr>\n",
       "    <tr>\n",
       "      <th>1</th>\n",
       "      <td>-0.317322</td>\n",
       "      <td>-0.131169</td>\n",
       "      <td>0.000112</td>\n",
       "      <td>-0.607093</td>\n",
       "      <td>0.007594</td>\n",
       "      <td>-0.008578</td>\n",
       "      <td>-0.509982</td>\n",
       "      <td>0.008663</td>\n",
       "      <td>0.010195</td>\n",
       "      <td>0.021033</td>\n",
       "      <td>0.007039</td>\n",
       "      <td>0.502648</td>\n",
       "      <td>0.000566</td>\n",
       "    </tr>\n",
       "    <tr>\n",
       "      <th>2</th>\n",
       "      <td>0.915555</td>\n",
       "      <td>-0.061056</td>\n",
       "      <td>-0.000302</td>\n",
       "      <td>-0.379282</td>\n",
       "      <td>0.001773</td>\n",
       "      <td>-0.037080</td>\n",
       "      <td>-0.101132</td>\n",
       "      <td>0.010343</td>\n",
       "      <td>-0.005686</td>\n",
       "      <td>-0.001055</td>\n",
       "      <td>0.047129</td>\n",
       "      <td>0.000002</td>\n",
       "      <td>0.014487</td>\n",
       "    </tr>\n",
       "    <tr>\n",
       "      <th>3</th>\n",
       "      <td>0.103140</td>\n",
       "      <td>0.035230</td>\n",
       "      <td>0.000187</td>\n",
       "      <td>0.094690</td>\n",
       "      <td>0.004006</td>\n",
       "      <td>-0.014083</td>\n",
       "      <td>0.522298</td>\n",
       "      <td>-0.045344</td>\n",
       "      <td>-0.196123</td>\n",
       "      <td>-0.331522</td>\n",
       "      <td>-0.098628</td>\n",
       "      <td>0.738336</td>\n",
       "      <td>-0.029166</td>\n",
       "    </tr>\n",
       "    <tr>\n",
       "      <th>4</th>\n",
       "      <td>0.021541</td>\n",
       "      <td>0.005500</td>\n",
       "      <td>-0.000442</td>\n",
       "      <td>0.014477</td>\n",
       "      <td>0.000454</td>\n",
       "      <td>-0.039457</td>\n",
       "      <td>0.115231</td>\n",
       "      <td>-0.036154</td>\n",
       "      <td>-0.522532</td>\n",
       "      <td>0.825683</td>\n",
       "      <td>-0.108316</td>\n",
       "      <td>0.126965</td>\n",
       "      <td>-0.022570</td>\n",
       "    </tr>\n",
       "    <tr>\n",
       "      <th>5</th>\n",
       "      <td>0.046343</td>\n",
       "      <td>0.013324</td>\n",
       "      <td>0.000558</td>\n",
       "      <td>-0.000707</td>\n",
       "      <td>0.000685</td>\n",
       "      <td>-0.080850</td>\n",
       "      <td>0.158216</td>\n",
       "      <td>-0.092381</td>\n",
       "      <td>0.755802</td>\n",
       "      <td>0.357007</td>\n",
       "      <td>-0.476858</td>\n",
       "      <td>0.169075</td>\n",
       "      <td>-0.053855</td>\n",
       "    </tr>\n",
       "  </tbody>\n",
       "</table>\n",
       "</div>"
      ],
      "text/plain": [
       "         0         1         2         3         4         5         6   \\\n",
       "0 -0.214314 -0.129175  0.000382 -0.662256  0.003158  0.000619  0.616542   \n",
       "1 -0.317322 -0.131169  0.000112 -0.607093  0.007594 -0.008578 -0.509982   \n",
       "2  0.915555 -0.061056 -0.000302 -0.379282  0.001773 -0.037080 -0.101132   \n",
       "3  0.103140  0.035230  0.000187  0.094690  0.004006 -0.014083  0.522298   \n",
       "4  0.021541  0.005500 -0.000442  0.014477  0.000454 -0.039457  0.115231   \n",
       "5  0.046343  0.013324  0.000558 -0.000707  0.000685 -0.080850  0.158216   \n",
       "\n",
       "         7         8         9         10        11        12  \n",
       "0 -0.001884 -0.029371 -0.035960 -0.012369 -0.341058 -0.005828  \n",
       "1  0.008663  0.010195  0.021033  0.007039  0.502648  0.000566  \n",
       "2  0.010343 -0.005686 -0.001055  0.047129  0.000002  0.014487  \n",
       "3 -0.045344 -0.196123 -0.331522 -0.098628  0.738336 -0.029166  \n",
       "4 -0.036154 -0.522532  0.825683 -0.108316  0.126965 -0.022570  \n",
       "5 -0.092381  0.755802  0.357007 -0.476858  0.169075 -0.053855  "
      ]
     },
     "execution_count": 35,
     "metadata": {},
     "output_type": "execute_result"
    }
   ],
   "source": [
    "pd.DataFrame(pca.components_)"
   ]
  },
  {
   "cell_type": "code",
   "execution_count": 36,
   "metadata": {},
   "outputs": [],
   "source": [
    "pca2=PCA(n_components=6)\n",
    "pca2=pca.fit(X)"
   ]
  },
  {
   "cell_type": "code",
   "execution_count": 37,
   "metadata": {},
   "outputs": [
    {
     "data": {
      "text/plain": [
       "0.8283714710456733"
      ]
     },
     "execution_count": 37,
     "metadata": {},
     "output_type": "execute_result"
    }
   ],
   "source": [
    "pca2.explained_variance_ratio_.sum()"
   ]
  },
  {
   "cell_type": "code",
   "execution_count": 38,
   "metadata": {},
   "outputs": [],
   "source": [
    "pca_df2=pd.DataFrame(pca2.transform(X),columns=['pca1','pca2','pca3','pca4','pca5','pca6'])"
   ]
  },
  {
   "cell_type": "code",
   "execution_count": 39,
   "metadata": {},
   "outputs": [
    {
     "data": {
      "text/html": [
       "<div>\n",
       "<style scoped>\n",
       "    .dataframe tbody tr th:only-of-type {\n",
       "        vertical-align: middle;\n",
       "    }\n",
       "\n",
       "    .dataframe tbody tr th {\n",
       "        vertical-align: top;\n",
       "    }\n",
       "\n",
       "    .dataframe thead th {\n",
       "        text-align: right;\n",
       "    }\n",
       "</style>\n",
       "<table border=\"1\" class=\"dataframe\">\n",
       "  <thead>\n",
       "    <tr style=\"text-align: right;\">\n",
       "      <th></th>\n",
       "      <th>0</th>\n",
       "      <th>1</th>\n",
       "      <th>2</th>\n",
       "      <th>3</th>\n",
       "      <th>4</th>\n",
       "      <th>5</th>\n",
       "      <th>6</th>\n",
       "      <th>7</th>\n",
       "      <th>8</th>\n",
       "      <th>9</th>\n",
       "      <th>10</th>\n",
       "      <th>11</th>\n",
       "      <th>12</th>\n",
       "    </tr>\n",
       "  </thead>\n",
       "  <tbody>\n",
       "    <tr>\n",
       "      <th>0</th>\n",
       "      <td>-0.214314</td>\n",
       "      <td>-0.129175</td>\n",
       "      <td>0.000382</td>\n",
       "      <td>-0.662256</td>\n",
       "      <td>0.003158</td>\n",
       "      <td>0.000619</td>\n",
       "      <td>0.616542</td>\n",
       "      <td>-0.001884</td>\n",
       "      <td>-0.029371</td>\n",
       "      <td>-0.035960</td>\n",
       "      <td>-0.012369</td>\n",
       "      <td>-0.341058</td>\n",
       "      <td>-0.005828</td>\n",
       "    </tr>\n",
       "    <tr>\n",
       "      <th>1</th>\n",
       "      <td>-0.317322</td>\n",
       "      <td>-0.131169</td>\n",
       "      <td>0.000112</td>\n",
       "      <td>-0.607093</td>\n",
       "      <td>0.007594</td>\n",
       "      <td>-0.008578</td>\n",
       "      <td>-0.509982</td>\n",
       "      <td>0.008663</td>\n",
       "      <td>0.010195</td>\n",
       "      <td>0.021033</td>\n",
       "      <td>0.007039</td>\n",
       "      <td>0.502648</td>\n",
       "      <td>0.000566</td>\n",
       "    </tr>\n",
       "    <tr>\n",
       "      <th>2</th>\n",
       "      <td>0.915555</td>\n",
       "      <td>-0.061056</td>\n",
       "      <td>-0.000302</td>\n",
       "      <td>-0.379282</td>\n",
       "      <td>0.001773</td>\n",
       "      <td>-0.037080</td>\n",
       "      <td>-0.101132</td>\n",
       "      <td>0.010343</td>\n",
       "      <td>-0.005686</td>\n",
       "      <td>-0.001055</td>\n",
       "      <td>0.047129</td>\n",
       "      <td>0.000002</td>\n",
       "      <td>0.014487</td>\n",
       "    </tr>\n",
       "    <tr>\n",
       "      <th>3</th>\n",
       "      <td>0.103140</td>\n",
       "      <td>0.035230</td>\n",
       "      <td>0.000187</td>\n",
       "      <td>0.094690</td>\n",
       "      <td>0.004006</td>\n",
       "      <td>-0.014083</td>\n",
       "      <td>0.522298</td>\n",
       "      <td>-0.045344</td>\n",
       "      <td>-0.196123</td>\n",
       "      <td>-0.331522</td>\n",
       "      <td>-0.098628</td>\n",
       "      <td>0.738336</td>\n",
       "      <td>-0.029166</td>\n",
       "    </tr>\n",
       "    <tr>\n",
       "      <th>4</th>\n",
       "      <td>0.021541</td>\n",
       "      <td>0.005500</td>\n",
       "      <td>-0.000442</td>\n",
       "      <td>0.014477</td>\n",
       "      <td>0.000454</td>\n",
       "      <td>-0.039457</td>\n",
       "      <td>0.115231</td>\n",
       "      <td>-0.036154</td>\n",
       "      <td>-0.522532</td>\n",
       "      <td>0.825683</td>\n",
       "      <td>-0.108316</td>\n",
       "      <td>0.126965</td>\n",
       "      <td>-0.022570</td>\n",
       "    </tr>\n",
       "    <tr>\n",
       "      <th>5</th>\n",
       "      <td>0.046343</td>\n",
       "      <td>0.013324</td>\n",
       "      <td>0.000558</td>\n",
       "      <td>-0.000707</td>\n",
       "      <td>0.000685</td>\n",
       "      <td>-0.080850</td>\n",
       "      <td>0.158216</td>\n",
       "      <td>-0.092381</td>\n",
       "      <td>0.755802</td>\n",
       "      <td>0.357007</td>\n",
       "      <td>-0.476858</td>\n",
       "      <td>0.169075</td>\n",
       "      <td>-0.053855</td>\n",
       "    </tr>\n",
       "  </tbody>\n",
       "</table>\n",
       "</div>"
      ],
      "text/plain": [
       "         0         1         2         3         4         5         6   \\\n",
       "0 -0.214314 -0.129175  0.000382 -0.662256  0.003158  0.000619  0.616542   \n",
       "1 -0.317322 -0.131169  0.000112 -0.607093  0.007594 -0.008578 -0.509982   \n",
       "2  0.915555 -0.061056 -0.000302 -0.379282  0.001773 -0.037080 -0.101132   \n",
       "3  0.103140  0.035230  0.000187  0.094690  0.004006 -0.014083  0.522298   \n",
       "4  0.021541  0.005500 -0.000442  0.014477  0.000454 -0.039457  0.115231   \n",
       "5  0.046343  0.013324  0.000558 -0.000707  0.000685 -0.080850  0.158216   \n",
       "\n",
       "         7         8         9         10        11        12  \n",
       "0 -0.001884 -0.029371 -0.035960 -0.012369 -0.341058 -0.005828  \n",
       "1  0.008663  0.010195  0.021033  0.007039  0.502648  0.000566  \n",
       "2  0.010343 -0.005686 -0.001055  0.047129  0.000002  0.014487  \n",
       "3 -0.045344 -0.196123 -0.331522 -0.098628  0.738336 -0.029166  \n",
       "4 -0.036154 -0.522532  0.825683 -0.108316  0.126965 -0.022570  \n",
       "5 -0.092381  0.755802  0.357007 -0.476858  0.169075 -0.053855  "
      ]
     },
     "execution_count": 39,
     "metadata": {},
     "output_type": "execute_result"
    }
   ],
   "source": [
    "pd.DataFrame(pca2.components_)"
   ]
  },
  {
   "cell_type": "code",
   "execution_count": 40,
   "metadata": {
    "scrolled": true
   },
   "outputs": [
    {
     "data": {
      "image/png": "[encoded data removed]",
      "text/plain": [
       "<Figure size 432x288 with 2 Axes>"
      ]
     },
     "metadata": {},
     "output_type": "display_data"
    }
   ],
   "source": [
    "visualizer=KElbowVisualizer(model,k=(1,12))\n",
    "visualizer.fit(pca_df)\n",
    "visualizer.poof();"
   ]
  },
  {
   "cell_type": "code",
   "execution_count": 41,
   "metadata": {},
   "outputs": [],
   "source": [
    "df_cluster3=kmeans.fit(pca_df)"
   ]
  },
  {
   "cell_type": "code",
   "execution_count": 42,
   "metadata": {},
   "outputs": [],
   "source": [
    "df_ml3=df.copy()"
   ]
  },
  {
   "cell_type": "code",
   "execution_count": 43,
   "metadata": {},
   "outputs": [],
   "source": [
    "df_ml3['clusters']=df_cluster3.labels_"
   ]
  },
  {
   "cell_type": "code",
   "execution_count": 44,
   "metadata": {
    "scrolled": true
   },
   "outputs": [
    {
     "data": {
      "text/plain": [
       "0    7850\n",
       "2    3009\n",
       "3    2833\n",
       "1    2528\n",
       "4    1911\n",
       "Name: clusters, dtype: int64"
      ]
     },
     "execution_count": 44,
     "metadata": {},
     "output_type": "execute_result"
    }
   ],
   "source": [
    "df_ml3.clusters.value_counts()"
   ]
  },
  {
   "cell_type": "code",
   "execution_count": 45,
   "metadata": {
    "scrolled": true
   },
   "outputs": [
    {
     "data": {
      "image/png": "[encoded data removed]",
      "text/plain": [
       "<Figure size 432x288 with 2 Axes>"
      ]
     },
     "metadata": {},
     "output_type": "display_data"
    }
   ],
   "source": [
    "visualizer=KElbowVisualizer(model,k=(1,12))\n",
    "visualizer.fit(pca_df2)\n",
    "visualizer.poof();"
   ]
  },
  {
   "cell_type": "code",
   "execution_count": 46,
   "metadata": {},
   "outputs": [],
   "source": [
    "df_cluster4=kmeans.fit(pca_df2)"
   ]
  },
  {
   "cell_type": "code",
   "execution_count": 47,
   "metadata": {},
   "outputs": [],
   "source": [
    "df_ml4=df.copy()"
   ]
  },
  {
   "cell_type": "code",
   "execution_count": 48,
   "metadata": {},
   "outputs": [],
   "source": [
    "df_ml4['clusters']=df_cluster4.labels_"
   ]
  },
  {
   "cell_type": "code",
   "execution_count": 49,
   "metadata": {
    "scrolled": true
   },
   "outputs": [
    {
     "data": {
      "text/plain": [
       "4    7850\n",
       "0    2903\n",
       "1    2828\n",
       "3    2595\n",
       "2    1955\n",
       "Name: clusters, dtype: int64"
      ]
     },
     "execution_count": 49,
     "metadata": {},
     "output_type": "execute_result"
    }
   ],
   "source": [
    "df_ml4.clusters.value_counts()"
   ]
  },
  {
   "cell_type": "code",
   "execution_count": 50,
   "metadata": {
    "scrolled": false
   },
   "outputs": [
    {
     "data": {
      "image/png": "[encoded data removed]",
      "text/plain": [
       "<Figure size 432x288 with 1 Axes>"
      ]
     },
     "metadata": {
      "needs_background": "light"
     },
     "output_type": "display_data"
    }
   ],
   "source": [
    "sns.scatterplot(x='pca1',y='pca2',data=pca_df2,hue=df_ml4.clusters);"
   ]
  },
  {
   "cell_type": "code",
   "execution_count": 51,
   "metadata": {
    "scrolled": false
   },
   "outputs": [
    {
     "data": {
      "image/png": "[encoded data removed]",
      "text/plain": [
       "<Figure size 432x288 with 1 Axes>"
      ]
     },
     "metadata": {
      "needs_background": "light"
     },
     "output_type": "display_data"
    }
   ],
   "source": [
    "sns.scatterplot(x='pca1',y='pca2',data=pca_df,hue=df_ml3.clusters);"
   ]
  },
  {
   "cell_type": "code",
   "execution_count": 52,
   "metadata": {
    "scrolled": true
   },
   "outputs": [
    {
     "data": {
      "image/png": "[encoded data removed]",
      "text/plain": [
       "<Figure size 432x288 with 1 Axes>"
      ]
     },
     "metadata": {
      "needs_background": "light"
     },
     "output_type": "display_data"
    }
   ],
   "source": [
    "sns.scatterplot(x='pca1',y='pca2',data=pca_df,hue=df_ml2.clusters);"
   ]
  },
  {
   "cell_type": "code",
   "execution_count": 53,
   "metadata": {},
   "outputs": [
    {
     "data": {
      "image/png": "[encoded data removed]",
      "text/plain": [
       "<Figure size 432x288 with 1 Axes>"
      ]
     },
     "metadata": {
      "needs_background": "light"
     },
     "output_type": "display_data"
    }
   ],
   "source": [
    "sns.scatterplot(x='pca1',y='pca2',data=pca_df2,hue=df_ml1.clusters);"
   ]
  },
  {
   "cell_type": "code",
   "execution_count": 54,
   "metadata": {},
   "outputs": [
    {
     "data": {
      "image/png": "[encoded data removed]",
      "text/plain": [
       "<Figure size 432x288 with 2 Axes>"
      ]
     },
     "metadata": {
      "needs_background": "light"
     },
     "output_type": "display_data"
    }
   ],
   "source": [
    "sns.heatmap(pd.crosstab(round(df_ml1['price.original']),df_ml1.clusters));"
   ]
  },
  {
   "cell_type": "code",
   "execution_count": 55,
   "metadata": {},
   "outputs": [
    {
     "data": {
      "image/png": "[encoded data removed]",
      "text/plain": [
       "<Figure size 432x288 with 2 Axes>"
      ]
     },
     "metadata": {
      "needs_background": "light"
     },
     "output_type": "display_data"
    }
   ],
   "source": [
    "sns.heatmap(pd.crosstab(round(df_ml2['price.original']),df_ml2.clusters));"
   ]
  },
  {
   "cell_type": "code",
   "execution_count": 56,
   "metadata": {
    "scrolled": false
   },
   "outputs": [
    {
     "data": {
      "image/png": "[encoded data removed]",
      "text/plain": [
       "<Figure size 432x288 with 2 Axes>"
      ]
     },
     "metadata": {
      "needs_background": "light"
     },
     "output_type": "display_data"
    }
   ],
   "source": [
    "sns.heatmap(pd.crosstab(round(df_ml3['price.original']),df_ml3.clusters));"
   ]
  },
  {
   "cell_type": "code",
   "execution_count": 57,
   "metadata": {},
   "outputs": [
    {
     "data": {
      "image/png": "[encoded data removed]",
      "text/plain": [
       "<Figure size 432x288 with 2 Axes>"
      ]
     },
     "metadata": {
      "needs_background": "light"
     },
     "output_type": "display_data"
    }
   ],
   "source": [
    "sns.heatmap(pd.crosstab(round(df_ml3['price.original']),df_ml4.clusters));"
   ]
  },
  {
   "cell_type": "code",
   "execution_count": null,
   "metadata": {},
   "outputs": [],
   "source": []
  },
  {
   "cell_type": "code",
   "execution_count": 58,
   "metadata": {},
   "outputs": [
    {
     "data": {
      "text/plain": [
       "5"
      ]
     },
     "execution_count": 58,
     "metadata": {},
     "output_type": "execute_result"
    }
   ],
   "source": [
    "5"
   ]
  },
  {
   "cell_type": "code",
   "execution_count": 59,
   "metadata": {},
   "outputs": [
    {
     "name": "stdout",
     "output_type": "stream",
     "text": [
      "0.4650402994703042\n"
     ]
    },
    {
     "data": {
      "text/plain": [
       "1.031776855306092"
      ]
     },
     "execution_count": 59,
     "metadata": {},
     "output_type": "execute_result"
    }
   ],
   "source": [
    "print(silhouette_score(X, df_ml1.clusters))\n",
    "davies_bouldin_score(X, df_ml1.clusters)"
   ]
  },
  {
   "cell_type": "code",
   "execution_count": 60,
   "metadata": {
    "scrolled": true
   },
   "outputs": [
    {
     "name": "stdout",
     "output_type": "stream",
     "text": [
      "0.4748827221569957\n"
     ]
    },
    {
     "data": {
      "text/plain": [
       "1.0821726216234027"
      ]
     },
     "execution_count": 60,
     "metadata": {},
     "output_type": "execute_result"
    }
   ],
   "source": [
    "print(silhouette_score(X_sc, df_ml2.clusters))\n",
    "davies_bouldin_score(X_sc, df_ml2.clusters)"
   ]
  },
  {
   "cell_type": "code",
   "execution_count": 61,
   "metadata": {
    "scrolled": true
   },
   "outputs": [
    {
     "name": "stdout",
     "output_type": "stream",
     "text": [
      "0.5739117380704839\n"
     ]
    },
    {
     "data": {
      "text/plain": [
       "0.780026083261606"
      ]
     },
     "execution_count": 61,
     "metadata": {},
     "output_type": "execute_result"
    }
   ],
   "source": [
    "print(silhouette_score(pca_df,df_ml3.clusters))\n",
    "davies_bouldin_score(pca_df, df_ml3.clusters)"
   ]
  },
  {
   "cell_type": "code",
   "execution_count": 62,
   "metadata": {
    "scrolled": true
   },
   "outputs": [
    {
     "name": "stdout",
     "output_type": "stream",
     "text": [
      "0.5766549805114289\n"
     ]
    },
    {
     "data": {
      "text/plain": [
       "0.7783553404159534"
      ]
     },
     "execution_count": 62,
     "metadata": {},
     "output_type": "execute_result"
    }
   ],
   "source": [
    "print(silhouette_score(pca_df2,df_ml4.clusters))\n",
    "davies_bouldin_score(pca_df2, df_ml4.clusters)"
   ]
  },
  {
   "cell_type": "code",
   "execution_count": 63,
   "metadata": {},
   "outputs": [],
   "source": [
    "# range_n_clusters = [2, 3, 4, 5, 6, 7, 8]\n",
    "\n",
    "# for n_clusters in range_n_clusters:\n",
    "#     clusterer = KMeans(n_clusters=n_clusters, random_state=10)\n",
    "#     cluster_labels = clusterer.fit_predict(X)\n",
    "#     silhouette_avg = silhouette_score(X, cluster_labels)\n",
    "#     print(\"For n_clusters =\", n_clusters,\n",
    "#           \"The average silhouette_score is :\", silhouette_avg)\n"
   ]
  },
  {
   "cell_type": "code",
   "execution_count": 64,
   "metadata": {},
   "outputs": [],
   "source": [
    "# range_n_clusters = [2, 3, 4, 5, 6,7,8]\n",
    "\n",
    "# for n_clusters in range_n_clusters:\n",
    "#     clusterer = KMeans(n_clusters=n_clusters, random_state=10)\n",
    "#     cluster_labels = clusterer.fit_predict(X)\n",
    "#     davies_avg = davies_bouldin_score(X, cluster_labels)\n",
    "#     print(\"For n_clusters =\", n_clusters,\n",
    "#           \"The average silhouette_score is :\", davies_avg)\n"
   ]
  },
  {
   "cell_type": "code",
   "execution_count": null,
   "metadata": {},
   "outputs": [],
   "source": []
  },
  {
   "cell_type": "code",
   "execution_count": null,
   "metadata": {},
   "outputs": [],
   "source": []
  },
  {
   "cell_type": "code",
   "execution_count": null,
   "metadata": {},
   "outputs": [],
   "source": []
  },
  {
   "cell_type": "markdown",
   "metadata": {},
   "source": [
    "# Data"
   ]
  },
  {
   "cell_type": "code",
   "execution_count": 65,
   "metadata": {},
   "outputs": [],
   "source": [
    "df=pd.get_dummies(data=df_ml1,columns=['clusters'],drop_first=True)"
   ]
  },
  {
   "cell_type": "code",
   "execution_count": 66,
   "metadata": {
    "scrolled": true
   },
   "outputs": [
    {
     "data": {
      "text/plain": [
       "0    16941\n",
       "1     1190\n",
       "Name: almost, dtype: int64"
      ]
     },
     "execution_count": 66,
     "metadata": {},
     "output_type": "execute_result"
    }
   ],
   "source": [
    "df.almost.value_counts()"
   ]
  },
  {
   "cell_type": "markdown",
   "metadata": {},
   "source": [
    "# Splitting Data"
   ]
  },
  {
   "cell_type": "code",
   "execution_count": 67,
   "metadata": {},
   "outputs": [],
   "source": [
    "X=df[df.almost==0].drop(['almost','discount_flag'],axis=1)\n",
    "X_2=df[df.almost==1].drop(['almost','discount_flag'],axis=1)\n",
    "y=df.discount_flag[df.almost==0]\n",
    "y_2=df.discount_flag[df.almost==1]"
   ]
  },
  {
   "cell_type": "markdown",
   "metadata": {},
   "source": [
    "# Standard Scaler"
   ]
  },
  {
   "cell_type": "code",
   "execution_count": 68,
   "metadata": {},
   "outputs": [
    {
     "data": {
      "text/plain": [
       "StandardScaler(copy=True, with_mean=True, with_std=True)"
      ]
     },
     "execution_count": 68,
     "metadata": {},
     "output_type": "execute_result"
    }
   ],
   "source": [
    "scaler=StandardScaler()\n",
    "scaler.fit(X)"
   ]
  },
  {
   "cell_type": "code",
   "execution_count": 69,
   "metadata": {},
   "outputs": [],
   "source": [
    "X2=pd.DataFrame(scaler.transform(X),columns=X.columns)"
   ]
  },
  {
   "cell_type": "code",
   "execution_count": 70,
   "metadata": {},
   "outputs": [
    {
     "data": {
      "text/plain": [
       "StandardScaler(copy=True, with_mean=True, with_std=True)"
      ]
     },
     "execution_count": 70,
     "metadata": {},
     "output_type": "execute_result"
    }
   ],
   "source": [
    "scaler=StandardScaler()\n",
    "scaler.fit(X_2)"
   ]
  },
  {
   "cell_type": "code",
   "execution_count": 71,
   "metadata": {},
   "outputs": [],
   "source": [
    "X2_2=pd.DataFrame(scaler.transform(X_2),columns=X_2.columns)"
   ]
  },
  {
   "cell_type": "markdown",
   "metadata": {},
   "source": [
    "# Linear Regression"
   ]
  },
  {
   "cell_type": "code",
   "execution_count": 72,
   "metadata": {},
   "outputs": [],
   "source": [
    "model0=LinearRegression().fit(X,y**(1/3))"
   ]
  },
  {
   "cell_type": "code",
   "execution_count": 73,
   "metadata": {},
   "outputs": [],
   "source": [
    "y_pred0=model0.predict(X)"
   ]
  },
  {
   "cell_type": "code",
   "execution_count": 74,
   "metadata": {},
   "outputs": [
    {
     "data": {
      "text/plain": [
       "0.3687264780259511"
      ]
     },
     "execution_count": 74,
     "metadata": {},
     "output_type": "execute_result"
    }
   ],
   "source": [
    "mse=mean_squared_error(y**(1/3),y_pred0)\n",
    "rmse=mse**0.5\n",
    "rmse"
   ]
  },
  {
   "cell_type": "code",
   "execution_count": 75,
   "metadata": {
    "scrolled": true
   },
   "outputs": [
    {
     "data": {
      "text/plain": [
       "0.7219891747979346"
      ]
     },
     "execution_count": 75,
     "metadata": {},
     "output_type": "execute_result"
    }
   ],
   "source": [
    "scoretest=r2_score(y**(1/3),y_pred0)\n",
    "scoretest"
   ]
  },
  {
   "cell_type": "markdown",
   "metadata": {},
   "source": [
    "# OLS Original Model"
   ]
  },
  {
   "cell_type": "code",
   "execution_count": 76,
   "metadata": {
    "scrolled": true
   },
   "outputs": [
    {
     "name": "stderr",
     "output_type": "stream",
     "text": [
      "C:\\Users\\mathi\\Anaconda3\\lib\\site-packages\\numpy\\core\\fromnumeric.py:2389: FutureWarning: Method .ptp is deprecated and will be removed in a future version. Use numpy.ptp instead.\n",
      "  return ptp(axis=axis, out=out, **kwargs)\n"
     ]
    },
    {
     "data": {
      "text/html": [
       "<table class=\"simpletable\">\n",
       "<caption>OLS Regression Results</caption>\n",
       "<tr>\n",
       "  <th>Dep. Variable:</th>      <td>discount_flag</td>  <th>  R-squared:         </th> <td>   0.282</td> \n",
       "</tr>\n",
       "<tr>\n",
       "  <th>Model:</th>                   <td>OLS</td>       <th>  Adj. R-squared:    </th> <td>   0.281</td> \n",
       "</tr>\n",
       "<tr>\n",
       "  <th>Method:</th>             <td>Least Squares</td>  <th>  F-statistic:       </th> <td>   255.3</td> \n",
       "</tr>\n",
       "<tr>\n",
       "  <th>Date:</th>             <td>Mon, 09 Dec 2019</td> <th>  Prob (F-statistic):</th>  <td>  0.00</td>  \n",
       "</tr>\n",
       "<tr>\n",
       "  <th>Time:</th>                 <td>18:14:04</td>     <th>  Log-Likelihood:    </th> <td> -64921.</td> \n",
       "</tr>\n",
       "<tr>\n",
       "  <th>No. Observations:</th>      <td> 16941</td>      <th>  AIC:               </th> <td>1.299e+05</td>\n",
       "</tr>\n",
       "<tr>\n",
       "  <th>Df Residuals:</th>          <td> 16914</td>      <th>  BIC:               </th> <td>1.301e+05</td>\n",
       "</tr>\n",
       "<tr>\n",
       "  <th>Df Model:</th>              <td>    26</td>      <th>                     </th>     <td> </td>    \n",
       "</tr>\n",
       "<tr>\n",
       "  <th>Covariance Type:</th>      <td>nonrobust</td>    <th>                     </th>     <td> </td>    \n",
       "</tr>\n",
       "</table>\n",
       "<table class=\"simpletable\">\n",
       "<tr>\n",
       "              <td></td>                <th>coef</th>     <th>std err</th>      <th>t</th>      <th>P>|t|</th>  <th>[0.025</th>    <th>0.975]</th>  \n",
       "</tr>\n",
       "<tr>\n",
       "  <th>const</th>                    <td>   -6.7146</td> <td>    2.562</td> <td>   -2.620</td> <td> 0.009</td> <td>  -11.737</td> <td>   -1.692</td>\n",
       "</tr>\n",
       "<tr>\n",
       "  <th>is_premium</th>               <td>   -1.7206</td> <td>    2.285</td> <td>   -0.753</td> <td> 0.452</td> <td>   -6.200</td> <td>    2.759</td>\n",
       "</tr>\n",
       "<tr>\n",
       "  <th>price.original</th>           <td>    0.0984</td> <td>    0.004</td> <td>   26.460</td> <td> 0.000</td> <td>    0.091</td> <td>    0.106</td>\n",
       "</tr>\n",
       "<tr>\n",
       "  <th>tracking_discount</th>        <td>   25.1445</td> <td>    0.513</td> <td>   49.039</td> <td> 0.000</td> <td>   24.139</td> <td>   26.150</td>\n",
       "</tr>\n",
       "<tr>\n",
       "  <th>sponsored</th>                <td>   -5.7041</td> <td>    5.093</td> <td>   -1.120</td> <td> 0.263</td> <td>  -15.687</td> <td>    4.278</td>\n",
       "</tr>\n",
       "<tr>\n",
       "  <th>10_extra</th>                 <td>    8.9079</td> <td>    0.395</td> <td>   22.575</td> <td> 0.000</td> <td>    8.134</td> <td>    9.681</td>\n",
       "</tr>\n",
       "<tr>\n",
       "  <th>HOTDROP</th>                  <td>    3.5852</td> <td>    2.345</td> <td>    1.529</td> <td> 0.126</td> <td>   -1.010</td> <td>    8.181</td>\n",
       "</tr>\n",
       "<tr>\n",
       "  <th>tracking_sustainable</th>     <td>    1.7909</td> <td>    0.410</td> <td>    4.367</td> <td> 0.000</td> <td>    0.987</td> <td>    2.595</td>\n",
       "</tr>\n",
       "<tr>\n",
       "  <th>product_group_beach_wear</th> <td>   -0.4613</td> <td>    0.886</td> <td>   -0.521</td> <td> 0.603</td> <td>   -2.199</td> <td>    1.276</td>\n",
       "</tr>\n",
       "<tr>\n",
       "  <th>product_group_clothing</th>   <td>    3.2561</td> <td>    0.704</td> <td>    4.625</td> <td> 0.000</td> <td>    1.876</td> <td>    4.636</td>\n",
       "</tr>\n",
       "<tr>\n",
       "  <th>product_group_equipment</th>  <td>   12.9907</td> <td>    7.941</td> <td>    1.636</td> <td> 0.102</td> <td>   -2.575</td> <td>   28.556</td>\n",
       "</tr>\n",
       "<tr>\n",
       "  <th>product_group_nightwear</th>  <td>    0.0290</td> <td>    0.905</td> <td>    0.032</td> <td> 0.974</td> <td>   -1.745</td> <td>    1.803</td>\n",
       "</tr>\n",
       "<tr>\n",
       "  <th>product_group_shoe</th>       <td>   -1.1681</td> <td>    0.732</td> <td>   -1.597</td> <td> 0.110</td> <td>   -2.602</td> <td>    0.266</td>\n",
       "</tr>\n",
       "<tr>\n",
       "  <th>product_group_underwear</th>  <td>    0.2361</td> <td>    0.781</td> <td>    0.302</td> <td> 0.762</td> <td>   -1.294</td> <td>    1.766</td>\n",
       "</tr>\n",
       "<tr>\n",
       "  <th>new_color_black</th>          <td>   -0.0043</td> <td>    0.361</td> <td>   -0.012</td> <td> 0.990</td> <td>   -0.712</td> <td>    0.704</td>\n",
       "</tr>\n",
       "<tr>\n",
       "  <th>new_color_blue</th>           <td>   -0.4682</td> <td>    0.568</td> <td>   -0.824</td> <td> 0.410</td> <td>   -1.582</td> <td>    0.646</td>\n",
       "</tr>\n",
       "<tr>\n",
       "  <th>new_color_green</th>          <td>    2.2703</td> <td>    0.562</td> <td>    4.036</td> <td> 0.000</td> <td>    1.168</td> <td>    3.373</td>\n",
       "</tr>\n",
       "<tr>\n",
       "  <th>new_color_grey</th>           <td>    0.3762</td> <td>    0.368</td> <td>    1.023</td> <td> 0.306</td> <td>   -0.345</td> <td>    1.097</td>\n",
       "</tr>\n",
       "<tr>\n",
       "  <th>new_color_navy</th>           <td>    0.6366</td> <td>    0.467</td> <td>    1.363</td> <td> 0.173</td> <td>   -0.279</td> <td>    1.552</td>\n",
       "</tr>\n",
       "<tr>\n",
       "  <th>new_color_pink</th>           <td>    0.9049</td> <td>    0.337</td> <td>    2.683</td> <td> 0.007</td> <td>    0.244</td> <td>    1.566</td>\n",
       "</tr>\n",
       "<tr>\n",
       "  <th>new_color_red</th>            <td>    1.1487</td> <td>    0.431</td> <td>    2.668</td> <td> 0.008</td> <td>    0.305</td> <td>    1.993</td>\n",
       "</tr>\n",
       "<tr>\n",
       "  <th>new_color_white</th>          <td>    0.0010</td> <td>    0.431</td> <td>    0.002</td> <td> 0.998</td> <td>   -0.844</td> <td>    0.846</td>\n",
       "</tr>\n",
       "<tr>\n",
       "  <th>new_color_yellow</th>         <td>    0.2441</td> <td>    0.640</td> <td>    0.381</td> <td> 0.703</td> <td>   -1.011</td> <td>    1.499</td>\n",
       "</tr>\n",
       "<tr>\n",
       "  <th>clusters_1</th>               <td>   -1.3787</td> <td>    2.301</td> <td>   -0.599</td> <td> 0.549</td> <td>   -5.888</td> <td>    3.131</td>\n",
       "</tr>\n",
       "<tr>\n",
       "  <th>clusters_2</th>               <td>   -0.0265</td> <td>    2.349</td> <td>   -0.011</td> <td> 0.991</td> <td>   -4.631</td> <td>    4.578</td>\n",
       "</tr>\n",
       "<tr>\n",
       "  <th>clusters_3</th>               <td>    1.4370</td> <td>    2.334</td> <td>    0.616</td> <td> 0.538</td> <td>   -3.138</td> <td>    6.012</td>\n",
       "</tr>\n",
       "<tr>\n",
       "  <th>clusters_4</th>               <td>   -2.5492</td> <td>    2.335</td> <td>   -1.092</td> <td> 0.275</td> <td>   -7.126</td> <td>    2.028</td>\n",
       "</tr>\n",
       "</table>\n",
       "<table class=\"simpletable\">\n",
       "<tr>\n",
       "  <th>Omnibus:</th>       <td>1203.609</td> <th>  Durbin-Watson:     </th> <td>   1.937</td>\n",
       "</tr>\n",
       "<tr>\n",
       "  <th>Prob(Omnibus):</th>  <td> 0.000</td>  <th>  Jarque-Bera (JB):  </th> <td>1476.910</td>\n",
       "</tr>\n",
       "<tr>\n",
       "  <th>Skew:</th>           <td> 0.720</td>  <th>  Prob(JB):          </th> <td>    0.00</td>\n",
       "</tr>\n",
       "<tr>\n",
       "  <th>Kurtosis:</th>       <td> 3.135</td>  <th>  Cond. No.          </th> <td>4.54e+03</td>\n",
       "</tr>\n",
       "</table><br/><br/>Warnings:<br/>[1] Standard Errors assume that the covariance matrix of the errors is correctly specified.<br/>[2] The condition number is large, 4.54e+03. This might indicate that there are<br/>strong multicollinearity or other numerical problems."
      ],
      "text/plain": [
       "<class 'statsmodels.iolib.summary.Summary'>\n",
       "\"\"\"\n",
       "                            OLS Regression Results                            \n",
       "==============================================================================\n",
       "Dep. Variable:          discount_flag   R-squared:                       0.282\n",
       "Model:                            OLS   Adj. R-squared:                  0.281\n",
       "Method:                 Least Squares   F-statistic:                     255.3\n",
       "Date:                Mon, 09 Dec 2019   Prob (F-statistic):               0.00\n",
       "Time:                        18:14:04   Log-Likelihood:                -64921.\n",
       "No. Observations:               16941   AIC:                         1.299e+05\n",
       "Df Residuals:                   16914   BIC:                         1.301e+05\n",
       "Df Model:                          26                                         \n",
       "Covariance Type:            nonrobust                                         \n",
       "============================================================================================\n",
       "                               coef    std err          t      P>|t|      [0.025      0.975]\n",
       "--------------------------------------------------------------------------------------------\n",
       "const                       -6.7146      2.562     -2.620      0.009     -11.737      -1.692\n",
       "is_premium                  -1.7206      2.285     -0.753      0.452      -6.200       2.759\n",
       "price.original               0.0984      0.004     26.460      0.000       0.091       0.106\n",
       "tracking_discount           25.1445      0.513     49.039      0.000      24.139      26.150\n",
       "sponsored                   -5.7041      5.093     -1.120      0.263     -15.687       4.278\n",
       "10_extra                     8.9079      0.395     22.575      0.000       8.134       9.681\n",
       "HOTDROP                      3.5852      2.345      1.529      0.126      -1.010       8.181\n",
       "tracking_sustainable         1.7909      0.410      4.367      0.000       0.987       2.595\n",
       "product_group_beach_wear    -0.4613      0.886     -0.521      0.603      -2.199       1.276\n",
       "product_group_clothing       3.2561      0.704      4.625      0.000       1.876       4.636\n",
       "product_group_equipment     12.9907      7.941      1.636      0.102      -2.575      28.556\n",
       "product_group_nightwear      0.0290      0.905      0.032      0.974      -1.745       1.803\n",
       "product_group_shoe          -1.1681      0.732     -1.597      0.110      -2.602       0.266\n",
       "product_group_underwear      0.2361      0.781      0.302      0.762      -1.294       1.766\n",
       "new_color_black             -0.0043      0.361     -0.012      0.990      -0.712       0.704\n",
       "new_color_blue              -0.4682      0.568     -0.824      0.410      -1.582       0.646\n",
       "new_color_green              2.2703      0.562      4.036      0.000       1.168       3.373\n",
       "new_color_grey               0.3762      0.368      1.023      0.306      -0.345       1.097\n",
       "new_color_navy               0.6366      0.467      1.363      0.173      -0.279       1.552\n",
       "new_color_pink               0.9049      0.337      2.683      0.007       0.244       1.566\n",
       "new_color_red                1.1487      0.431      2.668      0.008       0.305       1.993\n",
       "new_color_white              0.0010      0.431      0.002      0.998      -0.844       0.846\n",
       "new_color_yellow             0.2441      0.640      0.381      0.703      -1.011       1.499\n",
       "clusters_1                  -1.3787      2.301     -0.599      0.549      -5.888       3.131\n",
       "clusters_2                  -0.0265      2.349     -0.011      0.991      -4.631       4.578\n",
       "clusters_3                   1.4370      2.334      0.616      0.538      -3.138       6.012\n",
       "clusters_4                  -2.5492      2.335     -1.092      0.275      -7.126       2.028\n",
       "==============================================================================\n",
       "Omnibus:                     1203.609   Durbin-Watson:                   1.937\n",
       "Prob(Omnibus):                  0.000   Jarque-Bera (JB):             1476.910\n",
       "Skew:                           0.720   Prob(JB):                         0.00\n",
       "Kurtosis:                       3.135   Cond. No.                     4.54e+03\n",
       "==============================================================================\n",
       "\n",
       "Warnings:\n",
       "[1] Standard Errors assume that the covariance matrix of the errors is correctly specified.\n",
       "[2] The condition number is large, 4.54e+03. This might indicate that there are\n",
       "strong multicollinearity or other numerical problems.\n",
       "\"\"\""
      ]
     },
     "execution_count": 76,
     "metadata": {},
     "output_type": "execute_result"
    }
   ],
   "source": [
    "model1=OLS(y,add_constant(X))\n",
    "result1=model1.fit()\n",
    "result1.summary()"
   ]
  },
  {
   "cell_type": "code",
   "execution_count": 77,
   "metadata": {
    "scrolled": true
   },
   "outputs": [],
   "source": [
    "X1=X.drop(['new_color_black','new_color_white','product_group_nightwear',\n",
    "           'product_group_underwear','new_color_yellow','new_color_grey',\n",
    "           'product_group_beach_wear','sponsored','new_color_navy','new_color_blue',\n",
    "           'HOTDROP','product_group_equipment','clusters_4','product_group_shoe','clusters_3'],axis=1)"
   ]
  },
  {
   "cell_type": "code",
   "execution_count": 78,
   "metadata": {
    "scrolled": true
   },
   "outputs": [
    {
     "data": {
      "text/html": [
       "<table class=\"simpletable\">\n",
       "<caption>OLS Regression Results</caption>\n",
       "<tr>\n",
       "  <th>Dep. Variable:</th>      <td>discount_flag</td>  <th>  R-squared:         </th> <td>   0.816</td>\n",
       "</tr>\n",
       "<tr>\n",
       "  <th>Model:</th>                   <td>OLS</td>       <th>  Adj. R-squared:    </th> <td>   0.816</td>\n",
       "</tr>\n",
       "<tr>\n",
       "  <th>Method:</th>             <td>Least Squares</td>  <th>  F-statistic:       </th> <td>   6845.</td>\n",
       "</tr>\n",
       "<tr>\n",
       "  <th>Date:</th>             <td>Mon, 09 Dec 2019</td> <th>  Prob (F-statistic):</th>  <td>  0.00</td> \n",
       "</tr>\n",
       "<tr>\n",
       "  <th>Time:</th>                 <td>18:14:04</td>     <th>  Log-Likelihood:    </th> <td>  2405.3</td>\n",
       "</tr>\n",
       "<tr>\n",
       "  <th>No. Observations:</th>      <td> 16941</td>      <th>  AIC:               </th> <td>  -4787.</td>\n",
       "</tr>\n",
       "<tr>\n",
       "  <th>Df Residuals:</th>          <td> 16929</td>      <th>  BIC:               </th> <td>  -4694.</td>\n",
       "</tr>\n",
       "<tr>\n",
       "  <th>Df Model:</th>              <td>    11</td>      <th>                     </th>     <td> </td>   \n",
       "</tr>\n",
       "<tr>\n",
       "  <th>Covariance Type:</th>      <td>nonrobust</td>    <th>                     </th>     <td> </td>   \n",
       "</tr>\n",
       "</table>\n",
       "<table class=\"simpletable\">\n",
       "<tr>\n",
       "             <td></td>               <th>coef</th>     <th>std err</th>      <th>t</th>      <th>P>|t|</th>  <th>[0.025</th>    <th>0.975]</th>  \n",
       "</tr>\n",
       "<tr>\n",
       "  <th>const</th>                  <td>   -0.1176</td> <td>    0.009</td> <td>  -12.721</td> <td> 0.000</td> <td>   -0.136</td> <td>   -0.099</td>\n",
       "</tr>\n",
       "<tr>\n",
       "  <th>is_premium</th>             <td>   -0.0161</td> <td>    0.006</td> <td>   -2.720</td> <td> 0.007</td> <td>   -0.028</td> <td>   -0.004</td>\n",
       "</tr>\n",
       "<tr>\n",
       "  <th>price.original</th>         <td>    0.0018</td> <td> 6.43e-05</td> <td>   27.329</td> <td> 0.000</td> <td>    0.002</td> <td>    0.002</td>\n",
       "</tr>\n",
       "<tr>\n",
       "  <th>tracking_discount</th>      <td>    2.2101</td> <td>    0.009</td> <td>  235.436</td> <td> 0.000</td> <td>    2.192</td> <td>    2.228</td>\n",
       "</tr>\n",
       "<tr>\n",
       "  <th>10_extra</th>               <td>    0.1312</td> <td>    0.005</td> <td>   25.090</td> <td> 0.000</td> <td>    0.121</td> <td>    0.141</td>\n",
       "</tr>\n",
       "<tr>\n",
       "  <th>tracking_sustainable</th>   <td>    0.0386</td> <td>    0.008</td> <td>    5.022</td> <td> 0.000</td> <td>    0.024</td> <td>    0.054</td>\n",
       "</tr>\n",
       "<tr>\n",
       "  <th>product_group_clothing</th> <td>    0.0724</td> <td>    0.004</td> <td>   20.626</td> <td> 0.000</td> <td>    0.066</td> <td>    0.079</td>\n",
       "</tr>\n",
       "<tr>\n",
       "  <th>new_color_green</th>        <td>    0.0465</td> <td>    0.010</td> <td>    4.493</td> <td> 0.000</td> <td>    0.026</td> <td>    0.067</td>\n",
       "</tr>\n",
       "<tr>\n",
       "  <th>new_color_pink</th>         <td>    0.0193</td> <td>    0.006</td> <td>    3.222</td> <td> 0.001</td> <td>    0.008</td> <td>    0.031</td>\n",
       "</tr>\n",
       "<tr>\n",
       "  <th>new_color_red</th>          <td>    0.0269</td> <td>    0.008</td> <td>    3.441</td> <td> 0.001</td> <td>    0.012</td> <td>    0.042</td>\n",
       "</tr>\n",
       "<tr>\n",
       "  <th>clusters_1</th>             <td>    0.0018</td> <td>    0.005</td> <td>    0.363</td> <td> 0.716</td> <td>   -0.008</td> <td>    0.012</td>\n",
       "</tr>\n",
       "<tr>\n",
       "  <th>clusters_2</th>             <td>    0.0087</td> <td>    0.006</td> <td>    1.585</td> <td> 0.113</td> <td>   -0.002</td> <td>    0.019</td>\n",
       "</tr>\n",
       "</table>\n",
       "<table class=\"simpletable\">\n",
       "<tr>\n",
       "  <th>Omnibus:</th>       <td>1086.952</td> <th>  Durbin-Watson:     </th> <td>   1.945</td>\n",
       "</tr>\n",
       "<tr>\n",
       "  <th>Prob(Omnibus):</th>  <td> 0.000</td>  <th>  Jarque-Bera (JB):  </th> <td>4777.296</td>\n",
       "</tr>\n",
       "<tr>\n",
       "  <th>Skew:</th>           <td>-0.137</td>  <th>  Prob(JB):          </th> <td>    0.00</td>\n",
       "</tr>\n",
       "<tr>\n",
       "  <th>Kurtosis:</th>       <td> 5.587</td>  <th>  Cond. No.          </th> <td>    383.</td>\n",
       "</tr>\n",
       "</table><br/><br/>Warnings:<br/>[1] Standard Errors assume that the covariance matrix of the errors is correctly specified."
      ],
      "text/plain": [
       "<class 'statsmodels.iolib.summary.Summary'>\n",
       "\"\"\"\n",
       "                            OLS Regression Results                            \n",
       "==============================================================================\n",
       "Dep. Variable:          discount_flag   R-squared:                       0.816\n",
       "Model:                            OLS   Adj. R-squared:                  0.816\n",
       "Method:                 Least Squares   F-statistic:                     6845.\n",
       "Date:                Mon, 09 Dec 2019   Prob (F-statistic):               0.00\n",
       "Time:                        18:14:04   Log-Likelihood:                 2405.3\n",
       "No. Observations:               16941   AIC:                            -4787.\n",
       "Df Residuals:                   16929   BIC:                            -4694.\n",
       "Df Model:                          11                                         \n",
       "Covariance Type:            nonrobust                                         \n",
       "==========================================================================================\n",
       "                             coef    std err          t      P>|t|      [0.025      0.975]\n",
       "------------------------------------------------------------------------------------------\n",
       "const                     -0.1176      0.009    -12.721      0.000      -0.136      -0.099\n",
       "is_premium                -0.0161      0.006     -2.720      0.007      -0.028      -0.004\n",
       "price.original             0.0018   6.43e-05     27.329      0.000       0.002       0.002\n",
       "tracking_discount          2.2101      0.009    235.436      0.000       2.192       2.228\n",
       "10_extra                   0.1312      0.005     25.090      0.000       0.121       0.141\n",
       "tracking_sustainable       0.0386      0.008      5.022      0.000       0.024       0.054\n",
       "product_group_clothing     0.0724      0.004     20.626      0.000       0.066       0.079\n",
       "new_color_green            0.0465      0.010      4.493      0.000       0.026       0.067\n",
       "new_color_pink             0.0193      0.006      3.222      0.001       0.008       0.031\n",
       "new_color_red              0.0269      0.008      3.441      0.001       0.012       0.042\n",
       "clusters_1                 0.0018      0.005      0.363      0.716      -0.008       0.012\n",
       "clusters_2                 0.0087      0.006      1.585      0.113      -0.002       0.019\n",
       "==============================================================================\n",
       "Omnibus:                     1086.952   Durbin-Watson:                   1.945\n",
       "Prob(Omnibus):                  0.000   Jarque-Bera (JB):             4777.296\n",
       "Skew:                          -0.137   Prob(JB):                         0.00\n",
       "Kurtosis:                       5.587   Cond. No.                         383.\n",
       "==============================================================================\n",
       "\n",
       "Warnings:\n",
       "[1] Standard Errors assume that the covariance matrix of the errors is correctly specified.\n",
       "\"\"\""
      ]
     },
     "execution_count": 78,
     "metadata": {},
     "output_type": "execute_result"
    }
   ],
   "source": [
    "X1=add_constant(X1)\n",
    "model1=OLS(y**(1/4),X1)\n",
    "result1=model1.fit()\n",
    "result1.summary()"
   ]
  },
  {
   "cell_type": "markdown",
   "metadata": {},
   "source": [
    "# Ridge"
   ]
  },
  {
   "cell_type": "code",
   "execution_count": 79,
   "metadata": {},
   "outputs": [
    {
     "name": "stdout",
     "output_type": "stream",
     "text": [
      "best alpha is 1.0\n",
      "best score is 0.27833618831748863\n"
     ]
    },
    {
     "data": {
      "image/png": "[encoded data removed]",
      "text/plain": [
       "<Figure size 432x288 with 1 Axes>"
      ]
     },
     "metadata": {
      "needs_background": "light"
     },
     "output_type": "display_data"
    }
   ],
   "source": [
    "reg=RidgeCV()\n",
    "reg.fit(X1,y)\n",
    "print(f'best alpha is {reg.alpha_}')\n",
    "print(f'best score is {reg.score(X1,y)}')\n",
    "coef=pd.Series(reg.coef_,index=X1.columns)\n",
    "coef.sort_values().plot.barh(color='#ff7276');"
   ]
  },
  {
   "cell_type": "code",
   "execution_count": 80,
   "metadata": {},
   "outputs": [
    {
     "name": "stdout",
     "output_type": "stream",
     "text": [
      "best alpha is 10.0\n",
      "best score is 0.2818297451265942\n"
     ]
    },
    {
     "data": {
      "image/png": "[encoded data removed]",
      "text/plain": [
       "<Figure size 432x288 with 1 Axes>"
      ]
     },
     "metadata": {
      "needs_background": "light"
     },
     "output_type": "display_data"
    }
   ],
   "source": [
    "reg=RidgeCV()\n",
    "reg.fit(X2,y)\n",
    "print(f'best alpha is {reg.alpha_}')\n",
    "print(f'best score is {reg.score(X2,y)}')\n",
    "coef=pd.Series(reg.coef_,index=X2.columns)\n",
    "coef.sort_values().plot.barh(color='#ff7276');"
   ]
  },
  {
   "cell_type": "markdown",
   "metadata": {},
   "source": [
    "# Lasso"
   ]
  },
  {
   "cell_type": "code",
   "execution_count": 81,
   "metadata": {
    "scrolled": false
   },
   "outputs": [
    {
     "name": "stderr",
     "output_type": "stream",
     "text": [
      "C:\\Users\\mathi\\Anaconda3\\lib\\site-packages\\sklearn\\model_selection\\_split.py:1978: FutureWarning: The default value of cv will change from 3 to 5 in version 0.22. Specify it explicitly to silence this warning.\n",
      "  warnings.warn(CV_WARNING, FutureWarning)\n"
     ]
    },
    {
     "name": "stdout",
     "output_type": "stream",
     "text": [
      "best alpha is 0.0697567968567989\n",
      "best score is 0.2751079196538756\n"
     ]
    },
    {
     "data": {
      "image/png": "[encoded data removed]",
      "text/plain": [
       "<Figure size 432x288 with 1 Axes>"
      ]
     },
     "metadata": {
      "needs_background": "light"
     },
     "output_type": "display_data"
    }
   ],
   "source": [
    "reg=LassoCV()\n",
    "reg.fit(X1,y)\n",
    "print(f'best alpha is {reg.alpha_}')\n",
    "print(f'best score is {reg.score(X1,y)}')\n",
    "coef=pd.Series(reg.coef_,index=X1.columns)\n",
    "coef.sort_values().plot.barh(color='#ff7276');"
   ]
  },
  {
   "cell_type": "code",
   "execution_count": 82,
   "metadata": {},
   "outputs": [
    {
     "name": "stderr",
     "output_type": "stream",
     "text": [
      "C:\\Users\\mathi\\Anaconda3\\lib\\site-packages\\sklearn\\model_selection\\_split.py:1978: FutureWarning: The default value of cv will change from 3 to 5 in version 0.22. Specify it explicitly to silence this warning.\n",
      "  warnings.warn(CV_WARNING, FutureWarning)\n"
     ]
    },
    {
     "name": "stdout",
     "output_type": "stream",
     "text": [
      "best alpha is 0.0058102495707598265\n",
      "best score is 0.28180432469478556\n"
     ]
    },
    {
     "data": {
      "image/png": "[encoded data removed]",
      "text/plain": [
       "<Figure size 432x288 with 1 Axes>"
      ]
     },
     "metadata": {
      "needs_background": "light"
     },
     "output_type": "display_data"
    }
   ],
   "source": [
    "reg=LassoCV()\n",
    "reg.fit(X2,y)\n",
    "print(f'best alpha is {reg.alpha_}')\n",
    "print(f'best score is {reg.score(X2,y)}')\n",
    "coef=pd.Series(reg.coef_,index=X2.columns)\n",
    "coef.sort_values().plot.barh(color='#ff7276');"
   ]
  },
  {
   "cell_type": "raw",
   "metadata": {},
   "source": [
    "pca with ols, xgboost and xgboost with pca"
   ]
  },
  {
   "cell_type": "code",
   "execution_count": null,
   "metadata": {},
   "outputs": [],
   "source": []
  },
  {
   "cell_type": "code",
   "execution_count": null,
   "metadata": {},
   "outputs": [],
   "source": []
  },
  {
   "cell_type": "markdown",
   "metadata": {},
   "source": [
    "# Elastic Net"
   ]
  },
  {
   "cell_type": "code",
   "execution_count": 83,
   "metadata": {},
   "outputs": [
    {
     "name": "stderr",
     "output_type": "stream",
     "text": [
      "C:\\Users\\mathi\\Anaconda3\\lib\\site-packages\\sklearn\\model_selection\\_split.py:1978: FutureWarning: The default value of cv will change from 3 to 5 in version 0.22. Specify it explicitly to silence this warning.\n",
      "  warnings.warn(CV_WARNING, FutureWarning)\n"
     ]
    },
    {
     "name": "stdout",
     "output_type": "stream",
     "text": [
      "best alpha is 0.13951359371359784\n",
      "best score is 0.21477598658823452\n"
     ]
    }
   ],
   "source": [
    "reg=ElasticNetCV()\n",
    "reg.fit(X,y)\n",
    "print(f'best alpha is {reg.alpha_}')\n",
    "print(f'best score is {reg.score(X,y)}')"
   ]
  },
  {
   "cell_type": "code",
   "execution_count": 84,
   "metadata": {
    "scrolled": true
   },
   "outputs": [
    {
     "name": "stderr",
     "output_type": "stream",
     "text": [
      "C:\\Users\\mathi\\Anaconda3\\lib\\site-packages\\sklearn\\model_selection\\_split.py:1978: FutureWarning: The default value of cv will change from 3 to 5 in version 0.22. Specify it explicitly to silence this warning.\n",
      "  warnings.warn(CV_WARNING, FutureWarning)\n"
     ]
    },
    {
     "name": "stdout",
     "output_type": "stream",
     "text": [
      "best alpha is 0.011620499141519655\n",
      "best score is 0.2817674163572954\n"
     ]
    }
   ],
   "source": [
    "reg=ElasticNetCV()\n",
    "reg.fit(X2,y)\n",
    "print(f'best alpha is {reg.alpha_}')\n",
    "print(f'best score is {reg.score(X2,y)}')"
   ]
  },
  {
   "cell_type": "code",
   "execution_count": null,
   "metadata": {},
   "outputs": [],
   "source": []
  },
  {
   "cell_type": "markdown",
   "metadata": {},
   "source": [
    "# Linear Prediction"
   ]
  },
  {
   "cell_type": "code",
   "execution_count": 85,
   "metadata": {
    "scrolled": true
   },
   "outputs": [],
   "source": [
    "pred0=model0.predict(X_2)"
   ]
  },
  {
   "cell_type": "code",
   "execution_count": 86,
   "metadata": {},
   "outputs": [],
   "source": [
    "comp=pd.DataFrame(pred0**3,y_2).reset_index()\n",
    "comp['diff']=comp.discount_flag-comp[0]"
   ]
  },
  {
   "cell_type": "code",
   "execution_count": 87,
   "metadata": {
    "scrolled": true
   },
   "outputs": [
    {
     "data": {
      "text/html": [
       "<div>\n",
       "<style scoped>\n",
       "    .dataframe tbody tr th:only-of-type {\n",
       "        vertical-align: middle;\n",
       "    }\n",
       "\n",
       "    .dataframe tbody tr th {\n",
       "        vertical-align: top;\n",
       "    }\n",
       "\n",
       "    .dataframe thead th {\n",
       "        text-align: right;\n",
       "    }\n",
       "</style>\n",
       "<table border=\"1\" class=\"dataframe\">\n",
       "  <thead>\n",
       "    <tr style=\"text-align: right;\">\n",
       "      <th></th>\n",
       "      <th>discount_flag</th>\n",
       "      <th>0</th>\n",
       "      <th>diff</th>\n",
       "    </tr>\n",
       "  </thead>\n",
       "  <tbody>\n",
       "    <tr>\n",
       "      <th>count</th>\n",
       "      <td>1190.000000</td>\n",
       "      <td>1190.000000</td>\n",
       "      <td>1190.000000</td>\n",
       "    </tr>\n",
       "    <tr>\n",
       "      <th>mean</th>\n",
       "      <td>32.332773</td>\n",
       "      <td>29.183582</td>\n",
       "      <td>3.149192</td>\n",
       "    </tr>\n",
       "    <tr>\n",
       "      <th>std</th>\n",
       "      <td>11.400877</td>\n",
       "      <td>3.402479</td>\n",
       "      <td>11.133983</td>\n",
       "    </tr>\n",
       "    <tr>\n",
       "      <th>min</th>\n",
       "      <td>5.000000</td>\n",
       "      <td>18.510400</td>\n",
       "      <td>-30.041441</td>\n",
       "    </tr>\n",
       "    <tr>\n",
       "      <th>25%</th>\n",
       "      <td>25.000000</td>\n",
       "      <td>26.768890</td>\n",
       "      <td>-4.980805</td>\n",
       "    </tr>\n",
       "    <tr>\n",
       "      <th>50%</th>\n",
       "      <td>30.000000</td>\n",
       "      <td>29.551863</td>\n",
       "      <td>1.840535</td>\n",
       "    </tr>\n",
       "    <tr>\n",
       "      <th>75%</th>\n",
       "      <td>40.000000</td>\n",
       "      <td>31.431138</td>\n",
       "      <td>9.763058</td>\n",
       "    </tr>\n",
       "    <tr>\n",
       "      <th>max</th>\n",
       "      <td>72.000000</td>\n",
       "      <td>50.041441</td>\n",
       "      <td>44.351838</td>\n",
       "    </tr>\n",
       "  </tbody>\n",
       "</table>\n",
       "</div>"
      ],
      "text/plain": [
       "       discount_flag            0         diff\n",
       "count    1190.000000  1190.000000  1190.000000\n",
       "mean       32.332773    29.183582     3.149192\n",
       "std        11.400877     3.402479    11.133983\n",
       "min         5.000000    18.510400   -30.041441\n",
       "25%        25.000000    26.768890    -4.980805\n",
       "50%        30.000000    29.551863     1.840535\n",
       "75%        40.000000    31.431138     9.763058\n",
       "max        72.000000    50.041441    44.351838"
      ]
     },
     "execution_count": 87,
     "metadata": {},
     "output_type": "execute_result"
    }
   ],
   "source": [
    "comp.describe()"
   ]
  },
  {
   "cell_type": "code",
   "execution_count": 88,
   "metadata": {},
   "outputs": [
    {
     "data": {
      "image/png": "[encoded data removed]",
      "text/plain": [
       "<Figure size 432x288 with 1 Axes>"
      ]
     },
     "metadata": {
      "needs_background": "light"
     },
     "output_type": "display_data"
    }
   ],
   "source": [
    "sns.scatterplot(pred0**3,y_2);"
   ]
  },
  {
   "cell_type": "code",
   "execution_count": 89,
   "metadata": {
    "scrolled": true
   },
   "outputs": [
    {
     "data": {
      "text/plain": [
       "(506, 3)"
      ]
     },
     "execution_count": 89,
     "metadata": {},
     "output_type": "execute_result"
    }
   ],
   "source": [
    "comp[comp['diff']<0].shape"
   ]
  },
  {
   "cell_type": "code",
   "execution_count": null,
   "metadata": {},
   "outputs": [],
   "source": []
  },
  {
   "cell_type": "markdown",
   "metadata": {},
   "source": [
    "# OLS prediction"
   ]
  },
  {
   "cell_type": "code",
   "execution_count": 90,
   "metadata": {
    "scrolled": true
   },
   "outputs": [],
   "source": [
    "pred1 = result1.predict(X1)"
   ]
  },
  {
   "cell_type": "code",
   "execution_count": 91,
   "metadata": {},
   "outputs": [],
   "source": [
    "comp1=pd.DataFrame(pred1**4,y_2).reset_index()\n",
    "comp1['diff']=comp.discount_flag-comp[0]"
   ]
  },
  {
   "cell_type": "code",
   "execution_count": 92,
   "metadata": {
    "scrolled": true
   },
   "outputs": [
    {
     "data": {
      "text/html": [
       "<div>\n",
       "<style scoped>\n",
       "    .dataframe tbody tr th:only-of-type {\n",
       "        vertical-align: middle;\n",
       "    }\n",
       "\n",
       "    .dataframe tbody tr th {\n",
       "        vertical-align: top;\n",
       "    }\n",
       "\n",
       "    .dataframe thead th {\n",
       "        text-align: right;\n",
       "    }\n",
       "</style>\n",
       "<table border=\"1\" class=\"dataframe\">\n",
       "  <thead>\n",
       "    <tr style=\"text-align: right;\">\n",
       "      <th></th>\n",
       "      <th>discount_flag</th>\n",
       "      <th>0</th>\n",
       "      <th>diff</th>\n",
       "    </tr>\n",
       "  </thead>\n",
       "  <tbody>\n",
       "    <tr>\n",
       "      <th>count</th>\n",
       "      <td>1190.000000</td>\n",
       "      <td>977.000000</td>\n",
       "      <td>1190.000000</td>\n",
       "    </tr>\n",
       "    <tr>\n",
       "      <th>mean</th>\n",
       "      <td>32.332773</td>\n",
       "      <td>30.985592</td>\n",
       "      <td>3.149192</td>\n",
       "    </tr>\n",
       "    <tr>\n",
       "      <th>std</th>\n",
       "      <td>11.400877</td>\n",
       "      <td>3.230710</td>\n",
       "      <td>11.133983</td>\n",
       "    </tr>\n",
       "    <tr>\n",
       "      <th>min</th>\n",
       "      <td>5.000000</td>\n",
       "      <td>21.234697</td>\n",
       "      <td>-30.041441</td>\n",
       "    </tr>\n",
       "    <tr>\n",
       "      <th>25%</th>\n",
       "      <td>25.000000</td>\n",
       "      <td>29.358460</td>\n",
       "      <td>-4.980805</td>\n",
       "    </tr>\n",
       "    <tr>\n",
       "      <th>50%</th>\n",
       "      <td>30.000000</td>\n",
       "      <td>30.326204</td>\n",
       "      <td>1.840535</td>\n",
       "    </tr>\n",
       "    <tr>\n",
       "      <th>75%</th>\n",
       "      <td>40.000000</td>\n",
       "      <td>34.342806</td>\n",
       "      <td>9.763058</td>\n",
       "    </tr>\n",
       "    <tr>\n",
       "      <th>max</th>\n",
       "      <td>72.000000</td>\n",
       "      <td>38.369490</td>\n",
       "      <td>44.351838</td>\n",
       "    </tr>\n",
       "  </tbody>\n",
       "</table>\n",
       "</div>"
      ],
      "text/plain": [
       "       discount_flag           0         diff\n",
       "count    1190.000000  977.000000  1190.000000\n",
       "mean       32.332773   30.985592     3.149192\n",
       "std        11.400877    3.230710    11.133983\n",
       "min         5.000000   21.234697   -30.041441\n",
       "25%        25.000000   29.358460    -4.980805\n",
       "50%        30.000000   30.326204     1.840535\n",
       "75%        40.000000   34.342806     9.763058\n",
       "max        72.000000   38.369490    44.351838"
      ]
     },
     "execution_count": 92,
     "metadata": {},
     "output_type": "execute_result"
    }
   ],
   "source": [
    "comp1.describe()"
   ]
  },
  {
   "cell_type": "code",
   "execution_count": null,
   "metadata": {},
   "outputs": [],
   "source": []
  },
  {
   "cell_type": "code",
   "execution_count": null,
   "metadata": {},
   "outputs": [],
   "source": []
  },
  {
   "cell_type": "markdown",
   "metadata": {},
   "source": [
    "# Elastic Net Prediction"
   ]
  },
  {
   "cell_type": "code",
   "execution_count": 93,
   "metadata": {},
   "outputs": [
    {
     "name": "stderr",
     "output_type": "stream",
     "text": [
      "C:\\Users\\mathi\\Anaconda3\\lib\\site-packages\\sklearn\\model_selection\\_split.py:1978: FutureWarning: The default value of cv will change from 3 to 5 in version 0.22. Specify it explicitly to silence this warning.\n",
      "  warnings.warn(CV_WARNING, FutureWarning)\n"
     ]
    }
   ],
   "source": [
    "reg=ElasticNetCV().fit(X2,y)\n",
    "model1=ElasticNet(alpha=reg.alpha_).fit(X2,(y**(1/3)))"
   ]
  },
  {
   "cell_type": "code",
   "execution_count": 94,
   "metadata": {},
   "outputs": [
    {
     "data": {
      "text/plain": [
       "0.720028228227195"
      ]
     },
     "execution_count": 94,
     "metadata": {},
     "output_type": "execute_result"
    }
   ],
   "source": [
    "model1.score(X2,(y**(1/3)))"
   ]
  },
  {
   "cell_type": "code",
   "execution_count": 95,
   "metadata": {},
   "outputs": [
    {
     "data": {
      "text/plain": [
       "array([3.32494343, 3.00466734, 2.78923058, ..., 2.84384162, 2.77396499,\n",
       "       2.77396499])"
      ]
     },
     "execution_count": 95,
     "metadata": {},
     "output_type": "execute_result"
    }
   ],
   "source": [
    "y_test_pred1=model1.predict(X2_2)\n",
    "y_test_pred1"
   ]
  },
  {
   "cell_type": "code",
   "execution_count": 96,
   "metadata": {},
   "outputs": [],
   "source": [
    "comp1=pd.DataFrame(y_test_pred1**3,y_2).reset_index()\n",
    "comp1['diff']=comp1.discount_flag-comp1[0]"
   ]
  },
  {
   "cell_type": "code",
   "execution_count": 97,
   "metadata": {},
   "outputs": [
    {
     "data": {
      "text/html": [
       "<div>\n",
       "<style scoped>\n",
       "    .dataframe tbody tr th:only-of-type {\n",
       "        vertical-align: middle;\n",
       "    }\n",
       "\n",
       "    .dataframe tbody tr th {\n",
       "        vertical-align: top;\n",
       "    }\n",
       "\n",
       "    .dataframe thead th {\n",
       "        text-align: right;\n",
       "    }\n",
       "</style>\n",
       "<table border=\"1\" class=\"dataframe\">\n",
       "  <thead>\n",
       "    <tr style=\"text-align: right;\">\n",
       "      <th></th>\n",
       "      <th>discount_flag</th>\n",
       "      <th>0</th>\n",
       "      <th>diff</th>\n",
       "    </tr>\n",
       "  </thead>\n",
       "  <tbody>\n",
       "    <tr>\n",
       "      <th>count</th>\n",
       "      <td>1190.000000</td>\n",
       "      <td>1190.000000</td>\n",
       "      <td>1190.000000</td>\n",
       "    </tr>\n",
       "    <tr>\n",
       "      <th>mean</th>\n",
       "      <td>32.332773</td>\n",
       "      <td>26.426600</td>\n",
       "      <td>5.906173</td>\n",
       "    </tr>\n",
       "    <tr>\n",
       "      <th>std</th>\n",
       "      <td>11.400877</td>\n",
       "      <td>2.894394</td>\n",
       "      <td>11.152158</td>\n",
       "    </tr>\n",
       "    <tr>\n",
       "      <th>min</th>\n",
       "      <td>5.000000</td>\n",
       "      <td>18.285199</td>\n",
       "      <td>-26.944862</td>\n",
       "    </tr>\n",
       "    <tr>\n",
       "      <th>25%</th>\n",
       "      <td>25.000000</td>\n",
       "      <td>24.379978</td>\n",
       "      <td>-2.470348</td>\n",
       "    </tr>\n",
       "    <tr>\n",
       "      <th>50%</th>\n",
       "      <td>30.000000</td>\n",
       "      <td>26.794360</td>\n",
       "      <td>4.271326</td>\n",
       "    </tr>\n",
       "    <tr>\n",
       "      <th>75%</th>\n",
       "      <td>40.000000</td>\n",
       "      <td>28.099573</td>\n",
       "      <td>12.671156</td>\n",
       "    </tr>\n",
       "    <tr>\n",
       "      <th>max</th>\n",
       "      <td>72.000000</td>\n",
       "      <td>46.944862</td>\n",
       "      <td>45.586735</td>\n",
       "    </tr>\n",
       "  </tbody>\n",
       "</table>\n",
       "</div>"
      ],
      "text/plain": [
       "       discount_flag            0         diff\n",
       "count    1190.000000  1190.000000  1190.000000\n",
       "mean       32.332773    26.426600     5.906173\n",
       "std        11.400877     2.894394    11.152158\n",
       "min         5.000000    18.285199   -26.944862\n",
       "25%        25.000000    24.379978    -2.470348\n",
       "50%        30.000000    26.794360     4.271326\n",
       "75%        40.000000    28.099573    12.671156\n",
       "max        72.000000    46.944862    45.586735"
      ]
     },
     "execution_count": 97,
     "metadata": {},
     "output_type": "execute_result"
    }
   ],
   "source": [
    "comp1.describe()"
   ]
  },
  {
   "cell_type": "code",
   "execution_count": 98,
   "metadata": {},
   "outputs": [
    {
     "data": {
      "image/png": "[encoded data removed]",
      "text/plain": [
       "<Figure size 432x288 with 1 Axes>"
      ]
     },
     "metadata": {
      "needs_background": "light"
     },
     "output_type": "display_data"
    }
   ],
   "source": [
    "sns.scatterplot(y_test_pred1**3,y_2);"
   ]
  },
  {
   "cell_type": "code",
   "execution_count": 99,
   "metadata": {
    "scrolled": true
   },
   "outputs": [
    {
     "data": {
      "text/plain": [
       "(354, 3)"
      ]
     },
     "execution_count": 99,
     "metadata": {},
     "output_type": "execute_result"
    }
   ],
   "source": [
    "comp1[comp1['diff']<0].shape"
   ]
  },
  {
   "cell_type": "code",
   "execution_count": null,
   "metadata": {},
   "outputs": [],
   "source": []
  },
  {
   "cell_type": "code",
   "execution_count": null,
   "metadata": {},
   "outputs": [],
   "source": []
  },
  {
   "cell_type": "markdown",
   "metadata": {},
   "source": [
    "# Lasso Prediction"
   ]
  },
  {
   "cell_type": "code",
   "execution_count": 100,
   "metadata": {},
   "outputs": [
    {
     "name": "stderr",
     "output_type": "stream",
     "text": [
      "C:\\Users\\mathi\\Anaconda3\\lib\\site-packages\\sklearn\\model_selection\\_split.py:1978: FutureWarning: The default value of cv will change from 3 to 5 in version 0.22. Specify it explicitly to silence this warning.\n",
      "  warnings.warn(CV_WARNING, FutureWarning)\n"
     ]
    }
   ],
   "source": [
    "reg=LassoCV().fit(X2,y**(1/3))\n",
    "model2=Lasso(alpha=reg.alpha_).fit(X2,y**(1/3))"
   ]
  },
  {
   "cell_type": "code",
   "execution_count": 101,
   "metadata": {},
   "outputs": [
    {
     "data": {
      "text/plain": [
       "0.721944393976748"
      ]
     },
     "execution_count": 101,
     "metadata": {},
     "output_type": "execute_result"
    }
   ],
   "source": [
    "model2.score(X2,y**(1/3))"
   ]
  },
  {
   "cell_type": "code",
   "execution_count": 102,
   "metadata": {},
   "outputs": [],
   "source": [
    "y_test_pred2=model2.predict(X2_2)"
   ]
  },
  {
   "cell_type": "code",
   "execution_count": 103,
   "metadata": {},
   "outputs": [],
   "source": [
    "comp2=pd.DataFrame(y_test_pred2**3,y_2).reset_index()\n",
    "comp2['diff']=comp2.discount_flag-comp2[0]"
   ]
  },
  {
   "cell_type": "code",
   "execution_count": 104,
   "metadata": {},
   "outputs": [
    {
     "data": {
      "text/html": [
       "<div>\n",
       "<style scoped>\n",
       "    .dataframe tbody tr th:only-of-type {\n",
       "        vertical-align: middle;\n",
       "    }\n",
       "\n",
       "    .dataframe tbody tr th {\n",
       "        vertical-align: top;\n",
       "    }\n",
       "\n",
       "    .dataframe thead th {\n",
       "        text-align: right;\n",
       "    }\n",
       "</style>\n",
       "<table border=\"1\" class=\"dataframe\">\n",
       "  <thead>\n",
       "    <tr style=\"text-align: right;\">\n",
       "      <th></th>\n",
       "      <th>discount_flag</th>\n",
       "      <th>0</th>\n",
       "      <th>diff</th>\n",
       "    </tr>\n",
       "  </thead>\n",
       "  <tbody>\n",
       "    <tr>\n",
       "      <th>count</th>\n",
       "      <td>1190.000000</td>\n",
       "      <td>1190.000000</td>\n",
       "      <td>1190.000000</td>\n",
       "    </tr>\n",
       "    <tr>\n",
       "      <th>mean</th>\n",
       "      <td>32.332773</td>\n",
       "      <td>26.452543</td>\n",
       "      <td>5.880230</td>\n",
       "    </tr>\n",
       "    <tr>\n",
       "      <th>std</th>\n",
       "      <td>11.400877</td>\n",
       "      <td>3.242358</td>\n",
       "      <td>11.162240</td>\n",
       "    </tr>\n",
       "    <tr>\n",
       "      <th>min</th>\n",
       "      <td>5.000000</td>\n",
       "      <td>16.543732</td>\n",
       "      <td>-31.215546</td>\n",
       "    </tr>\n",
       "    <tr>\n",
       "      <th>25%</th>\n",
       "      <td>25.000000</td>\n",
       "      <td>24.425402</td>\n",
       "      <td>-2.390012</td>\n",
       "    </tr>\n",
       "    <tr>\n",
       "      <th>50%</th>\n",
       "      <td>30.000000</td>\n",
       "      <td>26.644798</td>\n",
       "      <td>4.377719</td>\n",
       "    </tr>\n",
       "    <tr>\n",
       "      <th>75%</th>\n",
       "      <td>40.000000</td>\n",
       "      <td>28.166819</td>\n",
       "      <td>12.507073</td>\n",
       "    </tr>\n",
       "    <tr>\n",
       "      <th>max</th>\n",
       "      <td>72.000000</td>\n",
       "      <td>51.215546</td>\n",
       "      <td>46.547011</td>\n",
       "    </tr>\n",
       "  </tbody>\n",
       "</table>\n",
       "</div>"
      ],
      "text/plain": [
       "       discount_flag            0         diff\n",
       "count    1190.000000  1190.000000  1190.000000\n",
       "mean       32.332773    26.452543     5.880230\n",
       "std        11.400877     3.242358    11.162240\n",
       "min         5.000000    16.543732   -31.215546\n",
       "25%        25.000000    24.425402    -2.390012\n",
       "50%        30.000000    26.644798     4.377719\n",
       "75%        40.000000    28.166819    12.507073\n",
       "max        72.000000    51.215546    46.547011"
      ]
     },
     "execution_count": 104,
     "metadata": {},
     "output_type": "execute_result"
    }
   ],
   "source": [
    "comp2.describe()"
   ]
  },
  {
   "cell_type": "code",
   "execution_count": 105,
   "metadata": {},
   "outputs": [
    {
     "data": {
      "image/png": "[encoded data removed]",
      "text/plain": [
       "<Figure size 432x288 with 1 Axes>"
      ]
     },
     "metadata": {
      "needs_background": "light"
     },
     "output_type": "display_data"
    }
   ],
   "source": [
    "sns.scatterplot(y_test_pred2**3,y_2);"
   ]
  },
  {
   "cell_type": "code",
   "execution_count": 106,
   "metadata": {
    "scrolled": true
   },
   "outputs": [
    {
     "data": {
      "text/plain": [
       "(360, 3)"
      ]
     },
     "execution_count": 106,
     "metadata": {},
     "output_type": "execute_result"
    }
   ],
   "source": [
    "comp2[comp2['diff']<0].shape"
   ]
  },
  {
   "cell_type": "code",
   "execution_count": null,
   "metadata": {},
   "outputs": [],
   "source": []
  },
  {
   "cell_type": "markdown",
   "metadata": {},
   "source": [
    "# Ridge Prediction"
   ]
  },
  {
   "cell_type": "code",
   "execution_count": 107,
   "metadata": {},
   "outputs": [],
   "source": [
    "model3=Ridge(alpha=10).fit(X2,y**(1/4))"
   ]
  },
  {
   "cell_type": "code",
   "execution_count": 108,
   "metadata": {
    "scrolled": true
   },
   "outputs": [
    {
     "data": {
      "text/plain": [
       "array([2.42437635, 2.25212719, 2.07103519, ..., 2.18455051, 2.12963183,\n",
       "       2.09681172])"
      ]
     },
     "execution_count": 108,
     "metadata": {},
     "output_type": "execute_result"
    }
   ],
   "source": [
    "y_test_pred3=model3.predict(X2_2)\n",
    "y_test_pred3"
   ]
  },
  {
   "cell_type": "code",
   "execution_count": 109,
   "metadata": {},
   "outputs": [
    {
     "data": {
      "text/plain": [
       "0.8173307611153731"
      ]
     },
     "execution_count": 109,
     "metadata": {},
     "output_type": "execute_result"
    }
   ],
   "source": [
    "model3.score(X2,(y**(1/4)))"
   ]
  },
  {
   "cell_type": "code",
   "execution_count": 110,
   "metadata": {},
   "outputs": [],
   "source": [
    "comp3=pd.DataFrame(y_test_pred3**4,y_2).reset_index()\n",
    "comp3['diff']=comp3.discount_flag-comp3[0]"
   ]
  },
  {
   "cell_type": "code",
   "execution_count": 111,
   "metadata": {},
   "outputs": [
    {
     "data": {
      "text/html": [
       "<div>\n",
       "<style scoped>\n",
       "    .dataframe tbody tr th:only-of-type {\n",
       "        vertical-align: middle;\n",
       "    }\n",
       "\n",
       "    .dataframe tbody tr th {\n",
       "        vertical-align: top;\n",
       "    }\n",
       "\n",
       "    .dataframe thead th {\n",
       "        text-align: right;\n",
       "    }\n",
       "</style>\n",
       "<table border=\"1\" class=\"dataframe\">\n",
       "  <thead>\n",
       "    <tr style=\"text-align: right;\">\n",
       "      <th></th>\n",
       "      <th>discount_flag</th>\n",
       "      <th>0</th>\n",
       "      <th>diff</th>\n",
       "    </tr>\n",
       "  </thead>\n",
       "  <tbody>\n",
       "    <tr>\n",
       "      <th>count</th>\n",
       "      <td>1190.000000</td>\n",
       "      <td>1190.000000</td>\n",
       "      <td>1190.000000</td>\n",
       "    </tr>\n",
       "    <tr>\n",
       "      <th>mean</th>\n",
       "      <td>32.332773</td>\n",
       "      <td>25.340509</td>\n",
       "      <td>6.992264</td>\n",
       "    </tr>\n",
       "    <tr>\n",
       "      <th>std</th>\n",
       "      <td>11.400877</td>\n",
       "      <td>3.140653</td>\n",
       "      <td>11.160077</td>\n",
       "    </tr>\n",
       "    <tr>\n",
       "      <th>min</th>\n",
       "      <td>5.000000</td>\n",
       "      <td>16.332787</td>\n",
       "      <td>-30.104634</td>\n",
       "    </tr>\n",
       "    <tr>\n",
       "      <th>25%</th>\n",
       "      <td>25.000000</td>\n",
       "      <td>23.456409</td>\n",
       "      <td>-1.318537</td>\n",
       "    </tr>\n",
       "    <tr>\n",
       "      <th>50%</th>\n",
       "      <td>30.000000</td>\n",
       "      <td>25.556149</td>\n",
       "      <td>5.545611</td>\n",
       "    </tr>\n",
       "    <tr>\n",
       "      <th>75%</th>\n",
       "      <td>40.000000</td>\n",
       "      <td>26.949266</td>\n",
       "      <td>13.674609</td>\n",
       "    </tr>\n",
       "    <tr>\n",
       "      <th>max</th>\n",
       "      <td>72.000000</td>\n",
       "      <td>50.104634</td>\n",
       "      <td>47.508463</td>\n",
       "    </tr>\n",
       "  </tbody>\n",
       "</table>\n",
       "</div>"
      ],
      "text/plain": [
       "       discount_flag            0         diff\n",
       "count    1190.000000  1190.000000  1190.000000\n",
       "mean       32.332773    25.340509     6.992264\n",
       "std        11.400877     3.140653    11.160077\n",
       "min         5.000000    16.332787   -30.104634\n",
       "25%        25.000000    23.456409    -1.318537\n",
       "50%        30.000000    25.556149     5.545611\n",
       "75%        40.000000    26.949266    13.674609\n",
       "max        72.000000    50.104634    47.508463"
      ]
     },
     "execution_count": 111,
     "metadata": {},
     "output_type": "execute_result"
    }
   ],
   "source": [
    "comp3.describe()"
   ]
  },
  {
   "cell_type": "code",
   "execution_count": 112,
   "metadata": {},
   "outputs": [
    {
     "data": {
      "image/png": "[encoded data removed]",
      "text/plain": [
       "<Figure size 432x288 with 1 Axes>"
      ]
     },
     "metadata": {
      "needs_background": "light"
     },
     "output_type": "display_data"
    }
   ],
   "source": [
    "sns.scatterplot(y_test_pred3**4,y_2);"
   ]
  },
  {
   "cell_type": "code",
   "execution_count": 113,
   "metadata": {
    "scrolled": true
   },
   "outputs": [
    {
     "data": {
      "text/plain": [
       "(274, 3)"
      ]
     },
     "execution_count": 113,
     "metadata": {},
     "output_type": "execute_result"
    }
   ],
   "source": [
    "comp3[comp3['diff']<-2].shape"
   ]
  },
  {
   "cell_type": "code",
   "execution_count": 114,
   "metadata": {},
   "outputs": [
    {
     "data": {
      "text/plain": [
       "(331, 3)"
      ]
     },
     "execution_count": 114,
     "metadata": {},
     "output_type": "execute_result"
    }
   ],
   "source": [
    "comp3[comp3['diff']<0].shape"
   ]
  },
  {
   "cell_type": "code",
   "execution_count": 115,
   "metadata": {},
   "outputs": [
    {
     "data": {
      "text/plain": [
       "(179, 3)"
      ]
     },
     "execution_count": 115,
     "metadata": {},
     "output_type": "execute_result"
    }
   ],
   "source": [
    "comp3[comp3['diff']<-5].shape"
   ]
  },
  {
   "cell_type": "code",
   "execution_count": null,
   "metadata": {},
   "outputs": [],
   "source": []
  }
 ],
 "metadata": {
  "kernelspec": {
   "display_name": "Python 3",
   "language": "python",
   "name": "python3"
  },
  "language_info": {
   "codemirror_mode": {
    "name": "ipython",
    "version": 3
   },
   "file_extension": ".py",
   "mimetype": "text/x-python",
   "name": "python",
   "nbconvert_exporter": "python",
   "pygments_lexer": "ipython3",
   "version": "3.7.3"
  }
 },
 "nbformat": 4,
 "nbformat_minor": 2
}
